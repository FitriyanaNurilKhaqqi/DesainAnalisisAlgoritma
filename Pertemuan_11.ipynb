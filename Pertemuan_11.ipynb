{
  "nbformat": 4,
  "nbformat_minor": 0,
  "metadata": {
    "colab": {
      "provenance": []
    },
    "kernelspec": {
      "name": "python3",
      "display_name": "Python 3"
    },
    "language_info": {
      "name": "python"
    }
  },
  "cells": [
    {
      "cell_type": "markdown",
      "source": [
        "Nama: Fitriyana Nuril Khaqqi                                                              \n",
        "NIM: 2022071003"
      ],
      "metadata": {
        "id": "s4xH4UdKOKaq"
      }
    },
    {
      "cell_type": "code",
      "source": [
        "# Create dictionary with graph element\n",
        "'''\n",
        "a-----b\n",
        "|     |\n",
        "|     |\n",
        "c-----d----e\n",
        "'''\n",
        "\n",
        "graph = {\"a\" : [\"b\", \"c\"],\n",
        "         \"b\" : [\"a\", \"d\"],\n",
        "         \"c\" : [\"a\", \"d\"],\n",
        "         \"d\" : [\"e\"],\n",
        "         \"e\" : [\"d\"]\n",
        "          }\n",
        "\n",
        "print(graph)"
      ],
      "metadata": {
        "colab": {
          "base_uri": "https://localhost:8080/"
        },
        "id": "3PMdz01wU884",
        "outputId": "b467a8f3-eae6-4d5d-a7ab-5fc6323214b9"
      },
      "execution_count": null,
      "outputs": [
        {
          "output_type": "stream",
          "name": "stdout",
          "text": [
            "{'a': ['b', 'c'], 'b': ['a', 'd'], 'c': ['a', 'd'], 'd': ['e'], 'e': ['d']}\n"
          ]
        }
      ]
    },
    {
      "cell_type": "code",
      "source": [
        "# Latihan buat graph\n",
        "'''\n",
        "T-------U-------V\n",
        "|               |\n",
        "W---------------X\n",
        "|               |\n",
        "Z               S\n",
        "'''\n",
        "\n",
        "graph1 = {  \"T\" : [\"U\", \"W\"],\n",
        "            \"U\" : [\"V\"],\n",
        "            \"V\" : [\"U\", \"X\"],\n",
        "            \"W\" : [\"X\", \"Z\"],\n",
        "            \"X\" : [\"S\", \"W\"]\n",
        "        }\n",
        "\n",
        "print(graph1)"
      ],
      "metadata": {
        "colab": {
          "base_uri": "https://localhost:8080/"
        },
        "id": "wDtokhtrXXDo",
        "outputId": "c563dc38-4928-42a0-d3c5-ef8ecdc1affd"
      },
      "execution_count": null,
      "outputs": [
        {
          "output_type": "stream",
          "name": "stdout",
          "text": [
            "{'T': ['U', 'W'], 'U': ['V'], 'V': ['U', 'X'], 'W': ['X', 'Z'], 'X': ['S', 'W']}\n"
          ]
        }
      ]
    },
    {
      "cell_type": "code",
      "source": [
        "# Latihan buat graph\n",
        "'''\n",
        "r-------o-------m\n",
        "|       |       |\n",
        "l-------p-------n\n",
        "'''\n",
        "\n",
        "graph2 = {  \"r\" : [\"o\", \"l\"],\n",
        "            \"o\" : [\"m\", \"p\"],\n",
        "            \"m\" : [\"o\", \"n\"],\n",
        "            \"l\" : [\"r\", \"p\"],\n",
        "            \"p\" : [\"o\", \"n\"],\n",
        "            \"n\" : [\"m\", \"p\"]\n",
        "        }\n",
        "\n",
        "print(graph2)"
      ],
      "metadata": {
        "colab": {
          "base_uri": "https://localhost:8080/"
        },
        "id": "3OM3_M2yXipu",
        "outputId": "38fbb39c-59af-4d3a-a3d7-017123072df5"
      },
      "execution_count": null,
      "outputs": [
        {
          "output_type": "stream",
          "name": "stdout",
          "text": [
            "{'r': ['o', 'l'], 'o': ['m', 'p'], 'm': ['o', 'n'], 'l': ['r', 'p'], 'p': ['o', 'n'], 'n': ['m', 'p']}\n"
          ]
        }
      ]
    },
    {
      "cell_type": "code",
      "source": [
        "# Menampilkan simpul graph\n",
        "\n",
        "class Graph:\n",
        "  def __init__(self, gdict=None):\n",
        "    if gdict is None:\n",
        "      gdict = {}\n",
        "    self.gdict = gdict\n",
        "\n",
        "  # get the keys of the dictionnary\n",
        "  def getVertices(self):\n",
        "    return list(self.gdict.keys())\n",
        "\n",
        "  def edges(self):\n",
        "    return self.findedges()\n",
        "\n",
        "  # add the new edge\n",
        "  def addEdge(self, edge):\n",
        "    edge = set(edge)\n",
        "    (vrtx1, vrtx2) = tuple(edge)\n",
        "    if vrtx1 in self.gdict:\n",
        "      self.gdict[vrtx1].append(vrtx2)\n",
        "    else:\n",
        "      self.gdict[vrtx1] = [vrtx2]\n",
        "\n",
        "  # Find the distinct list of edges\n",
        "  def findedges(self):\n",
        "    edgename = []\n",
        "    for vrtx in self.gdict:\n",
        "      for nxtvrtx in self.gdict[vrtx]:\n",
        "        if {nxtvrtx, vrtx} not in edgename:\n",
        "          edgename.append({vrtx, nxtvrtx})\n",
        "    return edgename\n",
        "\n",
        "  # Add the vertex as a key\n",
        "  def addVertex(self, vrtx):\n",
        "    if vrtx not in self.gdict:\n",
        "      self.gdict[vrtx] = []\n",
        "\n",
        "# Create dictionary with graph elements\n",
        "graph_elements = {\n",
        "    \"a\" : [\"b\", \"c\"],\n",
        "    \"b\" : [\"a\", \"d\"],\n",
        "    \"c\" : [\"a\", \"d\"],\n",
        "    \"d\" : [\"e\"],\n",
        "    \"e\" : [\"d\"]\n",
        "}\n",
        "\n",
        "# Create an instance of the graph class and pass the graph_elements\n",
        "g = Graph(graph_elements)\n",
        "\n",
        "\n",
        "# Print the vertices by calling the getVertices method in parentheses\n",
        "print(g.getVertices())\n",
        "print(g.edges())\n",
        "\n",
        "# Menambah simpul\n",
        "g.addVertex(\"f\")\n",
        "print(g.getVertices())\n",
        "\n",
        "# menambah sudut\n",
        "g.addEdge({'f', 'b'})\n",
        "g.addEdge({'f', 'e'})\n",
        "print(g.edges())"
      ],
      "metadata": {
        "colab": {
          "base_uri": "https://localhost:8080/"
        },
        "id": "_r7mtdWJZd7_",
        "outputId": "e5fc2583-0cfd-49f9-8a02-53892cbd3481"
      },
      "execution_count": 26,
      "outputs": [
        {
          "output_type": "stream",
          "name": "stdout",
          "text": [
            "['a', 'b', 'c', 'd', 'e']\n",
            "[{'a', 'b'}, {'a', 'c'}, {'d', 'b'}, {'d', 'c'}, {'d', 'e'}]\n",
            "['a', 'b', 'c', 'd', 'e', 'f']\n",
            "[{'a', 'b'}, {'a', 'c'}, {'d', 'b'}, {'d', 'c'}, {'d', 'e'}, {'f', 'b'}, {'f', 'e'}]\n"
          ]
        }
      ]
    },
    {
      "cell_type": "code",
      "source": [
        "# Latihan elemen simpul graph TUV\n",
        "# Create dictionary with graph elements\n",
        "graph_elements1 = {\n",
        "            \"T\" : [\"U\", \"W\"],\n",
        "            \"U\" : [\"V\"],\n",
        "            \"V\" : [\"U\", \"X\"],\n",
        "            \"W\" : [\"X\", \"Z\"],\n",
        "            \"X\" : [\"S\", \"W\"],\n",
        "            \"Z\" : [\"W\"],\n",
        "            \"S\" : [\"X\"]\n",
        "        }\n",
        "\n",
        "# Create an instance of the graph class and pass the graph_elements\n",
        "g1 = Graph(graph_elements1)\n",
        "\n",
        "# Print the vertices by calling the getVertices method in parentheses\n",
        "print(g1.getVertices())"
      ],
      "metadata": {
        "colab": {
          "base_uri": "https://localhost:8080/"
        },
        "id": "jC4cuaJraqbX",
        "outputId": "51a32cfe-9b6c-4a99-ff95-d5c888427758"
      },
      "execution_count": null,
      "outputs": [
        {
          "output_type": "stream",
          "name": "stdout",
          "text": [
            "['T', 'U', 'V', 'W', 'X', 'Z', 'S']\n"
          ]
        }
      ]
    },
    {
      "cell_type": "code",
      "source": [
        "# Latihan elemen simpul graph rom\n",
        "# Create dictionary with graph elements\n",
        "graph_elements2 = {\n",
        "            \"r\" : [\"o\", \"l\"],\n",
        "            \"o\" : [\"m\", \"p\"],\n",
        "            \"m\" : [\"o\", \"n\"],\n",
        "            \"l\" : [\"r\", \"p\"],\n",
        "            \"p\" : [\"o\", \"n\"],\n",
        "            \"n\" : [\"m\", \"p\"]\n",
        "        }\n",
        "\n",
        "# Create an instance of the graph class and pass the graph_elements\n",
        "g2 = Graph(graph_elements2)\n",
        "\n",
        "# Print the vertices by calling the getVertices method in parentheses\n",
        "print(g2.getVertices())"
      ],
      "metadata": {
        "colab": {
          "base_uri": "https://localhost:8080/"
        },
        "id": "02dycEOEa6pG",
        "outputId": "041596e2-a6bb-421c-f2eb-9ac9a4496daa"
      },
      "execution_count": null,
      "outputs": [
        {
          "output_type": "stream",
          "name": "stdout",
          "text": [
            "['r', 'o', 'm', 'l', 'p', 'n']\n"
          ]
        }
      ]
    },
    {
      "cell_type": "code",
      "source": [
        "# Latihan sudut graph TUV\n",
        "# Create dictionary with graph elements\n",
        "graph_elements1 = {\n",
        "            \"T\" : [\"U\", \"W\"],\n",
        "            \"U\" : [\"V\"],\n",
        "            \"V\" : [\"U\", \"X\"],\n",
        "            \"W\" : [\"X\", \"Z\"],\n",
        "            \"X\" : [\"S\", \"W\"],\n",
        "            \"Z\" : [\"W\"],\n",
        "            \"S\" : [\"X\"]\n",
        "        }\n",
        "\n",
        "# Create an instance of the graph class and pass the graph_elements\n",
        "g1 = Graph(graph_elements1)\n",
        "\n",
        "# Print the vertices by calling the getVertices method in parentheses\n",
        "print(g1.edges())"
      ],
      "metadata": {
        "colab": {
          "base_uri": "https://localhost:8080/"
        },
        "id": "wYXlGP_BbvMV",
        "outputId": "8cd36ac9-76c9-460c-fe1d-ecb2e8fa168b"
      },
      "execution_count": null,
      "outputs": [
        {
          "output_type": "stream",
          "name": "stdout",
          "text": [
            "[{'U', 'T'}, {'T', 'W'}, {'V', 'U'}, {'V', 'X'}, {'X', 'W'}, {'Z', 'W'}, {'S', 'X'}]\n"
          ]
        }
      ]
    },
    {
      "cell_type": "code",
      "source": [],
      "metadata": {
        "id": "fZhBT6IhdLc0"
      },
      "execution_count": null,
      "outputs": []
    },
    {
      "cell_type": "code",
      "source": [
        "# Latihan sudut graph r o m\n",
        "# Create dictionary with graph elements\n",
        "graph_elements2 = {\n",
        "            \"r\" : [\"o\", \"l\"],\n",
        "            \"o\" : [\"m\", \"p\"],\n",
        "            \"m\" : [\"o\", \"n\"],\n",
        "            \"l\" : [\"r\", \"p\"],\n",
        "            \"p\" : [\"o\", \"n\"],\n",
        "            \"n\" : [\"m\", \"p\"]\n",
        "        }\n",
        "\n",
        "# Create an instance of the graph class and pass the graph_elements\n",
        "g2 = Graph(graph_elements2)\n",
        "\n",
        "# Print the vertices by calling the getVertices method in parentheses\n",
        "print(g2.edges())"
      ],
      "metadata": {
        "colab": {
          "base_uri": "https://localhost:8080/"
        },
        "id": "CF_iG2-CciCG",
        "outputId": "02f1c5ff-0cb3-4716-c569-657b7cbc9223"
      },
      "execution_count": null,
      "outputs": [
        {
          "output_type": "stream",
          "name": "stdout",
          "text": [
            "[{'r', 'o'}, {'r', 'l'}, {'m', 'o'}, {'p', 'o'}, {'m', 'n'}, {'p', 'l'}, {'n', 'p'}]\n"
          ]
        }
      ]
    },
    {
      "cell_type": "code",
      "source": [
        "# Latihan tambah simpul pada graph TUV\n",
        "graph_elements1 = {\n",
        "            \"T\" : [\"U\", \"W\"],\n",
        "            \"U\" : [\"V\"],\n",
        "            \"V\" : [\"U\", \"X\"],\n",
        "            \"W\" : [\"X\", \"Z\"],\n",
        "            \"X\" : [\"S\", \"W\"],\n",
        "            \"Z\" : [\"W\"],\n",
        "            \"S\" : [\"X\"]\n",
        "        }\n",
        "\n",
        "# Create an instance of the graph class and pass the graph_elements\n",
        "g1 = Graph(graph_elements1)\n",
        "\n",
        "g1.addVertex(\"R\")\n",
        "print(g1.getVertices())"
      ],
      "metadata": {
        "colab": {
          "base_uri": "https://localhost:8080/"
        },
        "id": "HnvnASDJeNlu",
        "outputId": "afe17205-9d00-4f1a-d693-bed76c960060"
      },
      "execution_count": 22,
      "outputs": [
        {
          "output_type": "stream",
          "name": "stdout",
          "text": [
            "['T', 'U', 'V', 'W', 'X', 'Z', 'S', 'R']\n"
          ]
        }
      ]
    },
    {
      "cell_type": "code",
      "source": [
        "# Latihan tambah simpul pada graph r o m\n",
        "# Create dictionary with graph elements\n",
        "graph_elements2 = {\n",
        "            \"r\" : [\"o\", \"l\"],\n",
        "            \"o\" : [\"m\", \"p\"],\n",
        "            \"m\" : [\"o\", \"n\"],\n",
        "            \"l\" : [\"r\", \"p\"],\n",
        "            \"p\" : [\"o\", \"n\"],\n",
        "            \"n\" : [\"m\", \"p\"]\n",
        "        }\n",
        "\n",
        "# Create an instance of the graph class and pass the graph_elements\n",
        "g2 = Graph(graph_elements2)\n",
        "\n",
        "g2.addVertex(\"K\")\n",
        "g2.addVertex(\"J\")\n",
        "print(g2.getVertices())"
      ],
      "metadata": {
        "colab": {
          "base_uri": "https://localhost:8080/"
        },
        "id": "cNMJSshOewEm",
        "outputId": "dcc59377-f5be-4e56-ecd3-08ea58a01ece"
      },
      "execution_count": 24,
      "outputs": [
        {
          "output_type": "stream",
          "name": "stdout",
          "text": [
            "['r', 'o', 'm', 'l', 'p', 'n', 'K', 'J']\n"
          ]
        }
      ]
    },
    {
      "cell_type": "code",
      "source": [
        "# Latihan tambah simpul pada edge TUV\n",
        "# Create dictionary with graph elements\n",
        "graph_elements1 = {\n",
        "            \"T\" : [\"U\", \"W\"],\n",
        "            \"U\" : [\"V\"],\n",
        "            \"V\" : [\"U\", \"X\"],\n",
        "            \"W\" : [\"X\", \"Z\"],\n",
        "            \"X\" : [\"S\", \"W\"],\n",
        "            \"Z\" : [\"W\"],\n",
        "            \"S\" : [\"X\"]\n",
        "        }\n",
        "\n",
        "# Create an instance of the graph class and pass the graph_elements\n",
        "g1 = Graph(graph_elements1)\n",
        "\n",
        "g1.addEdge({'R', 'Z'})\n",
        "g1.addEdge({'R', 'S'})\n",
        "print(g1.edges())"
      ],
      "metadata": {
        "colab": {
          "base_uri": "https://localhost:8080/"
        },
        "id": "hk-O9U57f5FF",
        "outputId": "6f106183-b07e-4389-e19e-153dce05f18a"
      },
      "execution_count": 23,
      "outputs": [
        {
          "output_type": "stream",
          "name": "stdout",
          "text": [
            "[{'T', 'U'}, {'T', 'W'}, {'V', 'U'}, {'X', 'V'}, {'X', 'W'}, {'Z', 'W'}, {'X', 'S'}, {'Z', 'R'}, {'R', 'S'}]\n"
          ]
        }
      ]
    },
    {
      "cell_type": "code",
      "source": [
        "# Latihan tambah simpul pada edge r o m\n",
        "# Create dictionary with graph elements\n",
        "graph_elements2 = {\n",
        "            \"r\" : [\"o\", \"l\"],\n",
        "            \"o\" : [\"m\", \"p\"],\n",
        "            \"m\" : [\"o\", \"n\"],\n",
        "            \"l\" : [\"r\", \"p\"],\n",
        "            \"p\" : [\"o\", \"n\"],\n",
        "            \"n\" : [\"m\", \"p\"]\n",
        "        }\n",
        "\n",
        "# Create an instance of the graph class and pass the graph_elements\n",
        "g2 = Graph(graph_elements2)\n",
        "\n",
        "g2.addEdge({'K', 'l'})\n",
        "g2.addEdge({'J', 'n'})\n",
        "print(g2.edges())"
      ],
      "metadata": {
        "colab": {
          "base_uri": "https://localhost:8080/"
        },
        "id": "roiPqKX-gJx-",
        "outputId": "269d1e13-bb2c-4aeb-e6b2-309c6acf489e"
      },
      "execution_count": 25,
      "outputs": [
        {
          "output_type": "stream",
          "name": "stdout",
          "text": [
            "[{'r', 'o'}, {'r', 'l'}, {'m', 'o'}, {'p', 'o'}, {'n', 'm'}, {'p', 'l'}, {'n', 'p'}, {'n', 'J'}, {'K', 'l'}]\n"
          ]
        }
      ]
    },
    {
      "cell_type": "code",
      "source": [
        "# Graph LINKED_LIST"
      ],
      "metadata": {
        "id": "so1eJAusyjlJ"
      },
      "execution_count": null,
      "outputs": []
    }
  ]
}