{
  "nbformat": 4,
  "nbformat_minor": 0,
  "metadata": {
    "colab": {
      "provenance": []
    },
    "kernelspec": {
      "name": "python3",
      "display_name": "Python 3"
    },
    "language_info": {
      "name": "python"
    }
  },
  "cells": [
    {
      "cell_type": "code",
      "source": [
        "from datetime import date"
      ],
      "metadata": {
        "id": "LshRjopuKBCz"
      },
      "execution_count": null,
      "outputs": []
    },
    {
      "cell_type": "code",
      "execution_count": null,
      "metadata": {
        "id": "p6Eg2DipI5YD"
      },
      "outputs": [],
      "source": [
        "Mahasiswa = [\"Nama: Fitriyana Nuril Khaqqi\", \"NIM: 2022071003\", \"Prodi: Informatika\", \"Matkul: Desain Analisis dan Algoritma\", \"Nama Universitas: Universitas Pembangunan Jaya\", \"Tanggal hari ini: \" + str(date.today())]"
      ]
    },
    {
      "cell_type": "code",
      "source": [
        "a= 0\n",
        "for i in Mahasiswa:\n",
        "  print(\"Indeks ke-\", a, \"=\", i)\n",
        "  a+= 1"
      ],
      "metadata": {
        "colab": {
          "base_uri": "https://localhost:8080/"
        },
        "id": "0RI59ivkKJ-Z",
        "outputId": "660a5f09-3063-42e7-f27a-2ee9b20b54ea"
      },
      "execution_count": null,
      "outputs": [
        {
          "output_type": "stream",
          "name": "stdout",
          "text": [
            "Indeks ke- 0 = Nama: Fitriyana Nuril Khaqqi\n",
            "Indeks ke- 1 = NIM: 2022071003\n",
            "Indeks ke- 2 = Prodi: Informatika\n",
            "Indeks ke- 3 = Matkul: Desain Analisis dan Algoritma\n",
            "Indeks ke- 4 = Nama Universitas: Universitas Pembangunan Jaya\n",
            "Indeks ke- 5 = Tanggal hari ini: 2023-09-13\n"
          ]
        }
      ]
    },
    {
      "cell_type": "code",
      "source": [
        "print(Mahasiswa[0])\n",
        "print(Mahasiswa[1])\n",
        "print(Mahasiswa[2])\n",
        "print(Mahasiswa[3])\n",
        "print(Mahasiswa[4])\n",
        "print(Mahasiswa[5])"
      ],
      "metadata": {
        "colab": {
          "base_uri": "https://localhost:8080/"
        },
        "id": "fkbzUXrhR09j",
        "outputId": "d3d7e67e-7014-4be6-c1bf-11335978b13d"
      },
      "execution_count": null,
      "outputs": [
        {
          "output_type": "stream",
          "name": "stdout",
          "text": [
            "Nama: Fitriyana Nuril Khaqqi\n",
            "NIM: 2022071003\n",
            "Prodi: Informatika\n",
            "Matkul: Desain Analisis dan Algoritma\n",
            "Nama Universitas: Universitas Pembangunan Jaya\n",
            "Tanggal hari ini: 2023-09-13\n"
          ]
        }
      ]
    },
    {
      "cell_type": "code",
      "source": [
        "bin_colors = ['Red','Green', 'Blue', 'Yellow']\n",
        "print(bin_colors)"
      ],
      "metadata": {
        "colab": {
          "base_uri": "https://localhost:8080/"
        },
        "id": "wTYbQOVdNi-W",
        "outputId": "cf15399e-bf8f-4278-fe63-d5f8060f8a54"
      },
      "execution_count": null,
      "outputs": [
        {
          "output_type": "stream",
          "name": "stdout",
          "text": [
            "['Red', 'Green', 'Blue', 'Yellow']\n"
          ]
        }
      ]
    },
    {
      "cell_type": "code",
      "source": [
        "print(bin_colors[0:1])\n",
        "print(bin_colors[0:-1])\n",
        "print(bin_colors[:4])\n",
        "print(bin_colors[-2:])"
      ],
      "metadata": {
        "colab": {
          "base_uri": "https://localhost:8080/"
        },
        "id": "nkcwdPuQUBp0",
        "outputId": "284f2a05-c0bf-45ea-c9c4-2c070b5e9753"
      },
      "execution_count": null,
      "outputs": [
        {
          "output_type": "stream",
          "name": "stdout",
          "text": [
            "['Red']\n",
            "['Red', 'Green', 'Blue']\n",
            "['Red', 'Green', 'Blue', 'Yellow']\n",
            "['Blue', 'Yellow']\n"
          ]
        }
      ]
    },
    {
      "cell_type": "code",
      "source": [
        "for i in Mahasiswa:\n",
        "  print(i + \" square\")"
      ],
      "metadata": {
        "colab": {
          "base_uri": "https://localhost:8080/"
        },
        "id": "f-njr1meXHA-",
        "outputId": "09218af8-68cb-4e7c-abb4-430aa8fa1837"
      },
      "execution_count": null,
      "outputs": [
        {
          "output_type": "stream",
          "name": "stdout",
          "text": [
            "Nama: Fitriyana Nuril Khaqqi square\n",
            "NIM: 2022071003 square\n",
            "Prodi: Informatika square\n",
            "Matkul: Desain Analisis dan Algoritma square\n",
            "Nama Universitas: Universitas Pembangunan Jaya square\n",
            "Tanggal hari ini: 2023-09-13 square\n"
          ]
        }
      ]
    },
    {
      "cell_type": "code",
      "source": [
        "UPJ = (\"Universitas\", \"Pembangunan\", \"Jaya\")\n",
        "print(UPJ)"
      ],
      "metadata": {
        "colab": {
          "base_uri": "https://localhost:8080/"
        },
        "id": "-MJq6KxNP7pO",
        "outputId": "7ac9c8ae-97db-4b9c-e1bd-c819b1c3fd26"
      },
      "execution_count": null,
      "outputs": [
        {
          "output_type": "stream",
          "name": "stdout",
          "text": [
            "('Universitas', 'Pembangunan', 'Jaya')\n"
          ]
        }
      ]
    },
    {
      "cell_type": "code",
      "source": [
        "bin_colors ={ \"manual_color\": \"Yellow\", \"approved_color\": \"Green\", \"refused_color\": \"Red\" }\n",
        "print(bin_colors)"
      ],
      "metadata": {
        "colab": {
          "base_uri": "https://localhost:8080/"
        },
        "id": "qSL1xaYvneLT",
        "outputId": "c6b56210-a708-4cc5-e6b2-840c8f2f90df"
      },
      "execution_count": null,
      "outputs": [
        {
          "output_type": "stream",
          "name": "stdout",
          "text": [
            "{'manual_color': 'Yellow', 'approved_color': 'Green', 'refused_color': 'Red'}\n"
          ]
        }
      ]
    },
    {
      "cell_type": "code",
      "source": [
        "bin_colors.get('approved_color')"
      ],
      "metadata": {
        "colab": {
          "base_uri": "https://localhost:8080/",
          "height": 35
        },
        "id": "e6z7BqU0ntvs",
        "outputId": "fbecf387-9645-4452-b9be-6883e83cba2f"
      },
      "execution_count": null,
      "outputs": [
        {
          "output_type": "execute_result",
          "data": {
            "text/plain": [
              "'Green'"
            ],
            "application/vnd.google.colaboratory.intrinsic+json": {
              "type": "string"
            }
          },
          "metadata": {},
          "execution_count": 117
        }
      ]
    },
    {
      "cell_type": "code",
      "source": [
        "bin_colors['approved_color']"
      ],
      "metadata": {
        "colab": {
          "base_uri": "https://localhost:8080/",
          "height": 35
        },
        "id": "yvsk02xjn0UJ",
        "outputId": "4365a212-1c34-4fb5-e1dc-221ca6ac015f"
      },
      "execution_count": null,
      "outputs": [
        {
          "output_type": "execute_result",
          "data": {
            "text/plain": [
              "'Green'"
            ],
            "application/vnd.google.colaboratory.intrinsic+json": {
              "type": "string"
            }
          },
          "metadata": {},
          "execution_count": 118
        }
      ]
    },
    {
      "cell_type": "code",
      "source": [
        "latihan = {'Nama':'Fitriyana Nuril Khaqqi', 'NIM':'2022071003', 'Prodi':'Informatika', 'Universitas':'UPJ'}\n",
        "print(latihan)"
      ],
      "metadata": {
        "colab": {
          "base_uri": "https://localhost:8080/"
        },
        "id": "yKkVGFoAo4BE",
        "outputId": "7a1ec120-3514-4c62-a550-4ba249c89726"
      },
      "execution_count": null,
      "outputs": [
        {
          "output_type": "stream",
          "name": "stdout",
          "text": [
            "{'Nama': 'Fitriyana Nuril Khaqqi', 'NIM': '2022071003', 'Prodi': 'Informatika', 'Universitas': 'UPJ'}\n"
          ]
        }
      ]
    },
    {
      "cell_type": "code",
      "source": [
        "acak = (True, {'name' : 'depotkode','status': 'alive'}, [1,2,3])\n",
        "acak"
      ],
      "metadata": {
        "colab": {
          "base_uri": "https://localhost:8080/"
        },
        "id": "hkFpKQwksuab",
        "outputId": "2fab0407-27b7-492e-8f11-b7a7756a9d3a"
      },
      "execution_count": null,
      "outputs": [
        {
          "output_type": "execute_result",
          "data": {
            "text/plain": [
              "(True, {'name': 'depotkode', 'status': 'alive'}, [1, 2, 3])"
            ]
          },
          "metadata": {},
          "execution_count": 123
        }
      ]
    },
    {
      "cell_type": "code",
      "source": [
        "green = {'grass', 'leaves','leaves'}\n",
        "print(green)"
      ],
      "metadata": {
        "colab": {
          "base_uri": "https://localhost:8080/"
        },
        "id": "c7_Fi69Fs1-x",
        "outputId": "4a9e6fdb-5848-4572-8865-12485b3bf594"
      },
      "execution_count": null,
      "outputs": [
        {
          "output_type": "stream",
          "name": "stdout",
          "text": [
            "{'leaves', 'grass'}\n"
          ]
        }
      ]
    },
    {
      "cell_type": "code",
      "source": [
        "set_01 = {4,5,6,2}\n",
        "print(set_01)\n",
        "#inisiasi mengubah list menjadi set\n",
        "set_02 = set()\n",
        "set_03 = set([2,1,4,3])\n",
        "print(type(set_02))\n",
        "print(set_03)"
      ],
      "metadata": {
        "colab": {
          "base_uri": "https://localhost:8080/"
        },
        "id": "I8ZZhSXltDUr",
        "outputId": "f3163021-9f26-4959-f72b-11e7f3df76b5"
      },
      "execution_count": null,
      "outputs": [
        {
          "output_type": "stream",
          "name": "stdout",
          "text": [
            "{2, 4, 5, 6}\n",
            "<class 'set'>\n",
            "{1, 2, 3, 4}\n"
          ]
        }
      ]
    },
    {
      "cell_type": "code",
      "source": [
        "set_04 = {2,3,4,5,6}\n",
        "set_04.add(1)\n",
        "print(set_04)"
      ],
      "metadata": {
        "colab": {
          "base_uri": "https://localhost:8080/"
        },
        "id": "Cr_SxACDuOAp",
        "outputId": "befc14a4-6623-421e-d1f9-2c88c7c4bbdb"
      },
      "execution_count": null,
      "outputs": [
        {
          "output_type": "stream",
          "name": "stdout",
          "text": [
            "{1, 2, 3, 4, 5, 6}\n"
          ]
        }
      ]
    },
    {
      "cell_type": "code",
      "source": [
        "set_04= {1, 2, 3, 4, 5, 6, 7, 8}\n",
        "set_04.discard(4)#hapus nilai 4\n",
        "print(set_04)"
      ],
      "metadata": {
        "colab": {
          "base_uri": "https://localhost:8080/"
        },
        "id": "VWcP89dLudRv",
        "outputId": "ae050690-8603-4ad7-8d0d-e7c0cd551b6b"
      },
      "execution_count": null,
      "outputs": [
        {
          "output_type": "stream",
          "name": "stdout",
          "text": [
            "{1, 2, 3, 5, 6, 7, 8}\n"
          ]
        }
      ]
    },
    {
      "cell_type": "code",
      "source": [
        "set_04.add(10) #menambahkan nilai 10\n",
        "print(set_04)"
      ],
      "metadata": {
        "colab": {
          "base_uri": "https://localhost:8080/"
        },
        "id": "jCiFrccYulqB",
        "outputId": "d8a9ef5b-385a-46b4-e758-c7f607a42384"
      },
      "execution_count": null,
      "outputs": [
        {
          "output_type": "stream",
          "name": "stdout",
          "text": [
            "{1, 2, 3, 5, 6, 7, 8, 10}\n"
          ]
        }
      ]
    },
    {
      "cell_type": "code",
      "source": [
        "set_A = {1,2,3,4}\n",
        "set_B = {3,4,5,6}\n",
        "print(set_A|set_B)\n",
        "\n"
      ],
      "metadata": {
        "colab": {
          "base_uri": "https://localhost:8080/"
        },
        "id": "8p-3X3XoussW",
        "outputId": "15a04b69-2881-4af9-a10c-3c3ada3ae347"
      },
      "execution_count": null,
      "outputs": [
        {
          "output_type": "stream",
          "name": "stdout",
          "text": [
            "{1, 2, 3, 4, 5, 6}\n"
          ]
        }
      ]
    },
    {
      "cell_type": "code",
      "source": [
        "print(set_A.union(set_B))"
      ],
      "metadata": {
        "colab": {
          "base_uri": "https://localhost:8080/"
        },
        "id": "IyQnueVLuyQN",
        "outputId": "87e19961-c9fd-4799-84dd-86dd53d3e53f"
      },
      "execution_count": null,
      "outputs": [
        {
          "output_type": "stream",
          "name": "stdout",
          "text": [
            "{1, 2, 3, 4, 5, 6}\n"
          ]
        }
      ]
    },
    {
      "cell_type": "code",
      "source": [
        "print(set_A & set_B)"
      ],
      "metadata": {
        "colab": {
          "base_uri": "https://localhost:8080/"
        },
        "id": "0x_hVZ_Pu5UJ",
        "outputId": "577d493a-c459-4ce4-f91b-2920bc89dd96"
      },
      "execution_count": null,
      "outputs": [
        {
          "output_type": "stream",
          "name": "stdout",
          "text": [
            "{3, 4}\n"
          ]
        }
      ]
    },
    {
      "cell_type": "code",
      "source": [
        "print(set_A.intersection(set_B))"
      ],
      "metadata": {
        "colab": {
          "base_uri": "https://localhost:8080/"
        },
        "id": "uN77MMxHu7RL",
        "outputId": "2e5e1ecc-61b3-46b4-a931-4e255477ac01"
      },
      "execution_count": null,
      "outputs": [
        {
          "output_type": "stream",
          "name": "stdout",
          "text": [
            "{3, 4}\n"
          ]
        }
      ]
    },
    {
      "cell_type": "code",
      "source": [
        "print(set_A - set_B)"
      ],
      "metadata": {
        "colab": {
          "base_uri": "https://localhost:8080/"
        },
        "id": "gP7NwWCjvDio",
        "outputId": "4654c5c9-0aed-4436-a488-305048a38869"
      },
      "execution_count": null,
      "outputs": [
        {
          "output_type": "stream",
          "name": "stdout",
          "text": [
            "{1, 2}\n"
          ]
        }
      ]
    },
    {
      "cell_type": "code",
      "source": [
        "print(set_A.difference(set_B))\n"
      ],
      "metadata": {
        "colab": {
          "base_uri": "https://localhost:8080/"
        },
        "id": "-tUOswwVvEz9",
        "outputId": "7064936a-bafb-4468-ee39-e922851837db"
      },
      "execution_count": null,
      "outputs": [
        {
          "output_type": "stream",
          "name": "stdout",
          "text": [
            "{1, 2}\n"
          ]
        }
      ]
    },
    {
      "cell_type": "code",
      "source": [
        "print(set_B - set_A)"
      ],
      "metadata": {
        "colab": {
          "base_uri": "https://localhost:8080/"
        },
        "id": "G4HlAPSKvMyV",
        "outputId": "cc14657b-ca85-4d94-b403-da690e7fcda9"
      },
      "execution_count": null,
      "outputs": [
        {
          "output_type": "stream",
          "name": "stdout",
          "text": [
            "{5, 6}\n"
          ]
        }
      ]
    },
    {
      "cell_type": "code",
      "source": [
        "print(set_B.difference(set_A))"
      ],
      "metadata": {
        "colab": {
          "base_uri": "https://localhost:8080/"
        },
        "id": "q3qxNDKSvPzs",
        "outputId": "7b24840b-e029-421d-9883-844410fa5d1d"
      },
      "execution_count": null,
      "outputs": [
        {
          "output_type": "stream",
          "name": "stdout",
          "text": [
            "{5, 6}\n"
          ]
        }
      ]
    },
    {
      "cell_type": "code",
      "source": [
        "print(set_A ^ set_B)"
      ],
      "metadata": {
        "colab": {
          "base_uri": "https://localhost:8080/"
        },
        "id": "dBoK3BHDvWZR",
        "outputId": "3b231140-ed9a-414e-9af2-fef441647618"
      },
      "execution_count": null,
      "outputs": [
        {
          "output_type": "stream",
          "name": "stdout",
          "text": [
            "{1, 2, 5, 6}\n"
          ]
        }
      ]
    },
    {
      "cell_type": "code",
      "source": [
        "print(set_A.symmetric_difference(set_B))"
      ],
      "metadata": {
        "colab": {
          "base_uri": "https://localhost:8080/"
        },
        "id": "6O74uOT0vYGY",
        "outputId": "35b3a98a-0d63-428e-8dfa-e948ec95b913"
      },
      "execution_count": null,
      "outputs": [
        {
          "output_type": "stream",
          "name": "stdout",
          "text": [
            "{1, 2, 5, 6}\n"
          ]
        }
      ]
    },
    {
      "cell_type": "code",
      "source": [
        "yellow = {'dandelions', 'fire hydrant', 'leaves'}\n",
        "red = {'fire hydrant', 'blood', 'rose', 'leaves'}\n",
        "print(yellow|red)\n",
        "print(yellow&red)\n"
      ],
      "metadata": {
        "colab": {
          "base_uri": "https://localhost:8080/"
        },
        "id": "sTGK2XDKzcNv",
        "outputId": "2cb831d7-4a69-4448-f577-15a0da80bba8"
      },
      "execution_count": null,
      "outputs": [
        {
          "output_type": "stream",
          "name": "stdout",
          "text": [
            "{'blood', 'leaves', 'rose', 'fire hydrant', 'dandelions'}\n",
            "{'leaves', 'fire hydrant'}\n"
          ]
        }
      ]
    },
    {
      "cell_type": "code",
      "source": [
        "import pandas as pd\n",
        "df = pd.DataFrame([\n",
        "['1', 'Fares', 32, True],\n",
        "['2', 'Elena', 23, False],\n",
        "['3', 'Steven', 40, True]])\n",
        "df"
      ],
      "metadata": {
        "colab": {
          "base_uri": "https://localhost:8080/",
          "height": 1000
        },
        "id": "NnfXMy4UBEQA",
        "outputId": "5a93d57e-4fdf-471c-ae82-5894c8aa8f79"
      },
      "execution_count": 3,
      "outputs": [
        {
          "output_type": "display_data",
          "data": {
            "text/plain": [
              "<google.colab._quickchart_helpers.SectionTitle at 0x7a043936bbe0>"
            ],
            "text/html": [
              "<h4 class=\"colab-quickchart-section-title\">Values</h4>\n",
              "<style>\n",
              "  .colab-quickchart-section-title {\n",
              "      clear: both;\n",
              "  }\n",
              "</style>"
            ]
          },
          "metadata": {}
        },
        {
          "output_type": "display_data",
          "data": {
            "text/plain": [
              "import numpy as np\n",
              "from google.colab import autoviz\n",
              "\n",
              "def value_plot(df, y, figscale=1):\n",
              "  from matplotlib import pyplot as plt\n",
              "  df[y].plot(kind='line', figsize=(8 * figscale, 4 * figscale), title=y)\n",
              "  plt.gca().spines[['top', 'right']].set_visible(False)\n",
              "  plt.tight_layout()\n",
              "  return autoviz.MplChart.from_current_mpl_state()\n",
              "\n",
              "chart = value_plot(df, *[2], **{})\n",
              "chart"
            ],
            "text/html": [
              "      <div class=\"colab-quickchart-chart-with-code\" id=\"chart-2eaf3b30-61a7-4b61-a9ed-8a49f0e2514d\">\n",
              "        <img src=\"data:image/png;base64,iVBORw0KGgoAAAANSUhEUgAAAYwAAADECAYAAACMRRb/AAAAOXRFWHRTb2Z0d2FyZQBNYXRwbG90\n",
              "bGliIHZlcnNpb24zLjcuMSwgaHR0cHM6Ly9tYXRwbG90bGliLm9yZy/bCgiHAAAACXBIWXMAAA9h\n",
              "AAAPYQGoP6dpAAAllklEQVR4nO3deViVdf7/8edhO4CyyCoKHERRwwUBl6NWtmdOjqVpqaBO05RW\n",
              "U9+pJmtm/JV9nazGnDFNrS7HvoK5l5Zli6a2iSi4r4hyOCLggiwKHOCcz+8PkqJMD+t9gPfjus51\n",
              "xee+z+HtzR0v7u3z1imlFEIIIcR1OGldgBBCiJZBAkMIIYRdJDCEEELYRQJDCCGEXSQwhBBC2EUC\n",
              "QwghhF0kMIQQQthFAkMIIYRdJDCEEELYRQJDCCGEXSQwhKinF154gT59+uDt7U1ISAjjx4/HbDZr\n",
              "XZYQTUYCQ4h60ul0vP/++5w/f54jR46g0+kYOXKk1mUJ0WR0MvmgEI1j7969xMbGUlBQQIcOHbQu\n",
              "R4hGJ0cYQjSSL7/8EoPBIGEhWi0XrQsQojXYvHkzM2fOZN26dVqXIkSTkSMMIRpo48aNPPDAAyQn\n",
              "JzN8+HCtyxGiyUhgCNEAy5cvZ+LEiaxatYr7779f63KEaFISGELU04IFC3jyySfZuHEjd999t9bl\n",
              "CNHk5C4pIepJp9Ph4uKCXq+vNb5p0yZuuukmjaoSounIRW8h6kn+1hJtjZySEkIIYRcJDCGEEHaR\n",
              "wBBCCGEXCQwhhBB2kcAQQghhFwkMIYQQdpHAEEIIYReHCYx58+ZpXYIQQohrcJjAMJlMWpcghBDi\n",
              "GhwmMIQQQji2egfG0qVL0el0rF+/HoCzZ88yfPhwoqKi6N27N998801j1SiEEMIB1CswsrKyeO+9\n",
              "9zAajTVjL7zwAkajkYyMDJYuXcqECROorKxstEKFEEJoq86BYbPZeOSRR5g/f36tWTpXr17N1KlT\n",
              "ARgwYACdOnVi+/btjVepEEKIX/lk3xne//5Us3yvOs9WO3fuXIYOHUp8fHzN2IULF6isrKRjx441\n",
              "YxEREWRnZ1/1MywWCxaLpdaY1WqtaylCCNFmVVptvLbpKEu+O4WTDuIMHegb6tuk37NOgXHw4EHW\n",
              "rVvX4OsTs2fPZubMmbXGfn56SwghxG87W1LOkx/sIfVUAQCPDetKdIh3k3/fOp2S+vbbb8nKyiIq\n",
              "KoqIiAhSUlJ49NFHWb16NS4uLuTl5dWsm5WVRXh4+FU/58UXX6SoqKjWa+DAgQ37lwghRBuQZipg\n",
              "5PzvSD1VQHu9C4sT4pk+vCcuzk1/02udvsO0adPIzc0lKyuLrKwsjEYj7777LtOmTWPs2LEsXrwY\n",
              "gF27dpGTk8OwYcOu+jl6vR5vb+9aL2dn54b/a4QQopVSSvF/P2Tx4Dsp5BdbiApqz4YnhzK8d8fr\n",
              "v7mRNFrHvddff53ExESioqJwc3MjOTkZV1fXxvp4IYRos8oqrPztowN8tCcHgN/1CeGNB/rSTt+8\n",
              "TVMb9N22bdtW89/BwcF8+eWXDa1HCCHEz5guXOaxpDSO5pXg7KTjxXt68scbu6DT6Zq9FunpLYQQ\n",
              "DmrLkXz+Z9VeSsqrCGjvxoIJcRgj/TWrRwJDCCEcjM2m+M+WDN7akgFAbLgviybG09HHXdO6JDCE\n",
              "EMKBFJZW8D+r9rLt2DkAJg028I/fRePmov3UfxIYQgjhIA7mFDFteRrmgjL0Lk68en8fxsSHal1W\n",
              "DQkMIYRwAGvTTvP3jw5gqbIR7ufJooQ4enXy0bqsWiQwhBBCQxVVNl7ZeIjklOqplG7tEch/HozF\n",
              "x9PxHkuQwBBCCI3kFpXx+PJ09mQXotPB07dH8dRtUTg5Nf8ts/aQwBBCCA3syLzAn1ekc/5SBd7u\n",
              "Lsx7KJZbewZpXdY1SWAIIUQzUkrx3rcnef3zY1htihtCvHknIZ5wf0+tS7suCQwhhGgmlyxVPL92\n",
              "H58dqJ6odXRsZ/55fx883FrGXHoSGEII0QxOnL3E1OQ0Tpy9hKuzjv93bzQJRoMmU3zUlwSGEEI0\n",
              "sc8P5vLcmv1cslQR7K1n4cR44g0dtC6rziQwhBCiiVRZbfzry2O8s/0kAIO6+LFgQhyBXvrrvNMx\n",
              "SWAIIUQTOH/JwlMr9vBD5gUA/nRTl2ZrdNRUJDCEEKKR7TUXMi05jdyicjzdnHnjgb7c27eT1mU1\n",
              "mASGEEI0EqUUK1LNvPzxISqsNiID2vFOYjxRwV5al9YoJDCEEKIRlFdambH+IGvSTgNwd69g5oyN\n",
              "wcvd8ab4qC8JDCGEaCBzQSnTlqdxMKcYJx389e6eTB0W2aJumbWHBIYQQjTA9uPneHrlHgpLK/Fr\n",
              "58b88bEM7RagdVlNQgJDCCHqwWZTvL31BHM3H0cpiAn1YWFCPJ19PbQurclIYAghRB0VlVXy7Oq9\n",
              "bD5yFoDxA8N5aWQ07q4tY4qP+pLAEEKIOjiaV8zUpDSyLpTi5uLErFG9GTcgTOuymoUEhhBC2GnD\n",
              "3hymr9tPeaWNzr4eLE6Ip0+oY3XFa0oSGEIIcR2VVhv//PQI7/+QBcBNUQHMeygWv3Zu2hbWzCQw\n",
              "hBDiGs4Wl/P48nR2my4C8OSt3fjLnd1xdtCueE1JAkMIIX5D6qkCnvggnXMlFrz0Lsx9sB93Rgdr\n",
              "XZZmJDCEEOIXlFIs/T6LVz87QpVN0SPYi8WJ8XQJaKd1aZqqc2Dcdddd5OXl4eTkhJeXF2+99Rax\n",
              "sbFERESg1+vx8Ki+B/nFF1/kwQcfbPSChRCiKZVWVPHCugN8vO8MAL+P6cRrY/rg6SZ/X9d5C6xe\n",
              "vRpfX18APvroI6ZMmcK+ffsAWLVqFf369WvM+oQQotmcOn+ZqUlpHMsvwcVJx99G3MAfhka0uik+\n",
              "6qvOgXElLACKiopkQwohWoWvDufzzKq9lFiqCPTS8/aEOAZ28dO6LIdSr2OsSZMmsXXrVgA+++yz\n",
              "WuNKKQYOHMhrr71GYGDgVd9vsViwWCy1xqxWa31KEUKIBrHaFP/+6jgLtp4AoL+hAwsnxhHk7a5x\n",
              "ZY6nXq2fli1bhtlsZtasWUyfPh2Ab775hv3795Oenk5AQACTJ0/+zffPnj0bHx+fWq/U1NT6/QuE\n",
              "EKKeLl6uYMrS1JqwmDIkghWPGiUsfoNOKaUa8gEeHh6cPn0af3//mrHc3Fy6d+9OSUnJVd9ztSOM\n",
              "GTNmMG/evIaUIoQQdjtwuoipyWnkFJbh7urEa6P7cl9sZ63Lcmh1OiVVWFhIaWkpnTpVtxpcv349\n",
              "/v7+uLu7U1hYWHN9Y8WKFcTGxv7m5+j1evT62k3QnZ1b96RdQgjHsXqXmX9sOEhFlQ2DvyeLE+K5\n",
              "IcRb67IcXp0Co6ioiLFjx1JWVoaTkxOBgYFs3LiR/Px8xowZg9VqRSlFZGQky5Yta6qahRCiXixV\n",
              "Vl7++DArUrMBuOOGIN4c1w8fj9bTFa8p1SkwDAbDb15r2LNnT6MUJIQQTeFMYRnTktPYd7oInQ6e\n",
              "uaM7T9zaDac2OMVHfcmTKEKIVu/7E+f584o9FFyuwMfDlXkP9eOWHkFal9XiSGAIIVotpRSLt5/k\n",
              "X18cxaagVydvFifEE+bnqXVpLZIEhhCiVSopr+S5Nfv44lA+AGPjQ/nf+3q3+q54TUkCQwjR6mTk\n",
              "l/BYchonz13GzdmJl3/fi/EDw2RmigaSwBBCtCqf7s/lr2v3UVphJcTHnUUJ8fQL89W6rFZBAkMI\n",
              "0SpUWW28/vlR3vv2FACDI/2ZPyGWgPb667xT2EsCQwjR4p0rsfDkB+nsPFUAwGPDIvnrXT1wca7X\n",
              "7EfiN0hgCCFatPTsi0xLTiO/2EI7N2fmjI3hnj4hWpfVKklgCCFaJKUUySkmXtl4mEqromtgO95J\n",
              "7E+3oPZal9ZqSWAIIVqcsgorf19/gA/TcwAY0acjbzwQQ3u9/EprSrJ1hRAtSvaFUh5LTuNIbjFO\n",
              "Onjhnp786aZIuWW2GUhgCCFajK1Hz/L0yj0Ul1fh386N+RNiGdI1QOuy2gwJDCGEw7PZFG99ncG8\n",
              "LRkoBf3CfFmUEEeIj4fWpbUpEhhCCIdWVFrJ/6zaw9Zj5wBIMIYz495o9C4yxUdzk8AQQjisQ2eK\n",
              "mJacTnZBKXoXJ/55fx8eiA/Vuqw2SwJDCOGQPkw/zYsfHsBSZSPMz4NFE+Pp3dlH67LatBYfGEop\n",
              "Xtt0lNt6BjGwi5/cKSFEC1dRZeN/Nx4mKcUEwLDugcx7qB++nm4aVyZafGCkZ1/knW9O8s43J+ke\n",
              "3J5Eo4H7Yjvj5S4tF4VoafKKynl8eRrp2YUAPHV7FE/fHoWzdMVzCC1+ohX/dnrGDwzHw9WZ4/mX\n",
              "mLHhEMZXt/CP9Qc4lleidXlCCDulnLzAvfO/JT27EG93F5ZM7s8zd3aXsHAgOqWU0roIgGeeeYa5\n",
              "c+fW+/3F5ZV8mHaapBQTmecu14wP7OJHotHA3b064ubS4vNRiFZHKcWS704xe9NRrDZFz45evJMY\n",
              "j8G/ndaliV9o8aekrvB2d2XK0C5MHhLBjswLJKWY+PJwPqmnCkg9VUBAez3jB4YxfmA4nXzl3m0h\n",
              "HMFlSxXPr9vPp/tzAbg/tjOv3t8HDze5ZdYRtZrAuEKn0zGkWwBDugWQV1TOitRsVqRmc7bEwvyv\n",
              "T/D21hPcGR1MojGCIV39cZLDXSE0kXnuElOT0sg4ewkXJx0z7o1m0mCD3LjiwFrNKalrqbTa+Opw\n",
              "Pkk7TOw4eaFmPDKgHRONBh6IC8XHUy6SC9FcPj+Yx3Nr9nHJUkWQl55FCXHEG/y0LktcR5sIjJ/L\n",
              "yC8hOcXEuvQcLlmqAHB3deK+fp1JMBrkPm8hmlCV1cabXx1n0bZMoPoa44IJsQR5uWtcmbBHmwuM\n",
              "Ky5bqli/N4ekHSaO/uxuqthwXxKNBkb0CcHdVc6jCtFYLlyy8NTKPXx/ovoo/5EbuzD9np64Sle8\n",
              "FqPNBsYVSil2my6StMPEpoO5VFqrN4dfOzfG9Q9j4qBwwvw8m70uIVqTfeZCpiWncaaoHE83Z14f\n",
              "05eRMZ20LkvUUau76F1XOp2OARF+DIjw41xJNKt3m1meYuJMUTmLt2fyzjeZ3NojiESjgZu7B8o9\n",
              "4ULU0YrUbF7acIgKq40uAe14JzGe7sFeWpcl6qHNH2FcTZXVxtZj51i2I4tvM87XjIf5eTBxkIFx\n",
              "/cPwayfTFAhxLeWVVl7acIhVu80A3BUdzJxxMXjLLAwtVp0D46677iIvLw8nJye8vLx46623iI2N\n",
              "JSMjg8mTJ3P+/Hl8fHx4//336dWrl92f60iB8XOnzl9meYqJ1bvNFJdXXyR3c3Hi3r4hJBoN9Avz\n",
              "ldsAhfgFc0Epjy9P50BOEU46eO7uHky9uavcxt7C1TkwCgsL8fX1BeCjjz7i5ZdfZt++fdx2221M\n",
              "mjSJKVOmsHbtWl5//XV27dpl9+c6amBcUVZh5ZN9Z1iWksXBnOKa8d6dvUk0Gvh9TGd52EgI4Jvj\n",
              "53hq5R4KSyvp4OnK/PFx3BglXfFagzrfnnAlLACKiorQ6XScPXuW3bt3k5CQAMCYMWMwm82cOHGi\n",
              "0QrVmoebM+MGhPHJkzey/omhjIkLxc3FiYM5xUxfd4BBr27mlU8Oc/LcJa1LFUITNpvi7a0nmLw0\n",
              "lcLSSvqG+vDJn2+UsGhF6nXRe9KkSWzduhWAzz77DLPZTEhICC4u1R+n0+kIDw8nOzubbt26/er9\n",
              "FosFi8VSa8xqtdanlGan0+noF+ZLvzBf/vG7G1iTZiY5JZvsglL++/0p/vv9KW6KCiDBaOD2nkG4\n",
              "yC2Dog0oLq/k2dX7+OpwPgAPDQjj5d/3klvTW5l6/TZbtmwZZrOZWbNmMX369Dq/f/bs2fj4+NR6\n",
              "paam1qcUTXVo58ajN3dl23O3sPQPA7i9ZxA6HXybcZ7HktK4+Y2tLPg6g3Mllut/mBAt1LG8En4/\n",
              "/zu+OpyPm4sTr43uw2tj+kpYtEINvkvKw8ODrKwsoqKiKCgowMXFBaUUISEhfPfdd3YfYcyYMYN5\n",
              "8+Y1pBSHYC4o5YPUbFbtMlNwuQIAV2cdw3tXXyQfENFBLpKLVuPjfWeYvnY/ZZVWOvt6sCghjr6h\n",
              "vlqXJZpInU5JFRYWUlpaSqdO1Q/crF+/Hn9/f4KCgoiLiyM5OZkpU6awbt06QkNDrxoWAHq9Hr1e\n",
              "X2vM2bl1/DUS5ufJ9OE9efr2KDYdzCVph4n07EI+2XeGT/adoUewFwmDDdwf25n2+jb/GIxooSqt\n",
              "NmZ/dpT/fn8KgBu7BfDW+Fi53byVq9MRhslkYuzYsZSVleHk5ERgYCBz5syhX79+HDt2jClTpnDh\n",
              "wgW8vb1ZunQpffr0sbsQR79LqiEO5hSxfKeJ9XvOUFZZfa2mvd6F0XHV81fJQ0yiJTlbUs6Ty/eQ\n",
              "mlUAwOO3dOXZu3rIQ61tgDy414yKyir5ML26ydPJnzV5GtTFj8TB1U2eZF4d4ch2ZxXw+PJ0zpZY\n",
              "8NK7MGdcDHf36qh1WaKZyDmRZuTj4cofhnZhypAIfsi8QNIOE18dyWfnqQJ2niog0Ku63ez4gWGE\n",
              "+EiTJ+E4lFL83w9ZzPr0CFU2Rffg9ixOiCcysL3WpYlmJIGhAZ1Ox9BuAQztFkBuURkrUs2sSM3m\n",
              "XImFt7ZkVDd5uiGYxMEGhnT1l4vkQlOlFVX87cMDrN97BoB7+4bw+pi+tJNrcG2OnJJyEBVVNr48\n",
              "nEfSDhM7TxXUjEcGtiNhkIEx8aH4eMgcPKJ5ZZ2/zNTkNI7mleDspONvI27g4aER8kdMGyWB4YCO\n",
              "/9jk6cOfNXnycHXmvthOJBgN9OokTZ5E09t8OJ+/rN5LSXkVAe31vD0hlkGR/lqXJTQkgeHALlmq\n",
              "+GhPDsk7TBzL/6nJU1y4L4mDDdzTW5o8icZntSn+s/k487+unton3tCBhRPjCPaWrnhtnQRGC6CU\n",
              "YlfWRZJSTGw6kEuV7acmTw8OCGPCQGnyJBpHYWkFT6/cy/bj5wCYPNjA338XjZuL3L0nJDBanLMl\n",
              "5axKNfNBaja5ReUA6HRwW48gEgYbGBYVKFNIi3o5mFPE1OQ0Tl8sw93Vidmj+3B/bKjWZQkHIoHR\n",
              "QlVZbWw5epbkFFOtJk/hfp4kGMMZGx9GB3nqVthpzW4z/1h/EEuVjXA/TxYnxBPdyVvrsoSDkcBo\n",
              "BU6eu8Tyndms+UWTp5F9O5E4uLrJkxBXY6myMvOTw3ywMxuA23sGMXdcP3w85Y488WsSGK1IWYWV\n",
              "j/flsGyHiUNnfmry1DfUhwSjgZF9O0mTJ1HjTGEZ05ans89ciE4Hf7mjO0/e2k1OaYrfJIHRCiml\n",
              "2GsuJCnFxMb9uVRU2YDqJ83Hxocy0WigS0A7jasUWvrhxHn+vGIPFy5X4OPhyn8e6setPYK0Lks4\n",
              "OAmMVq7gcgWrd5tZvtOEuaCsZvymqAASjQZuvyFYJo1rQ5RSvPvNSV7//Cg2BdEh3ixOiCfcX+6y\n",
              "E9cnz/a3cn7t3Jg6rCt/uimSb46fIynFxNZjZ/k24zzfZpyns68HEwaFM65/GIFe+ut/oGixSsor\n",
              "+eua/Xx+KA+AMXGh/PP+3vIsj7CbHGG0QeaCUpJ3mli9y8zF0kqgusnTPb1DSBxsoL9Bmjy1NifO\n",
              "lvBYUhqZ5y7j6qzjpZG9mDgoXH7Ook4kMNqw8kornx3IJSnFxJ7swprxnh29SDBWN3mSCeZavs8O\n",
              "5PLXNfu4XGGlo7c7CxPiiAvvoHVZogWSwBBA9UNbySkm1u/Nobyy+iJ5e70LY35s8hQlTZ5anCqr\n",
              "jX99cYx3vjkJgDHSjwUT4ghoL6ceRf1IYIhaikorWZt+muQUE6fO/9TkyRjpx6TBEdwZHSxNnlqA\n",
              "85csPPlBOiknq2c+fuzmSP56dw9c5GcnGkDON4hafDxd+eONXfjDlSZPKVl8dTiflJMFpJwsIKim\n",
              "yVM4HX1kMjpHlJ59kceT08krLqedmzP/GhvDiD4hWpclWgEJDHFVTk46bowK4MaoAM4UlrEiNZsV\n",
              "qWbOlliYtyWDBVtPcFd0MIlGA4OlyZNDUEqxfGc2Mz85RKVVERnYjncT4+kWJKcTReOQU1LCbhVV\n",
              "Nr44lEdSionUnzV56hrYjkSjgdHxoXi7y5QSWiivtPL3jw6yLv00APf07sgbD/TFS34eohFJYIh6\n",
              "OZZ3pcnTaS5XWIErTZ46k2g0yMR1zchcUMpjSWkczi3GSQfTh/fk0Zsj5ahPNDoJDNEgJeWVrN+T\n",
              "Q1KKieP5l2rG+xs6kDjYwPDeHdG7yINhTWXbsbM8vXIvRWWV+LdzY/74WIZ0C9C6LNFKyTUM0SBe\n",
              "7q4kDo4gwWgg9VQBSSkmPj+Yx27TRXabLuJ/pcnToHBCO8j0E43FZlMs2HqCf28+jlIQE+bLoolx\n",
              "dPL10Lo00YpJYIhGodPpGBTpz6BIf84Wl7Nyl5kPdmaTV1zOwm2ZLN6eyW09g0gwGrhZmjw1SFFZ\n",
              "Jc+s2suWo2cBmDAonJdGRsuRnGhyckpKNJkqq43NR6qbPH134qcmTwZ/TxIGGRjbPxRfT2nyVBdH\n",
              "couZmpyG6UIpbi5OzLqvN+P6h2ldlmgjJDBEs8g8d4nkFBNr005T8mOTJ72LEyNjOjFpsIG+ob7a\n",
              "FtgCrN+Twwsf7qe80kZoBw8WJ8TTu7OP1mWJNkQCQzSr0ooqPt57hmU7TBzO/anJU8yVJk8xnWT2\n",
              "1F+oqLLx6mdHeP+HLABu7h7IvAf7SQte0ewkMIQmlFLsMReStMPEp/tzqbD+1ORpXP9QJg4yECFN\n",
              "nsgvLufx5emkmS4C8NRt3Xj6ju7Sw0Rook6BUV5ezkMPPcThw4fx8PAgKCiIRYsW0a1bN2655RZM\n",
              "JhM+PtWHyJMnT+Yvf/mL3YVIYLRdFy5ZWL27ev6qnMKfmjzd3D2QSUYDt/YMapO/IHeevMATH+zh\n",
              "/CULXu4u/HtcP+6IDta6LNGG1fkuqUcffZR77rkHnU7HggULeOSRR9i2bRsA//73v7nvvvsauUTR\n",
              "2vm31zPtlq48enMk24+fJWmHiW3Hz/HNj68rTZ4eHBDWJmZaVUqx5LtTzN50FKtN0bOjF4sT4uWI\n",
              "S2iuToHh7u7OiBEjar42Go3MmTOn0YsSbZOzk47begZzW89gTBcu88HObFbtNpNTWMa/vjjGfzYf\n",
              "Z0SfEBKNBuJbaZOny5Yqpq/bz8b9uQCM6teJ2aP74Okmd8AL7TXoGkZiYiJ+fn7MmzePW265hby8\n",
              "PFxdXYmOjmb27NlERkZe9X0WiwWLxVJrbMaMGcybN6++pYhWqrzSyqf7q5s87TUX1ozfEOJNotHA\n",
              "qH6dWk2Tp5PnLjE1OY3j+ZdwcdLxj9/dwOQhEa0yGEXLVO/AePXVV/nkk0/YsmULnp6emM1mwsLC\n",
              "UErx9ttvs3DhQg4fPnzV97788svMnDmz1pjRaGTHjh31KUW0EQdOF5GUksWGvWewVFVfJPfSuzAm\n",
              "PpQEY3iLnpX1y0N5PLt6HyWWKgK99CycGMeACD+tyxKilnoFxpw5c1i5ciWbN2/G19f3quu4u7uT\n",
              "k5ODv7//r5bJEYZoiMLSCtamVV8kz7pQWjM+pKs/iUYDd7SgJk9Wm+LNL4+xcFsmAAMj/FgwIZYg\n",
              "b+k1IhxPnY/l586dy4oVK2qFRVVVFRcuXCA4uPoOjnXr1hEcHHzVsADQ6/Xo9bUvXjo7y733wj6+\n",
              "nm48clMkDw/twveZ51m2w8SWI/n8kHmBHzIvEOz9U5OnYAf+xVtwuYKnV+7h24zqp+AfHtqFF0f0\n",
              "bDFhJ9qeOh1hnD59mrCwMCIjI/Hyqj781+v1fP311wwbNgyLxYKTkxMBAQHMnTuXmJgYuwuR22pF\n",
              "Q+QUlrFiZzYrd2Vz/lIFUH0R/e5ewSQYDQyOdKwmT/tPFzItOZ2cwjI8XJ15bUwfRvXrrHVZQlyT\n",
              "PLgnWpWKKhufH8ojaUcWu7Iu1ox3C2pPotHA/XGdNW/ytGpXNjM2HKKiykaEvyeLE+Pp2VH6hwjH\n",
              "J4EhWq0jucUkp5j4aE8OpT82efJ0+6nJ0w0hzftLurzSyssfH2LlLjMAd9wQzNwHYzQPMCHsJYEh\n",
              "Wr2S8ko+2pND0g4TGWd/avI0IKIDCcbmafKUU1jGtOQ09p8uQqeD5+7qwbRhXWWad9GitI4b2IW4\n",
              "Bi93VyYNjiDRaCDlZAHJKSa+OJTHrqyL7Mq6SED7K02eDHRuggZE32Wc588r0rlYWkkHT1fmPRTL\n",
              "zd0DG/37CNHUJDBEm6HT6Rjc1Z/BXf3JLy5nZaqZD1JN5BdbeHtrJou2ZXJbz2AmDTZwY7eABv/1\n",
              "r5Ri0fZM5nxxDJuCPp19WJQQJ50HRYslp6REm1ZptbH5cD5JKSZ+yLxQMx7h70mC0cAD8fVr8lRc\n",
              "Xslzq/fx5eF8AMb1D+WVUb1l6nbRoklgCPGjE2dLSE7JZl3aaUosPzV5+n1MJyYNjqBPqH3Nio7n\n",
              "lzA1KY2T5y/j5uzEzFG9GD8wvClLF6JZSGAI8QulFVVs+LHJ05GfN3kK8yXRaODeviG/eaTwyb4z\n",
              "TF+3n9IKK5183FmUEE9MmG8zVS5E05LAEOI3KKVIz75I0g4Tnx3Iq2ny5Ovpyrj+YUwcFI7Bv3rK\n",
              "8Uqrjdc2HWXJd6cAGNrNn7ceisW/DUzHLtoOCQwh7HD+koXVu80sT8muafKk08Gw7oGMjQ/j/3Zk\n",
              "kXqqAIBpt3Tl2Tu74yJTfIhWRu6SEsIOAe31PH5LNx67uStbj54lKcXE9uPn2Has+gXQXu/CnLEx\n",
              "DO/dUeNqhWgaEhhC1IGzk447ooO5I7q6ydPyndms3m2mo7c7b0+Mo2tge61LFKLJSGAIUU8G/3b8\n",
              "bcQNvHhPT5RCntoWrZ4EhhANpNPpcKCJcIVoMnJVTgghhF0kMIQQQthFAkMIIYRdHOY5jNGjRxMR\n",
              "EVGv91qtVlJTUxk4cKBDtnqV+hpG6msYqa9h2kJ9BoOBp59++rrrOUxgNERxcTE+Pj4UFRXh7e14\n",
              "ncukvoaR+hpG6msYqe8nckpKCCGEXSQwhBBC2EUCQwghhF1aRWDo9Xpeeukl9HrHnBlU6msYqa9h\n",
              "pL6Gkfp+0iouegshhGh6reIIQwghRNOTwBBCCGEXCQwhhBB2cejAyMjIYMiQIXTv3p0BAwZw6NCh\n",
              "q663ZMkSoqKi6Nq1K3/605+orKy0a1lz1Pf1118zcOBAoqOj6dWrF88//zw2W3Wrz6ysLJydnenX\n",
              "r1/NKzMzs1nr27ZtGx4eHrVqKCsrq1mu9fZbunRprdoCAgIYPXo00PTb76mnniIiIgKdTsfevXt/\n",
              "cz2t9j976tNy/7OnPi33P3vq02r/Ky8v57777qN79+7ExMRw5513cuLEiauuu3HjRnr27ElUVBSj\n",
              "R4+muLjYrmX1ohzYrbfeqpYuXaqUUmrNmjWqf//+v1rn5MmTKiQkROXm5iqbzaZGjhypFixYcN1l\n",
              "zVVfenq6yszMVEopVVZWpoYOHVrznlOnTikfH59Gq6c+9W3dulXFxMRc9f2OsP1+qVevXmrt2rVK\n",
              "qabfftu3b1dms1kZDAa1Z8+eq66j5f5nT31a7n/21Kfl/mdPfb/UXPtfWVmZ+vTTT5XNZlNKKTV/\n",
              "/nw1bNiwX61XUlKigoKC1JEjR5RSSj3xxBPqueeeu+6y+nLYwMjPz1deXl6qsrJSKaWUzWZTwcHB\n",
              "KiMjo9Z6b7zxhnrsscdqvv7000/V0KFDr7usuer7pSeeeEK99NJLSqmm3eHsre9a/8M62vZLSUlR\n",
              "gYGBqqKiQinV9L/wrrjWLxSt9j976/ul5tr/fq6+geFo20+r/U8ppXbt2qUMBsOvxlevXq3uvvvu\n",
              "mq8PHTqkOnfufN1l9eWwp6TMZjMhISG4uFT3eNLpdISHh5OdnV1rvezsbAwGQ83XERERNetca1lz\n",
              "1fdzeXl5rF27lnvvvbdm7PLlywwYMIC4uDheeeUVrFZrs9eXmZlJXFwcAwYMYOHChTXjjrb9lixZ\n",
              "QmJiIq6urjVjTbX97KXV/lcfzbn/1YUW+199aLn/zZs3j1GjRv1q/GrbKDc3l6qqqmsuqy/puNdM\n",
              "iouLGTlyJM8//zz9+/cHICQkhJycHIKCgigoKODBBx/kzTff5Pnnn2+2uuLi4jh9+jQ+Pj6cPn2a\n",
              "ESNGEBAQwLhx45qtBntcvnyZlStXkpKSUjPmCNuvpZD9r2G03P9effVVTpw4wZYtWxr1c+vDYY8w\n",
              "wsLCaqWhUors7GzCw8NrrRceHo7JZKr5Oisrq2aday1rrvoASkpKGD58OKNGjeKZZ56pGdfr9QQF\n",
              "BQHg5+fHww8/zLffftus9Xl7e+Pj4wNAaGgo48ePr6nBUbYfwJo1a+jVqxfR0dE1Y025/eyl1f5X\n",
              "F1rsf/bSav+rK632vzlz5vDhhx+yadMmPD09f7X8atvoypH7tZbVW4NOaDWxYcOG1booGh8f/6t1\n",
              "MjMzf3VhbP78+ddd1lz1lZSUqCFDhqiZM2f+all+fn7N+dDy8nL1wAMPqBkzZjRrfWfOnFFWq1Up\n",
              "pVRxcbEaMmSIWrJkiVLKMbbfFTfeeKN67733ao019fa74lrnuLXc/+ypT8v9z576tNz/7KnvCi32\n",
              "vzfffFPFxcWpgoKC31ynuLhYBQYG1rqw/eyzz153WX05dGAcPXpUGY1GFRUVpeLj49X+/fuVUkr9\n",
              "8Y9/VBs2bKhZ791331WRkZEqMjJSPfzwwzU/xOsta476Zs2apVxcXFRMTEzNa9asWUoppdatW6d6\n",
              "9eql+vbtq6Kjo9WTTz6pysvLm7W++fPnq+jo6JoaXnrppZo7M5TSfvtdWa99+/aquLi41vubevs9\n",
              "+uijqnPnzsrZ2VkFBQWprl27XrU+rfY/e+rTcv+zpz4t9z97f75a7H9ms1kBKjIysubnNnDgQKWU\n",
              "UjNmzFCLFi2qWXfDhg2qR48eqmvXrmrUqFGqsLDQrmX1IXNJCSGEsIvDXsMQQgjhWCQwhBBC2EUC\n",
              "QwghhF0kMIQQQthFAkMIIYRdJDCEEELYRQJDCCGEXSQwhBBC2EUCQwghhF0kMIQQQthFAkMIIYRd\n",
              "/j/EWE1cTHFdZQAAAABJRU5ErkJggg==\n",
              "\">\n",
              "        \n",
              "      </div>\n",
              "      <script></script>\n",
              "      <script type=\"text/javascript\">\n",
              "        (() => {\n",
              "          const chartElement = document.getElementById(\"chart-2eaf3b30-61a7-4b61-a9ed-8a49f0e2514d\");\n",
              "          async function getCodeForChartHandler(event) {\n",
              "            const chartCodeResponse =  await google.colab.kernel.invokeFunction(\n",
              "                'getCodeForChart', [\"chart-2eaf3b30-61a7-4b61-a9ed-8a49f0e2514d\"], {});\n",
              "            const responseJson = chartCodeResponse.data['application/json'];\n",
              "            await google.colab.notebook.addCell(responseJson.code, 'code');\n",
              "          }\n",
              "          chartElement.onclick = getCodeForChartHandler;\n",
              "        })();\n",
              "      </script>\n",
              "      <style>\n",
              "        .colab-quickchart-chart-with-code  {\n",
              "            display: block;\n",
              "            float: left;\n",
              "            border: 1px solid transparent;\n",
              "        }\n",
              "\n",
              "        .colab-quickchart-chart-with-code:hover {\n",
              "            cursor: pointer;\n",
              "            border: 1px solid #aaa;\n",
              "        }\n",
              "      </style>"
            ]
          },
          "metadata": {}
        },
        {
          "output_type": "display_data",
          "data": {
            "text/plain": [
              "<google.colab._quickchart_helpers.SectionTitle at 0x7a0438799420>"
            ],
            "text/html": [
              "<h4 class=\"colab-quickchart-section-title\">Distributions</h4>\n",
              "<style>\n",
              "  .colab-quickchart-section-title {\n",
              "      clear: both;\n",
              "  }\n",
              "</style>"
            ]
          },
          "metadata": {}
        },
        {
          "output_type": "display_data",
          "data": {
            "text/plain": [
              "import numpy as np\n",
              "from google.colab import autoviz\n",
              "\n",
              "def histogram(df, colname, num_bins=20, figscale=1):\n",
              "  from matplotlib import pyplot as plt\n",
              "  df[colname].plot(kind='hist', bins=num_bins, title=colname, figsize=(8*figscale, 4*figscale))\n",
              "  plt.gca().spines[['top', 'right',]].set_visible(False)\n",
              "  plt.tight_layout()\n",
              "  return autoviz.MplChart.from_current_mpl_state()\n",
              "\n",
              "chart = histogram(df, *[2], **{})\n",
              "chart"
            ],
            "text/html": [
              "      <div class=\"colab-quickchart-chart-with-code\" id=\"chart-8ce75119-daab-4c86-aea3-3420635d0744\">\n",
              "        <img src=\"data:image/png;base64,iVBORw0KGgoAAAANSUhEUgAAAYwAAADECAYAAACMRRb/AAAAOXRFWHRTb2Z0d2FyZQBNYXRwbG90\n",
              "bGliIHZlcnNpb24zLjcuMSwgaHR0cHM6Ly9tYXRwbG90bGliLm9yZy/bCgiHAAAACXBIWXMAAA9h\n",
              "AAAPYQGoP6dpAAAaG0lEQVR4nO3dfVRT5+EH8O8VtthWA1ZhUCBQDKCWlwjCEHVWPU7bn4IVz07d\n",
              "ULHy4mrX7tjVl1rX0Xbi5nGts8cKxeGxrFUHWhlq1zo9Vost4ruoE1RMakFaUdBWIoTn9wczM4bg\n",
              "TcyFgN/POTmH3D735punab5NbvJEEkIIEBER3UOvrg5ARETdAwuDiIhkYWEQEZEsLAwiIpKFhUFE\n",
              "RLKwMIiISBYWBhERycLCICIiWVgYREQkCwuDiIhkYWEQKWDRokWIiIiAWq2Gr68vpk+fDoPB0NWx\n",
              "iO4LC4NIAZIkYf369fjuu+9w+vRpSJKEyZMnd3UsovsicfFBIuUdPXoUQ4cORX19Pfr169fVcYgc\n",
              "wlcYRJ3g008/RWBgIMuCujX3rg5A1NPt2rULWVlZKCoq6uooRPeFrzCIFFRSUoJp06ahoKAAEydO\n",
              "7Oo4RPeFhUGkkL///e/41a9+hU2bNuGZZ57p6jhE942FQaSAd999Fy+88AJKSkowYcKEro5D5BT8\n",
              "lBSRAiRJgru7O1QqlcX2nTt3YtSoUV2Uiuj+8KQ3kQL4/2HUE/EtKSIikoWFQUREsrAwiIhIFhYG\n",
              "ERHJwsIgIiJZWBhERCQLC4OIiGTpEYWxatWqro5ARNTj9YjCuHjxYldHICLq8XpEYRARkfIULYwX\n",
              "X3wRQUFBkCQJR48etTlu3bp1CAkJwcCBA5Geno7m5mYlYxERkQMULYxp06Zh//79CAwMtDnmwoUL\n",
              "WLp0Kfbt24eqqipcvnwZubm5SsYiIiIHKFoYP/vZz+Dv79/hmMLCQiQmJsLHxweSJGHu3Ln46KOP\n",
              "lIxFREQO6PLVavV6vcUrkKCgIOj1epvjjUYjjEajxTaTyaRYPiIiatPlhWGv7OxsZGVlWWyLj493\n",
              "+HhBi7bfV57q5f93X/tTz8fHGMnRHR4nXf4pKY1GY/Gx2Orqamg0GpvjFy9ejIaGBotLXFxcZ0Ql\n",
              "InqgdXlhJCcno7i4GLW1tRBCYO3atXj22WdtjlepVFCr1RYXNze3TkxMRPRgUrQwMjMz4e/vj6+/\n",
              "/hoTJkyAVqsFAKSlpaG4uBgAEBwcjKysLIwYMQJarRZeXl7IzMxUMhYRETlA0XMYOTk57W7Py8uz\n",
              "uJ6eno709HQloxAR0X3q8rekiIioe2BhEBGRLCwMIiKShYVBRESysDCIiEgWFgYREcnCwiAiIllY\n",
              "GEREJAsLg4iIZGFhEBGRLCwMIiKShYVBRESysDCIiEgWFgYREcnCwiAiIllYGEREJAsLg4iIZFG0\n",
              "MCorK5GQkIDQ0FDExsaioqLCakxrayvmz5+PIUOGIDIyEmPGjEFVVZWSsYiIyAGK/6Z3RkYGzp49\n",
              "i4ULFyI1NdVqTHFxMb744gscO3YMx48fx7hx4/Dqq68qGYuIiBygWGHU1dWhvLwcKSkpAIDk5GQY\n",
              "DAarVw+SJMFoNKKpqQlCCDQ2NsLf31+pWERE5CB3pQ5sMBjg6+sLd/e2m5AkCRqNBnq9Hlqt1jxu\n",
              "8uTJ2LNnD3x8fNC3b1/4+flh7969No9rNBphNBottplMJmXuBBERmXX5Se/y8nKcPHkSly5dwjff\n",
              "fINx48Zh7ty5NsdnZ2fDw8PD4lJWVtaJiYmIHkyKFUZAQABqamrQ0tICABBCQK/XQ6PRWIzbsGED\n",
              "xo4dC09PT/Tq1QuzZs3Cnj17bB538eLFaGhosLjExcUpdTeIiOi/FCsMb29vREdHo6CgAABQVFQE\n",
              "f39/i7ejACA4OBi7d+/GrVu3AAAlJSUIDw+3eVyVSgW1Wm1xcXNzU+puEBHRfyl2DgMAcnJykJqa\n",
              "imXLlkGtViM/Px8AkJaWhsTERCQmJmLevHk4ffo0oqKi8KMf/Qg+Pj5Yu3atkrGIiMgBihZGWFgY\n",
              "Dhw4YLU9Ly/P/LdKpcL777+vZAwiInKCLj/pTURE3QMLg4iIZGFhEBGRLCwMIiKShYVBRESy2F0Y\n",
              "//rXv5TIQURELs7uwnjjjTcQFhaGVatWobGxUYlMRETkguwujC+++AIbN27EyZMnERoaiueffx6n\n",
              "Tp1SIhsREbkQh85hDB06FO+//z4++eQTlJSUIDIyEuPHj8eJEyecnY+IiFyEQ4Wxa9cuJCUlYerU\n",
              "qZg3bx5qa2uRmZmJZ555xtn5iIjIRdi9NMjgwYMxYMAAvPjii5g6dap54b9p06Zh3bp1Tg9IRESu\n",
              "we7CKCgoQExMTLv/bOfOnfcdiIiIXJPdb0kdOnQI9fX15utXrlzh4oFERA8AuwtjzZo1ePTRR83X\n",
              "+/fvjzVr1jg1FBERuR67C0MIYbWNv6lNRNTz2V0Yvr6+2Lx5s/n6pk2b4Ovr69RQRETkeuw+6f3O\n",
              "O+8gKSkJCxYsAAA8/PDD2LZtm9ODERGRa7H7FcagQYNw6tQp7NixAzt27MCJEycQEhLS7tjKykok\n",
              "JCQgNDQUsbGxqKioaHfciRMn8OSTT2Lw4MEYPHgwtmzZYm8sIiJSmEM/0SpJEjw9PdHS0oJLly4B\n",
              "ADQajdW4zMxMZGRkIDU1FYWFhUhNTcXBgwctxvzwww9ISkrChg0bMHLkSJhMJotPYRERkWuw+xXG\n",
              "+vXr4enpiYiICMTExCAmJgbDhg2zGldXV4fy8nKkpKQAAJKTk2EwGFBVVWUx7sMPP0R8fDxGjhwJ\n",
              "AHBzc4OXl5cj94WIiBRk9yuMN998EwcPHkRYWFiH4wwGA3x9feHu3nYTkiRBo9FAr9dDq9Wax506\n",
              "dQoqlQqTJk3C119/jcjISKxcudJmaRiNRhiNRott/JQWEZHy7H6FMWDAgHuWhT1aWlqwa9cu5OTk\n",
              "4MiRI/Dz88Ovf/1rm+Ozs7Ph4eFhcSkrK3NaHiIiap/dhTFlyhS88847qKurQ2Njo/lyt4CAANTU\n",
              "1KClpQVA2/c39Hq91bkOjUaDMWPGwM/PD5IkISUlBV9++aXN21+8eDEaGhosLnFxcfbeDSIispPd\n",
              "hbFkyRLMnz8fPj4+6NevHzw9PdGvXz+rcd7e3oiOjkZBQQEAoKioCP7+/hZvRwHAL37xCxw8eNBc\n",
              "Ojt27EBUVJTN21epVFCr1RaX2wsgEhGRcuw+h9Ha2ip7bE5ODlJTU7Fs2TKo1Wrk5+cDANLS0pCY\n",
              "mIjExERoNBq8+uqrSEhIQK9eveDn54fc3Fx7YxERkcIc+ljtoUOHcOrUKcyYMQPXrl3DzZs32/22\n",
              "d1hYGA4cOGC1PS8vz+L6jBkzMGPGDEeiEBFRJ3Fo8cHnnnsOf/jDHwC0rVb7y1/+0tm5iIjIxdhd\n",
              "GLm5ufjyyy+hVqsBAAMHDsS3337r9GBERORa7C4MlUqFhx56yGLb7e9aEBFRz2V3YXh5eeHs2bOQ\n",
              "JAlA2ze/21sWhIiIehaHVqudPn06zpw5g4CAAKjVapSUlCiRjYiIXIjdhaHVavHVV1/hP//5D4QQ\n",
              "CAsL4/cgiIgeAHYXhl6vBwA88sgjANDharVERNRz2F0YMTExkCQJQgg0NTXhhx9+QP/+/VFXV6dE\n",
              "PiIichF2F8bdH6HdsmULjh075rRARETkmuz+lNTdpk6diu3btzsjCxERuTC7X2HcuTKtyWTCV199\n",
              "1e5qtURE1LPYXRienp7mcxhubm4ICQnBX//6VyWyERGRC1F0tVoiIuo57vscBhERPRjsfoXRq1cv\n",
              "87IgdxJCQJIk/r42EVEPZXdhvPHGG7h586b5d7fXrl2Lhx56CL/97W+dnY2IiFyI3YWxdetWHDp0\n",
              "yHz9rbfeQkxMDJYsWeLUYERE5FrsPodx/fp1i29119XV4fr1604NRURErsfuwnj55ZcRFRWFOXPm\n",
              "YM6cORg6dCheeeWVdsdWVlYiISEBoaGhiI2NRUVFhc3jCiEwduxYeHp62huJiIg6gd2FkZmZic8+\n",
              "+ww6nQ46nQ6ffvop0tPTbY7NyMjA2bNnsXDhQqSmpto87ttvv42BAwfaG4eIiDqJQx+r7d+/PyIi\n",
              "IvCb3/wGYWFhuHXrltWYuro6lJeXIyUlBQCQnJwMg8GAqqoqq7EVFRX4+OOPsWjRIkfiEBFRJ7C7\n",
              "MAoLCxEfH4/Zs2cDaHuynzJlitU4g8EAX19f88+3SpIEjUZjXh79tubmZqSnpyMnJ0fW72oYjUY0\n",
              "NjZaXPhRXiIi5dldGNnZ2Th8+LD5XENUVBQuXrzocICsrCxMnToVgwcPln37Hh4eFpeysjKHb5+I\n",
              "iOSxuzDc3NzQv39/i20//vGPrcYFBASgpqYGLS0tANpOauv1eqsfWtq7dy9Wr16NoKAgjBw5Eo2N\n",
              "jQgKCrJaRv22xYsXo6GhweISFxdn790gIiI72f09jL59++Ly5cvmb3v/+9//xqOPPmo1ztvbG9HR\n",
              "0SgoKEBqaiqKiorg7+8PrVZrMW7fvn3mv6urq6HT6VBdXW3z9lUqFVQqlcU2/kQsEZHy7C6MP/3p\n",
              "T3jqqadw/vx5jBw5EhcuXLD5exg5OTlITU3FsmXLoFarkZ+fDwBIS0tDYmIiEhMT7y89ERF1GrsK\n",
              "o7W1FSaTCXv27EFpaSmEEEhISLD53YmwsDAcOHDAanteXl6744OCgnDt2jV7IhERUSexqzB69eqF\n",
              "jIwMHDt2DE899ZRSmYiIyAXZfdI7JCSk3e9SEBFRz2b3OYz6+nrodDokJCSgT58+5u1btmxxajAi\n",
              "InItsgsjIyMDubm5mDVrFhITE9GvXz8lcxERkYuRXRjl5eUAgFmzZiE6OhqHDx9WLBQREbkeh9aS\n",
              "EkI4OwcREbk42a8wbt68iRMnTkAIgaamJvPft0VGRioSkIiIXINdhXHnF+3u/FuSJJw/f965yYiI\n",
              "yKXILoyOlusgIqKez6FzGERE9OBhYRARkSwsDCIikoWFQUREsrAwiIhIFhYGERHJwsIgIiJZWBhE\n",
              "RCSLooVRWVmJhIQEhIaGIjY2FhUVFVZjdu/ejbi4OAwZMgRPPPEEFixYgNbWViVjERGRAxQtjMzM\n",
              "TGRkZODs2bNYuHAhUlNTrcb069cPGzduxKlTp3Do0CGUlpZiw4YNSsYiIiIHKFYYdXV1KC8vR0pK\n",
              "CgAgOTkZBoPB6tf6hg4diuDgYABA7969odPpuAwJEZELsvsX9+QyGAzw9fWFu3vbTUiSBI1GA71e\n",
              "D61W2+4+tbW1KCwsRElJic3jGo1GGI1Gi20mk8l5wYmIqF0uc9K7sbERkydPxoIFCzBs2DCb47Kz\n",
              "s+Hh4WFxKSsr68SkREQPJsUKIyAgADU1NWhpaQHQ9qNLer0eGo3Gauz169cxceJEJCUlYf78+R0e\n",
              "d/HixWhoaLC4xMXFKXIfiIjofxQrDG9vb0RHR6OgoAAAUFRUBH9/f6u3o27cuIGJEydi4sSJeO21\n",
              "1+55XJVKBbVabXFxc3NT5D4QEdH/KPqWVE5ODnJychAaGorly5cjPz8fAJCWlobi4mIAwKpVq1BW\n",
              "VoYtW7ZAp9NBp9Phj3/8o5KxiIjIAYqd9AaAsLAwHDhwwGp7Xl6e+e8lS5ZgyZIlSsYgIiIncJmT\n",
              "3kRE5NpYGEREJAsLg4iIZGFhEBGRLCwMIiKShYVBRESysDCIiEgWFgYREcnCwiAiIllYGEREJAsL\n",
              "g4iIZGFhEBGRLCwMIiKShYVBRESysDCIiEgWFgYREcnCwiAiIlkULYzKykokJCQgNDQUsbGxqKio\n",
              "aHfcunXrEBISgoEDByI9PR3Nzc1KxiIiIgcoWhiZmZnIyMjA2bNnsXDhQqSmplqNuXDhApYuXYp9\n",
              "+/ahqqoKly9fRm5urpKxiIjIAYoVRl1dHcrLy5GSkgIASE5OhsFgQFVVlcW4wsJCJCYmwsfHB5Ik\n",
              "Ye7cufjoo4+UikVERA5yV+rABoMBvr6+cHdvuwlJkqDRaKDX66HVas3j9Ho9AgMDzdeDgoKg1+tt\n",
              "HtdoNMJoNFpsM5lMTk5PRER3U6wwlJKdnY2srCyLbYMGDcL8+fMttplMJpSVlSEuLg5ubm42jzf1\n",
              "PvPMn//v+zzC/8jN7EqY+d6c8RjrjvMM8PFhj/t5nJhMJgwf/pbDmQMDA/HSSy/dc5wkhBCOBLyX\n",
              "uro6aLVa1NfXw93dHUII+Pr6Yv/+/RavMFasWIFz585h7dq1AIAdO3Zg2bJl2L9/f7vHbe8Vhkql\n",
              "gkqlstjW2NgIDw8PNDQ0QK1WO/neKYOZOwczd57umJuZbVPsHIa3tzeio6NRUFAAACgqKoK/v79F\n",
              "WQBt5zaKi4tRW1sLIQTWrl2LZ5991uZxVSoV1Gq1xeXusiAiIudT9FNSOTk5yMnJQWhoKJYvX478\n",
              "/HwAQFpaGoqLiwEAwcHByMrKwogRI6DVauHl5YXMzEwlYxERkQMUPYcRFhaGAwcOWG3Py8uzuJ6e\n",
              "no709HQloxAR0X3qsd/0VqlUeP3117vV21XM3DmYufN0x9zMbJtiJ72JiKhn6bGvMIiIyLlYGERE\n",
              "JAsLg4iIZOl2hdHU1IQpU6YgNDQUUVFRGD9+vHl9qtmzZ5u3jxgxAgcPHrR5HEmSEBERAZ1OB51O\n",
              "h3379nVJ5ieffBKPP/64Ocfbb79t8zglJSUYNGgQQkJCMHXqVDQ2NnZJ5p/+9KfmvOHh4ZAkCceP\n",
              "H2/3OJ05zwDw85//HJGRkdDpdBg1ahSOHDkCQP7KyUDnr57cXuaO5v9u1dXVcHNzM8+xTqfDuXPn\n",
              "Oj0z0La0T1hYmDnHpk2bbB7DFeb5ypUrFvMWGhoKd3d31NfXW+3fFfN8W35+PiRJwscffwyg7YvR\n",
              "EydOREhICMLDw/H555/b3Nepzxuim7l586bYvn27aG1tFUIIsXr1ajF69GghhBDbtm0Tzc3NQggh\n",
              "/vnPf4rAwECbxwEgrl69qnDaNh1lHj16tNi6des9j3H9+nXh7e0tTp8+LYQQYt68eeJ3v/udUpE7\n",
              "zHynf/zjHyI8PNzmcTpznoUQFre1ZcsWERkZKYQQYsyYMSI/P18I0ZZ52LBh7e5//vx54evrK2pq\n",
              "akRra6uYPHmyePfddzs9s9z5F0KICxcuCA8PD0Uz3s3WPAcGBoojR47cc39Xmee7rVixQkyaNKnd\n",
              "/btinm/f7vDhw0V8fLz5uWL27Nni9ddfF0IIUVZWJvz8/MStW7es9nX280a3e4XRu3dvPP3005Ak\n",
              "CQAQHx+P6upqAEBiYqJ5scP4+HhcunQJLS0tXRXVrKPMcu3cuRNDhw7FoEGDAADPP/+8oqv6ys28\n",
              "bt06zJkzR7Ec9vL09DT/3dDQAEmSZK+cDHTN6sntZXbGY0ZJ7WW2h6vM891c7fHc2tqKtLQ0rF69\n",
              "2uIjs5s3b8bcuXMBALGxsXjsscewd+9eq/2d/bzR7RYfvNuqVauQlJTU7vann37aXCDtGTduHFpa\n",
              "WjBu3Di8+eabeOSRR5SMapHtzsyLFi3C0qVLMWTIEGRnZyM4ONhqn/ZW9a2pqUFLS0uH91GpzEDb\n",
              "isR79+7FBx980OG+nT3PM2fOxJ49ewC0rU0md+VkwP7Vk5XKfDdbj/Pbvv/+e8TGxsJkMmHKlClY\n",
              "smSJ4gvn2co8c+ZMCCEQFxeH5cuXw8vLy2pfV5zn0tJSXL16FZMmTbK5f2fP81/+8heMGDECMTEx\n",
              "5m1XrlxBc3MzfHx8zNtszZ+znze63SuMOy1btgxVVVXIzs622F5QUIDNmzd3+ENMFy9exKFDh1Ba\n",
              "Wopvv/0Wr7zyitJxAVhn/uCDD3DmzBkcP34co0aN6vDB2lVszfP69esxadIkDBgwwOa+XTHPGzZs\n",
              "gMFgwFtvvYWFCxcqfnvO0FFmW/N/m6+vLy5duoSDBw9i165d2LdvH1auXNklmT///HMcP34chw8f\n",
              "xoABAzBr1izFc9ijo3let24dZs6cafOJtLPn+eTJkygqKsJrr72m2G3YzeE3s7rYihUrRExMjNX7\n",
              "4xs3bhRarVZcvHhR9rFKS0s7fB/eWWxlvpNKpRLfffed1fbNmzeLCRMmmK9XVFQIPz8/JWJasJW5\n",
              "tbVVPP744+KTTz6RfazOmuc79e7dW9TW1oq+ffuaz2+1traKn/zkJ6KystJq/J///GeRmZlpvr59\n",
              "+3YxYsSITssrRFvm248BOY+Zu3344Yc234dXyp2Zb/vmm29Enz592h3vavN8/fp10adPH/N7/XIo\n",
              "Pc9r1qwRPj4+IjAwUAQGBgqVSiW8vLzEmjVrxMMPPyxqamrMY2NjY8Vnn31mdQxnP290y8JYuXKl\n",
              "iI6OFvX19RbbN23aJLRaraiuru5w//r6evH9998LIYQwmUzipZdeEjNmzFAsrxDtZ25ubha1tbXm\n",
              "64WFhUKj0bS7f2Njo/Dy8rI4efXyyy93eubbdu3aJQICAoTJZLK5f2fP89WrV8WlS5fM17du3Sr8\n",
              "/PxEa2urGD16tMVJ75iYmHaPce7cOauTsatXr+6SzB3N/50uX75sPuHZ1NQkpk2bJpYuXdrpmW/c\n",
              "uGFRbCtXrhSjRo1q9xiuNM9CCJGXl3fPwurseb7bnR+QmTVrlsVJ78cee6zdk97Oft7odoVhMBgE\n",
              "ABEcHCyioqJEVFSUiIuLE0II4e7uLvz9/c3bo6KizP8H8d5775n/5ZaWloqIiAgRGRkphgwZIlJS\n",
              "UsSVK1c6PfONGzdETEyMCA8PF5GRkWLs2LHi6NGj5v2WLl0q3nvvPfP1bdu2ibCwMDFw4ECRlJQk\n",
              "rl271umZb5s+fbr4/e9/b7VfV85zdXW1iI2NNc/nuHHjzJ/YOXPmjIiPjxchISEiJiZGHD9+3Lzf\n",
              "nDlzxLZt28zXc3NzRXBwsAgODhbPPfdcu/8hKp35XvN/52OjqKhIPPHEE+Z5fuGFF0RTU1OnZz53\n",
              "7pzQ6XQiIiJChIeHi8TERHHhwgXzfq44z7cNHz5c/O1vf7Paryvn+W53FkZtba0YP3680Gq1YsiQ\n",
              "IWL37t3tZhbCuc8bXEuKiIhk6dYnvYmIqPOwMIiISBYWBhERycLCICIiWVgYREQkCwuDiIhkYWEQ\n",
              "EZEsLAwiIpKFhUFERLKwMIiISBYWBhERyfL/BfQUrVXaABAAAAAASUVORK5CYII=\n",
              "\">\n",
              "        \n",
              "      </div>\n",
              "      <script></script>\n",
              "      <script type=\"text/javascript\">\n",
              "        (() => {\n",
              "          const chartElement = document.getElementById(\"chart-8ce75119-daab-4c86-aea3-3420635d0744\");\n",
              "          async function getCodeForChartHandler(event) {\n",
              "            const chartCodeResponse =  await google.colab.kernel.invokeFunction(\n",
              "                'getCodeForChart', [\"chart-8ce75119-daab-4c86-aea3-3420635d0744\"], {});\n",
              "            const responseJson = chartCodeResponse.data['application/json'];\n",
              "            await google.colab.notebook.addCell(responseJson.code, 'code');\n",
              "          }\n",
              "          chartElement.onclick = getCodeForChartHandler;\n",
              "        })();\n",
              "      </script>\n",
              "      <style>\n",
              "        .colab-quickchart-chart-with-code  {\n",
              "            display: block;\n",
              "            float: left;\n",
              "            border: 1px solid transparent;\n",
              "        }\n",
              "\n",
              "        .colab-quickchart-chart-with-code:hover {\n",
              "            cursor: pointer;\n",
              "            border: 1px solid #aaa;\n",
              "        }\n",
              "      </style>"
            ]
          },
          "metadata": {}
        },
        {
          "output_type": "display_data",
          "data": {
            "text/plain": [
              "<google.colab._quickchart_helpers.SectionTitle at 0x7a043867aad0>"
            ],
            "text/html": [
              "<h4 class=\"colab-quickchart-section-title\">Categorical distributions</h4>\n",
              "<style>\n",
              "  .colab-quickchart-section-title {\n",
              "      clear: both;\n",
              "  }\n",
              "</style>"
            ]
          },
          "metadata": {}
        },
        {
          "output_type": "display_data",
          "data": {
            "text/plain": [
              "import numpy as np\n",
              "from google.colab import autoviz\n",
              "\n",
              "def categorical_histogram(df, colname, figscale=1, mpl_palette_name='Dark2'):\n",
              "  from matplotlib import pyplot as plt\n",
              "  import seaborn as sns\n",
              "  df.groupby(colname).size().plot(kind='barh', color=sns.palettes.mpl_palette(mpl_palette_name), figsize=(8*figscale, 4.8*figscale))\n",
              "  plt.gca().spines[['top', 'right',]].set_visible(False)\n",
              "  return autoviz.MplChart.from_current_mpl_state()\n",
              "\n",
              "chart = categorical_histogram(df, *[0], **{})\n",
              "chart"
            ],
            "text/html": [
              "      <div class=\"colab-quickchart-chart-with-code\" id=\"chart-8a2e6e49-dfa6-4aad-a93a-54d0631554bf\">\n",
              "        <img src=\"data:image/png;base64,iVBORw0KGgoAAAANSUhEUgAAAWYAAADgCAYAAAAwuMxnAAAAOXRFWHRTb2Z0d2FyZQBNYXRwbG90\n",
              "bGliIHZlcnNpb24zLjcuMSwgaHR0cHM6Ly9tYXRwbG90bGliLm9yZy/bCgiHAAAACXBIWXMAAA9h\n",
              "AAAPYQGoP6dpAAAMkElEQVR4nO3da2xUZR7H8d8UsuOL7WWFIk2vllIsFasIlYiyVII0hqZExGBC\n",
              "KGihGjcYScSQkJAqsRuibFBfUI1hQRNvKGgQX0gpBF5ovQCKF0KtvSCtEhNbNTC0nWdfGOvOWtxD\n",
              "2zPn3+H7SebFTJ/p+T+BfDk5U05DzjknAIAZSUEPAACIRZgBwBjCDADGEGYAMIYwA4AxhBkAjCHM\n",
              "AGAMYQYAY8yGeevWrUGPAACBMBvmtra2oEcAgECYDTMAXK4IMwAYQ5gBwBjCDADGEGYAMIYwA4Ax\n",
              "hBkAjCHMAGAMYQYAYwgzABhDmAHAGMIMAMYQZgAwhjADgDEh55wLeojBzJi+SLf9vTroMQAgxuZ/\n",
              "LfT9GJwxA4AxhBkAjCHMAGAMYQYAYwgzABhDmAHAGMIMAMYQZgAwhjADgDGEGQCMIcwAYMxYP7/5\n",
              "7bffrq6uLiUlJSk5OVlPP/20brjhBj8PCQCjnq9hfu2115SWliZJ2r17t1asWKHjx4/7eUgAGPV8\n",
              "DfNvUZak7u5uhUKhQddFIhFFIpGY11w06udoAGCWr2GWpOXLl6uxsVGStG/fvkHX1NXVqba2Nua1\n",
              "jIlT/B4NAEyK2/2Yd+zYoVdffXXQOA92xlw2Z5nmla2Ox2gA4FlC3Y+5qqpKjY2N+uGHH/7wtXA4\n",
              "rJSUlJhHKIkfGAFwefKtfj/++KPOnDkz8HzPnj0aN26crrzySr8OCQAJwbdrzN3d3VqyZInOnTun\n",
              "pKQkpaena+/evRf9ABAA8Cvfwpybm6umpia/vj0AJCwu5AKAMYQZAIwhzABgDGEGAGMIMwAYQ5gB\n",
              "wBjCDADGEGYAMIYwA4AxhBkAjPH9fsxDNWduvjZv8f/2egBgDWfMAGAMYQYAYwgzABhDmAHAGMIM\n",
              "AMYQZgAwhjADgDGEGQCMIcwAYAxhBgBjCDMAGEOYAcAYwgwAxhBmADCGMAOAMYQZAIwhzABgDGEG\n",
              "AGMIMwAYQ5gBwBjCDADGEGYAMIYwA4AxhBkAjCHMAGAMYQYAYwgzABhDmAHAGMIMAMaEnHMu6CEG\n",
              "s7I4pPUz+XcDgC2F/+73/RiUDwCMIcwAYAxhBgBjCDMAGEOYAcAYwgwAxhBmADCGMAOAMYQZAIwh\n",
              "zABgDGEGAGN8C/P58+e1aNEiFRYWqqSkRPPnz1dzc7NfhwOAhOHrGfPq1at18uRJHT9+XJWVlaqu\n",
              "rvbzcACQEC45zC0tLTp48KAOHjyolpaWi6674oordMcddygUCkmSZs2apdbW1iEPCgCXi7FeF375\n",
              "5ZeqqqpSR0eHcnJyJEnt7e3Kzs7W9u3bVVxc/Kfv37p1qyorKwf9WiQSUSQSiXmtP+p1MgBILJ7D\n",
              "vGLFCj366KNavHhxzOu7du3SypUr1dTUdNH3PvHEE2publZDQ8OgX6+rq1NtbW3MayXjvU4GAInF\n",
              "843yp0yZopMnT17y15588km98sor2r9/v9LS0gZdM9gZ8z9uStWGm/ihEQC2mLpR/vjx4/Xiiy8q\n",
              "Gv39GkM0GtWOHTs0bty4Qd+zZcsWvfzyy3rvvfcuGmVJCofDSklJiXmMockALlOez5ibm5tVU1Oj\n",
              "jz/+WBkZGZKkzs5OTZ8+Xdu2bVNhYWHM+tOnTys7O1v5+flKTk6W9GuAP/jgA0+D8aulAFgUjzNm\n",
              "z9eYCwoK1NDQoLNnz6qjo0OSlJ2drfT09EHXZ2VlyeivEwQA0zyH+Tfp6ekXjTEAYPi4VgAAxhBm\n",
              "ADCGMAOAMYQZAIwhzABgDGEGAGMIMwAYQ5gBwBjCDADGXPL//IuXvy14WIVbtgQ9BgDEHWfMAGAM\n",
              "YQYAYwgzABhDmAHAGMIMAMYQZgAwhjADgDGEGQCMIcwAYAxhBgBjCDMAGEOYAcAYwgwAxhBmADCG\n",
              "MAOAMYQZAIwhzABgDGEGAGMIMwAYQ5gBwBjCDADGEGYAMIYwA4AxhBkAjCHMAGAMYQYAYwgzABhD\n",
              "mAHAGMIMAMYQZgAwJuScc0EPMZi/LpiptKXzgh4DAGKcXvlP34/BGTMAGEOYAcAYwgwAxhBmADCG\n",
              "MAOAMYQZAIwhzABgDGEGAGMIMwAYQ5gBwBjCDADG+BrmNWvWKC8vT6FQSMeOHfPzUACQMHwN8113\n",
              "3aUjR44oNzfXz8MAQEIZ6+c3nzNnjqd1kUhEkUgk9sV+kze9AwDfmbjGXFdXp9TU1JjHhW86gx4L\n",
              "AAJhIszr169Xd3d3zOMvV2cEPRYABMLXSxlehcNhhcPh2BfHhIIZBgACZuKMGQDwO1/DXFNTo6ys\n",
              "LJ0+fVoLFixQQUGBn4cDgITg66WM+vp6P789ACQkLmUAgDGEGQCMIcwAYAxhBgBjCDMAGEOYAcAY\n",
              "wgwAxhBmADCGMAOAMYQZAIwxcXe5wawuvlVbVv4z6DEAIO44YwYAYwgzABhDmAHAGMIMAMYQZgAw\n",
              "hjADgDGEGQCMIcwAYAxhBgBjCDMAGEOYAcAYwgwAxhBmADCGMAOAMSZv+xmJRPTuu++qv79fY8aM\n",
              "CXocX/X396upqUmlpaXsNYGw18Q03L3m5ubqoYce+r/rQs45N5QB/dTT06PU1FR1d3crJSUl6HF8\n",
              "xV4TE3tNTPHaK5cyAMAYwgwAxhBmADDGZJjD4bA2btyocDgc9Ci+Y6+Jib0mpnjt1eSHfwBwOTN5\n",
              "xgwAlzPCDADGEGYAMIYwA4AxgYb51KlTuvnmm1VYWKiZM2fq888/H3TdCy+8oMmTJ2vSpElatWqV\n",
              "ent74zzp8HnZ64EDB1RaWqqpU6equLhY69atUzQaDWDa4fH65ypJzjnddtttSktLi9+AI8jrXj/7\n",
              "7DPNnTtXRUVFKioq0ptvvhnnSYfPy16j0ajWrl2rqVOn6rrrrlNZWZmam5sDmHZ41qxZo7y8PIVC\n",
              "IR07duyi63xrkwtQWVmZ2759u3POuddff93NmDHjD2taWlpcRkaG6+zsdNFo1FVUVLhnn302zpMO\n",
              "n5e9fvLJJ+7rr792zjl37tw5N3v27IH3jCZe9vqbp556ylVXV7vU1NT4DDfCvOz1l19+cVdffbU7\n",
              "fPiwc865vr4+9/3338dzzBHhZa+7d+92paWl7sKFC8455x5//HG3ZMmSeI45Ig4dOuQ6Ojpcbm6u\n",
              "O3r06KBr/GxTYGH+7rvvXHJysuvt7XXOOReNRt1VV13lTp06FbNu8+bNrqamZuD5O++842bPnh3X\n",
              "WYfL617/14MPPug2btwYhwlHzqXs9cSJE+7WW291zc3NozLMXvf6/PPPu3vuuSeIEUeM173u2bPH\n",
              "lZSUuJ6eHheNRt0jjzziHn744SBGHhF/FmY/2xTYpYyOjg5lZGRo7Nhfb3AXCoWUk5Oj9vb2mHXt\n",
              "7e3Kzc0deJ6Xl/eHNdZ53et/6+rq0q5du7Rw4cJ4jTkivO61t7dXq1atUn19/ai9I5nXvX7xxRcK\n",
              "h8NauHChrr/+ei1fvlxnz54NYuQh87rXiooKzZ07VxMnTlRGRoYaGhr02GOPBTGy7/xsEx/+GdTT\n",
              "06OKigqtW7dOM2bMCHocX9TW1urOO+9UUVFR0KP4rq+vT/v371d9fb2OHj2qzMxMPfDAA0GP5YuP\n",
              "PvpIJ06c0LfffqszZ85o3rx5uv/++4Mea9QJLMzZ2dnq7OxUX1+fpF8/BGpvb1dOTk7MupycHLW1\n",
              "tQ08b21t/cMa67zuVZJ++uknlZeXq7KyUmvXro33qMPmda+HDh3SM888o7y8PN1yyy3q6elRXl7e\n",
              "qDqTvJS/w2VlZcrMzFQoFNKyZcv0/vvvBzHykHnd686dOwc+zE1KSlJVVZUaGxuDGNl3frYpsDBP\n",
              "mDBB06dP10svvSRJeuONN5SVlaWCgoKYdYsXL9bbb7+trq4uOee0bds2LV26NIiRh8zrXn/++WeV\n",
              "l5ervLxcGzZsCGLUYfO618OHD6utrU2tra06cuSIUlJS1NraqvT09CDGHhKve7377rv14Ycfqqen\n",
              "R5K0b98+lZSUxH3e4fC61/z8fB04cEAXLlyQJO3du1fXXntt3OeNB1/bNCJXqofoq6++crNmzXKT\n",
              "J092N954o/v000+dc87dd9997q233hpY99xzz7n8/HyXn5/v7r333oFPfEcTL3vdtGmTGzt2rCsp\n",
              "KRl4bNq0Kcixh8Trn+tvvvnmm1H54Z9z3ve6c+dOV1xc7KZNm+bKy8tde3t7UCMPmZe9nj9/3lVX\n",
              "V7trrrnGTZs2zc2fP3/gJ41Gk9WrV7vMzEw3ZswYN2HCBDdp0iTnXPzaxE2MAMAYPvwDAGMIMwAY\n",
              "Q5gBwBjCDADGEGYAMIYwA4AxhBkAjCHMAGAMYQYAYwgzABjzH9JjuWzJOKQvAAAAAElFTkSuQmCC\n",
              "\">\n",
              "        \n",
              "      </div>\n",
              "      <script></script>\n",
              "      <script type=\"text/javascript\">\n",
              "        (() => {\n",
              "          const chartElement = document.getElementById(\"chart-8a2e6e49-dfa6-4aad-a93a-54d0631554bf\");\n",
              "          async function getCodeForChartHandler(event) {\n",
              "            const chartCodeResponse =  await google.colab.kernel.invokeFunction(\n",
              "                'getCodeForChart', [\"chart-8a2e6e49-dfa6-4aad-a93a-54d0631554bf\"], {});\n",
              "            const responseJson = chartCodeResponse.data['application/json'];\n",
              "            await google.colab.notebook.addCell(responseJson.code, 'code');\n",
              "          }\n",
              "          chartElement.onclick = getCodeForChartHandler;\n",
              "        })();\n",
              "      </script>\n",
              "      <style>\n",
              "        .colab-quickchart-chart-with-code  {\n",
              "            display: block;\n",
              "            float: left;\n",
              "            border: 1px solid transparent;\n",
              "        }\n",
              "\n",
              "        .colab-quickchart-chart-with-code:hover {\n",
              "            cursor: pointer;\n",
              "            border: 1px solid #aaa;\n",
              "        }\n",
              "      </style>"
            ]
          },
          "metadata": {}
        },
        {
          "output_type": "display_data",
          "data": {
            "text/plain": [
              "import numpy as np\n",
              "from google.colab import autoviz\n",
              "\n",
              "def categorical_histogram(df, colname, figscale=1, mpl_palette_name='Dark2'):\n",
              "  from matplotlib import pyplot as plt\n",
              "  import seaborn as sns\n",
              "  df.groupby(colname).size().plot(kind='barh', color=sns.palettes.mpl_palette(mpl_palette_name), figsize=(8*figscale, 4.8*figscale))\n",
              "  plt.gca().spines[['top', 'right',]].set_visible(False)\n",
              "  return autoviz.MplChart.from_current_mpl_state()\n",
              "\n",
              "chart = categorical_histogram(df, *[1], **{})\n",
              "chart"
            ],
            "text/html": [
              "      <div class=\"colab-quickchart-chart-with-code\" id=\"chart-f7a4ee7a-a6e9-40a9-9ce7-0d3dc7d9d78e\">\n",
              "        <img src=\"data:image/png;base64,iVBORw0KGgoAAAANSUhEUgAAAYYAAADgCAYAAAAHWsEWAAAAOXRFWHRTb2Z0d2FyZQBNYXRwbG90\n",
              "bGliIHZlcnNpb24zLjcuMSwgaHR0cHM6Ly9tYXRwbG90bGliLm9yZy/bCgiHAAAACXBIWXMAAA9h\n",
              "AAAPYQGoP6dpAAARJklEQVR4nO3deWyUZbvH8d/QwVFUqKhoQdqyWhxpB2gLKHJKUd4aISyC1IDi\n",
              "AnUNCCpYg/KiRoyySCBRXAIBRAkuLKLGjeCCBlAbBENZ7IJY0GhtUbS0nfv84escrxfKGaHTmdLv\n",
              "J2nSzjydue5C5jvzPO08HuecEwAA/9Es2gMAAGILYQAAGIQBAGAQBgCAQRgAAAZhAAAYhAEAYBAG\n",
              "AIBBGOowf/78aI8AAFFBGOpQUlIS7REAICoIAwDAIAwAAIMwAAAMwgAAMAgDAMAgDAAAgzAAAAzC\n",
              "AAAwCAMAwCAMAACDMAAADMIAADAIAwDAIAwAAMPjnHPRHiIWpfccpuz/GR/tMQDAeHLe4IjfB68Y\n",
              "AAAGYQAAGIQBAGAQBgCAQRgAAAZhAAAYhAEAYBAGAIBBGAAABmEAABiEAQBgRDQMr7/+unr16qVA\n",
              "IKCUlBRlZ2crGAzq6aef1oEDByJ51wCAE+SN1A2XlZUpLy9PX3zxhZKSkiRJX375pTwej55++mll\n",
              "ZWXpwgsvjNTdAwBOUMReMRw8eFBxcXFq3bp16LKePXvq0Ucf1ffff6/Ro0crEAiooKBA1dXVeuCB\n",
              "B5SZmalAIKDrrrtO5eXl2rdvn9q0aaMjR46EbuOmm27S/PnzJUlbtmxRdna20tPT1aNHD61atUqS\n",
              "VFxcrPj4eM2YMUO9evVS586d9dZbb9U5a1VVlSorK82HCwYj9JMBgNgWsTCkpqaqX79+SkpK0vDh\n",
              "w/XUU09p//79evjhh9W2bVutXLlSBQUFCgQCeuqpp3TmmWdq8+bNKigoUPfu3TV9+nS1b99egUBA\n",
              "a9eulST9+uuvWrt2rcaOHatffvlFeXl5eumll7R161a99957uvfee7V//35JUkVFhVJTU/XFF19o\n",
              "4cKFmjx5cp2zzpo1S61atTIfZQd3RepHAwAxLWJhaNasmV577TVt2rRJOTk5+vTTT+X3+7Vnz56j\n",
              "tl29erWWL1+uQCCgQCCgl19+WUVFRZKkm2++WYsXL5YkrVq1StnZ2Tr33HO1adMmffvtt7r66qsV\n",
              "CAR05ZVXSpIKCwslSaeffrpGjBghSerbt6/27t1b56z5+fmqqKgwHwkXdK3XnwcANBYRO8bwl5SU\n",
              "FKWkpOi2225TTk5O6Nn/3znntGDBAg0aNOio64YPH66JEyeqrKxMS5Ys0dSpU0Pf4/f7tWnTpqO+\n",
              "p7i4WD6fTx6PR5IUFxen2traOmf0+Xzy+XzmMk8zfmELQNMUsUe//fv369NPPw19XV5erqKiInXq\n",
              "1EktW7ZURUVF6Lphw4Zp3rx5Onz4sCTp8OHD2rFjh6Q/n/mPGjVK//73v7V3717l5ORIki677DIV\n",
              "FRXp/fffD91OQUGBOR4BAPjnIvaKoaamRo888oiKiorUokUL1dTUaNy4cRo6dKh+/PFHTZgwQS1a\n",
              "tNCSJUs0bdo0VVVVqXfv3qFn+dOmTZPf75f05+6kzMxMTZs2TXFxcZKkc845R+vXr9d9992ne++9\n",
              "V9XV1UpMTNTq1asjtSQAaBI453MdOOczgFjEOZ8BAA2OMAAADMIAADAIAwDAIAwAAIMwAAAMwgAA\n",
              "MAgDAMAgDAAAgzAAAIyIv7tqY9U/q6OenBv5Pz0HgFjDKwYAgEEYAAAGYQAAGIQBAGAQBgCAQRgA\n",
              "AAZhAAAYhAEAYBAGAIBBGAAABmEAABiEAQBgEAYAgEEYAAAGYQAAGIQBAGAQBgCAQRgAAAZhAAAY\n",
              "hAEAYBAGAIBBGAAABmEAABiEAQBgEAYAgEEYAAAGYQAAGIQBAGAQBgCA4XHOuWgPEYtu9nuUn0E3\n",
              "AcSWrktqI34fPPIBAAzCAAAwCAMAwCAMAACDMAAADMIAADAIAwDAIAwAAIMwAAAMwgAAMAgDAMDw\n",
              "RnuA5ORk+Xw+nXHGGZKk9PR0vfDCC1GeCgCarqiHQZJWrlypQCDwj76npqZGXm9MjA8Ap5SY25W0\n",
              "YsUK9e7dWz169FBaWprWrVsXui4rK0sTJ05U3759NWjQIEnS7NmzlZmZqZ49eyonJ0clJSWSpHXr\n",
              "1ik1NVWBQECXXnqp1qxZE5X1AEBjExNPuUePHh3alfTQQw/p888/l8fjUXFxsfr06aOSkhL5fD5J\n",
              "0q5du/TRRx+pefPmWrFihQoLC/XZZ58pLi5Oy5Yt05133qn169dr+vTpWrRokfr27atgMKjKyso6\n",
              "77+qqkpVVVXmstpg5NYLALGsXsLQtWtX7dq164S//++7krZu3aqrr75a3333nbxer37++WcVFRUp\n",
              "JSVFkjR27Fg1b95ckrR69Wpt2bJFvXr1kiTV1v7f+5QPHDhQkyZN0siRIzVo0KDj7qqaNWuWZs6c\n",
              "aS5LO++ElwMAjVrYYdi2bVud1x06dKhehpGk3NxcPfHEExo5cqQkqXXr1vrjjz9C15911lmhz51z\n",
              "ys/PV15e3lG3M3fuXO3YsUMbNmzQuHHjNGbMGE2dOvWY95mfn68pU6aYy+7u3ao+lgMAjU7YYQgE\n",
              "AkpOTtaxTvj2008/1dtA5eXl6tChgyRp+fLlKi8vr3PbYcOGac6cORo5cqRat26t6upqbd++XT16\n",
              "9NDOnTvl9/vl9/vl9Xr17rvv1nk7Pp8vtKvqL3Exd/QFABpG2GFISkrSJ598orZt2x51Xfv27ett\n",
              "oPnz52vkyJGKj49Xdna2EhMT69x2zJgx+umnnzRgwABJf/6m0i233KIePXrowQcfVGFhoU477TS1\n",
              "aNFCzzzzTL3NCACnsrDP+Txp0iSNGjVK/fr1O+q622+/Xc8++2y9DxdNnPMZQCxqiHM+hx2GpoYw\n",
              "AIhFDREGHvkAAAZhAAAYhAEAYBAGAIBBGAAABmEAABiEAQBgEAYAgEEYAABGTJyPIRad86/J6jp3\n",
              "brTHAIAGxysGAIBBGAAABmEAABiEAQBgEAYAgEEYAAAGYQAAGIQBAGAQBgCAQRgAAAZhAAAYhAEA\n",
              "YBAGAIBBGAAABmEAABiEAQBgEAYAgEEYAAAGYQAAGIQBAGAQBgCAQRgAAAZhAAAYhAEAYBAGAIBB\n",
              "GAAABmEAABiEAQBgEAYAgEEYAACGxznnoj1ELDrrXxmKzx0Y7TEAwPju5icifh+8YgAAGIQBAGAQ\n",
              "BgCAQRgAAAZhAAAYhAEAYBAGAIBBGAAABmEAABiEAQBgEAYAgOGN5p0nJyfL5/PpjDPOCF22bNky\n",
              "paamqry8XPHx8dEbDgCaqKiGQZJWrlypQCAQ7TEAAP8R87uSdu/erWuuuUYZGRlKTU3VwoULQ9d5\n",
              "PB49/vjjyszMVIcOHbR48eLQdffdd58yMjIUCATUv39/FRYW1nkfVVVVqqysNB+q5U1nATRNUX/F\n",
              "MHr0aLMr6bPPPgt9Xltbq+uvv17Lly9XSkqKDh8+rD59+qh3797KyMiQJPl8Pm3evFk7d+5URkaG\n",
              "brjhBnm9Xk2bNk2zZ8+WJL3yyiuaNGmS3nnnnWPOMGvWLM2cOdNc1rxj2/peKgA0ClEPw/F2JRUW\n",
              "FmrHjh3Kzc0NXXbo0CF98803oTCMGTNGkpSSkiKv16sDBw7ooosu0nvvvacFCxbo0KFDCgaD+vnn\n",
              "n+ucIT8/X1OmTDGXtR2RfZIrA4DGKephOB7nnFq3bq2CgoI6tzn99NNDn8fFxammpkalpaW6++67\n",
              "tWXLFnXq1Enbtm1T//7967wNn88nn89nL4zznOz4ANAoxfQxhosvvlgtW7Y0xw727Nlz3Gf/klRR\n",
              "UaHmzZsrISFBzjlzXAIAcHxRf8Xw38cY5s2bF/rc6/XqzTff1D333KN58+aptrZW5513nlasWHHc\n",
              "2+zevbtyc3Pl9/t17rnnatiwYZEaHwBOOZzzuQ6c8xlALOKczwCABkcYAAAGYQAAGIQBAGAQBgCA\n",
              "QRgAAAZhAAAYhAEAYBAGAIBBGAAARtTfKylW5fmv0NwG+NNzAIg1vGIAABiEAQBgEAYAgEEYAAAG\n",
              "YQAAGIQBAGAQBgCAQRgAAAZhAAAYhAEAYBAGAIBBGAAABmEAABiEAQBg8Lbbx1BVVaW3335btbW1\n",
              "iouLi/Y4EVVbW6vNmzcrMzOTtZ5CWOup6WTXmpSUpEmTJv2/23mcc+5EBjyVVVZWqlWrVqqoqFDL\n",
              "li2jPU5EsdZTE2s9NTXUWtmVBAAwCAMAwCAMAACDMByDz+fTjBkz5PP5oj1KxLHWUxNrPTU11Fo5\n",
              "+AwAMHjFAAAwCAMAwCAMAACDMAAAjCYdht27d+uyyy5T165dlZGRoR07dhxzuxdffFFdunRRp06d\n",
              "NGHCBFVXVzfwpCcvnLV++OGHyszM1CWXXCK/36+pU6cqGAxGYdqTE+6/qyQ555Sdna34+PiGG7Ae\n",
              "hbvWr7/+WllZWerWrZu6deum119/vYEnPXnhrDUYDGrKlCm65JJLlJqaqgEDBmjPnj1RmPbkTJw4\n",
              "UcnJyfJ4PCooKKhzu4g9NrkmbMCAAW7x4sXOOedWrVrl0tPTj9rm22+/dQkJCa6srMwFg0E3ZMgQ\n",
              "t3Dhwgae9OSFs9Yvv/zS7d271znn3O+//+4uv/zy0Pc0JuGs9S9z5sxx48ePd61atWqY4epZOGv9\n",
              "7bffXIcOHdzHH3/snHOupqbG/fDDDw05Zr0IZ61vvPGGy8zMdEeOHHHOOffoo4+6UaNGNeSY9WLj\n",
              "xo1u3759LikpyX311VfH3CaSj01NNgwHDx50Z599tquurnbOORcMBt0FF1zgdu/ebbZ78skn3W23\n",
              "3Rb6ev369e7yyy9v0FlPVrhr/W933XWXmzFjRgNMWH/+yVq3b9/urrjiCrdnz55GGYZw1/r888+7\n",
              "66+/Phoj1ptw17p69WqXlpbmKisrXTAYdPfff7+bPHlyNEauF8cLQyQfm5rsrqR9+/YpISFBXu+f\n",
              "bzDr8XiUmJio0tJSs11paamSkpJCXycnJx+1TawLd61/d+DAAb366qsaPHhwQ41ZL8Jda3V1tSZM\n",
              "mKBFixY12nfkDHet33zzjXw+nwYPHqxAIKAbb7xRP/74YzRGPmHhrnXIkCHKysrShRdeqISEBH3w\n",
              "wQd65JFHojFyxEXysanJhgF1q6ys1JAhQzR16lSlp6dHe5yImDlzpkaMGKFu3bpFe5SIq6mp0fvv\n",
              "v69Fixbpq6++Urt27XTHHXdEe6yI2Lp1q7Zv3679+/fr+++/18CBA3X77bdHe6xGp8mGoX379ior\n",
              "K1NNTY2kPw9ClpaWKjEx0WyXmJiokpKS0NfFxcVHbRPrwl2rJB06dEg5OTkaOnSopkyZ0tCjnrRw\n",
              "17px40YtWLBAycnJ6tevnyorK5WcnNyonkn/k//DAwYMULt27eTxeDR27Fh9/vnn0Rj5hIW71qVL\n",
              "l4Z+maBZs2YaN26cNmzYEI2RIy6Sj01NNgxt2rRRz549tXz5cknSa6+9posuukidO3c221177bVa\n",
              "u3atDhw4IOecnn32WeXm5kZj5BMW7lp//fVX5eTkKCcnR9OnT4/GqCct3LV+/PHHKikpUXFxsT75\n",
              "5BO1bNlSxcXFOv/886Mx9gkJd63XXXedtmzZosrKSknSW2+9pbS0tAaf92SEu9aOHTvqww8/1JEj\n",
              "RyRJb775pi699NIGn7chRPSxqV6OVDRSO3fudH369HFdunRxvXr1ctu2bXPOOXfrrbe6NWvWhLZ7\n",
              "7rnnXMeOHV3Hjh3dLbfcEvqNh8YknLU+9thjzuv1urS0tNDHY489Fs2xT0i4/65/KSoqapQHn50L\n",
              "f61Lly51fr/fde/e3eXk5LjS0tJojXzCwlnrH3/84caPH+9SUlJc9+7d3VVXXRX6TbvGJC8vz7Vr\n",
              "187FxcW5Nm3auE6dOjnnGu6xiTfRAwAYTXZXEgDg2AgDAMAgDAAAgzAAAAzCAAAwCAMAwCAMAACD\n",
              "MAAADMIAADAIAwDA+F+jB9+VqpV6GgAAAABJRU5ErkJggg==\n",
              "\">\n",
              "        \n",
              "      </div>\n",
              "      <script></script>\n",
              "      <script type=\"text/javascript\">\n",
              "        (() => {\n",
              "          const chartElement = document.getElementById(\"chart-f7a4ee7a-a6e9-40a9-9ce7-0d3dc7d9d78e\");\n",
              "          async function getCodeForChartHandler(event) {\n",
              "            const chartCodeResponse =  await google.colab.kernel.invokeFunction(\n",
              "                'getCodeForChart', [\"chart-f7a4ee7a-a6e9-40a9-9ce7-0d3dc7d9d78e\"], {});\n",
              "            const responseJson = chartCodeResponse.data['application/json'];\n",
              "            await google.colab.notebook.addCell(responseJson.code, 'code');\n",
              "          }\n",
              "          chartElement.onclick = getCodeForChartHandler;\n",
              "        })();\n",
              "      </script>\n",
              "      <style>\n",
              "        .colab-quickchart-chart-with-code  {\n",
              "            display: block;\n",
              "            float: left;\n",
              "            border: 1px solid transparent;\n",
              "        }\n",
              "\n",
              "        .colab-quickchart-chart-with-code:hover {\n",
              "            cursor: pointer;\n",
              "            border: 1px solid #aaa;\n",
              "        }\n",
              "      </style>"
            ]
          },
          "metadata": {}
        },
        {
          "output_type": "display_data",
          "data": {
            "text/plain": [
              "import numpy as np\n",
              "from google.colab import autoviz\n",
              "\n",
              "def categorical_histogram(df, colname, figscale=1, mpl_palette_name='Dark2'):\n",
              "  from matplotlib import pyplot as plt\n",
              "  import seaborn as sns\n",
              "  df.groupby(colname).size().plot(kind='barh', color=sns.palettes.mpl_palette(mpl_palette_name), figsize=(8*figscale, 4.8*figscale))\n",
              "  plt.gca().spines[['top', 'right',]].set_visible(False)\n",
              "  return autoviz.MplChart.from_current_mpl_state()\n",
              "\n",
              "chart = categorical_histogram(df, *[3], **{})\n",
              "chart"
            ],
            "text/html": [
              "      <div class=\"colab-quickchart-chart-with-code\" id=\"chart-e4dd22cd-750e-4f23-b14f-dacd0f0c7f37\">\n",
              "        <img src=\"data:image/png;base64,iVBORw0KGgoAAAANSUhEUgAAAXsAAADgCAYAAADi6MY/AAAAOXRFWHRTb2Z0d2FyZQBNYXRwbG90\n",
              "bGliIHZlcnNpb24zLjcuMSwgaHR0cHM6Ly9tYXRwbG90bGliLm9yZy/bCgiHAAAACXBIWXMAAA9h\n",
              "AAAPYQGoP6dpAAAOvUlEQVR4nO3db0yV9f/H8deJ00hn0M8pjiwgDHAw5YiCTi0z50zN6RxLvOEy\n",
              "++MNm/ZTR/OGU5tL17Jmutoqx7flWKa2XDpzq6R1R+0fc2E2QQEpsxbWYSqoh8/3xneeeQLlAjnX\n",
              "Ad/Px8bGua4PnDcXH58eDgoB55wTAOCOdleiBwAAxB+xBwADiD0AGEDsAcAAYg8ABhB7ADCA2AOA\n",
              "AcQeAAwwFfutW7cmegQASAhTsW9oaEj0CACQEKZiDwBWEXsAMIDYA4ABxB4ADCD2AGAAsQcAA4g9\n",
              "ABhA7AHAAGIPAAYQewAwgNgDgAHEHgAMIPYAYACxBwADiD0AGEDsAcAAYg8ABhB7ADCA2AOAAcQe\n",
              "AAwg9gBgALEHAAMCzjmX6CH88kxBQGuK+fsNQN+S+59I3O+D8gGAAcQeAAwg9gBgALEHAAOIPQAY\n",
              "QOwBwABiDwAGEHsAMIDYA4ABxB4ADCD2AGAAsQcAA4g9ABhA7AHAAGIPAAYQewAwgNgDgAHEHgAM\n",
              "CPp1R6FQSJJ05coV/fLLLxo1apQkKS8vT7t27fJrDAAwybfYV1dXS5Lq6+sVCoWit2907do1BYO+\n",
              "jQQAZiT8aZysrCy9/PLLKikp0dNPP62qqqroVwGS9NNPPykrKyt6+9ChQ5o8ebLGjh2rkpISHT58\n",
              "2P+hAaCf6RMPo//66y8dPXpUgUBAVVVVN113+vRprV+/XocOHVJKSopqa2v1yCOPqL6+XsnJyTFr\n",
              "29ra1NbWFnMs0h6P6QGg7+sTsV+8eLECgUCX6z7//HPV1tbq0UcfjR6766671NjYqJycnJi1mzZt\n",
              "0oYNG2KOFQ7pnXkBoL/pE7EfNGhQ9PVgMKhIJBK93draGn3dOafp06ersrKyy/e5Zs0arVy5MubY\n",
              "i+NTe2FaAOh/Ev6c/b9lZ2eroaFBf/75pyTpww8/jJ6bMWOGvvjiCx0/fjx67NixY52+n+TkZKWk\n",
              "pMS8JPW5jxYA/NEnHtnf6P7771d5eblKSko0bNgwzZw5M3ru4YcfVmVlpZYuXapLly7pypUrGjNm\n",
              "jKdH+gBgWcA55xI9hF+eKQhoTTEP7wH0Lbn/iXS96DZRPgAwgNgDgAHEHgAMIPYAYACxBwADiD0A\n",
              "GEDsAcAAYg8ABhB7ADCA2AOAAcQeAAwg9gBgALEHAAOIPQAYQOwBwABiDwAGEHsAMIDYA4ABfe53\n",
              "0MbT/834f+W+8UaixwAA3/HIHgAMIPYAYACxBwADiD0AGEDsAcAAYg8ABhB7ADCA2AOAAcQeAAwg\n",
              "9gBgALEHAAOIPQAYQOwBwABiDwAGEHsAMIDYA4ABxB4ADCD2AGAAsQcAA4g9ABhwW7G/cOFCb80B\n",
              "AIgjz7Gvrq5WKBRSUVGRampqNHv2bA0fPlwZGRk6fvx4PGcEANwmz7FfsWKF1q9fr+XLl2vWrFkq\n",
              "KyvTpUuX9NZbb2n16tXxnBEAcJs8xz4cDmvevHlavHixnHNatGiRJGnevHn6448/4jYgAOD2eY69\n",
              "cy76+tSpU296DgDQ93iO/bBhwxQOhyVJH3zwQfT4uXPndM899/T+ZACAXhP0uvDQoUOdHh84cKB2\n",
              "797dawMBAHqf59jfTGpqqlJTU3tjFgBAnPCfqgDAAGIPAAYQewAwgNgDgAHEHgAMIPYAYACxBwAD\n",
              "iD0AGEDsAcAAYg8ABhB7ADCA2AOAAcQeAAwg9gBgALEHAAOIPQAYQOwBwICAM/TbwgfNKNZ9ZdMS\n",
              "PQbuEE3PbE70CIBnPLIHAAOIPQAYQOwBwABiDwAGEHsAMIDYA4ABxB4ADCD2AGAAsQcAA4g9ABhA\n",
              "7AHAAGIPAAYQewAwgNgDgAHEHgAMIPYAYACxBwADiD0AGEDsAcCAuMY+KytLeXl5CoVCCoVCeu65\n",
              "52669rHHHtOnn34az3EAwKxgvO9g165dCoVC8b4bAMAt+Po0TmVlpcaPH68xY8aosLBQn332Wafr\n",
              "3n//feXn5ysUCmnUqFE6evSoJOnUqVOaPXu2iouLNXr0aG3fvv2m99XW1qZwOBzzooiLy8cFAH1d\n",
              "3B/ZL1iwQAMGDJAkrV27VkeOHFEgEFB9fb0mTJighoYGJScnx7zNqlWrdPLkSaWnp+vq1atqa2tT\n",
              "JBLRwoULtXPnTo0cOVKXLl3ShAkTNH78eBUXF3e4302bNmnDhg0xx+7Ovj9+HygA9GG+Po3z3Xff\n",
              "aebMmWpqalIwGFRzc7POnDmjkSNHxrzNtGnTtGjRIs2ZM0czZ85Ubm6uTpw4oZqaGpWVlUXXtbS0\n",
              "6MSJE53Gfs2aNVq5cmXMsfvnP977HyAA9ANxj/2NysrKtHnzZpWWlkqSBg8erNbW1g7r9u7dq++/\n",
              "/15VVVWaNWuWNm7cqFGjRmnw4MGqrq72dF/JyckdvmJQUuB2PwQA6Jd8fc7+woULeuihhyRJO3fu\n",
              "1IULFzqsuXbtmurq6jRu3DitXr1apaWlOnbsmPLy8pSSkqKKioro2traWjU3N/s2PwD0V74+st+6\n",
              "datKS0t133336fHHH1dGRkaHNZFIREuWLFFzc7OCwaCGDh2qiooKBYNB7d+/Xy+99JLefPNNRSIR\n",
              "DRkyRJWVlX5+CADQLwWcc2b+icqgGcW6r2xaosfAHaLpmc2JHgHwjP9BCwAGEHsAMIDYA4ABxB4A\n",
              "DCD2AGAAsQcAA4g9ABhA7AHAAGIPAAYQewAwgNgDgAHEHgAMIPYAYACxBwADiD0AGEDsAcAAYg8A\n",
              "Bvj6awkT7YWCR/QGv10IgEE8sgcAA4g9ABhA7AHAAGIPAAYQewAwgNgDgAHEHgAMIPYAYACxBwAD\n",
              "iD0AGEDsAcAAYg8ABhB7ADCA2AOAAcQeAAwg9gBgALEHAAOIPQAYQOwBwABiDwAGEHsAMIDYA4AB\n",
              "wUQP4Je2tjYdPHhQkUhESUlJiR5HkhSJRHTs2DGVlJQw0y0wkzfM1P/mkW5/pszMTK1YsaLLdQHn\n",
              "nOvJgP1NOBxWamqq/vnnH6WkpCR6HEnM5BUzecNM/W8eyb+ZeBoHAAwg9gBgALEHAAPMxD45OVnr\n",
              "1q1TcnJyokeJYiZvmMkbZupaX5tH8m8mM9+gBQDLzDyyBwDLiD0AGEDsAcAAYg8ABtwRsT916pQm\n",
              "Tpyo3NxcFRcXq6amptN1O3bsUE5OjkaMGKHnn39eV69e9XQuHvN89dVXKikpUX5+vgoKClReXq72\n",
              "9nZJUn19vZKSkhQKhaIvdXV1PZ7H60xVVVUaMGBAzP1evnw5er43r5HXmSoqKmLmGTJkiObPny8p\n",
              "Ptdp+fLlysrKUiAQUHV19U3X+bWXvMzj917yMpPfe8nLTH7vpdbWVs2bN0+5ubkqLCzU9OnTVVtb\n",
              "2+na/fv3a+TIkcrJydH8+fMVDoc9nesWdweYOnWqq6iocM45t3v3bjdu3LgOa06fPu3S09PduXPn\n",
              "XHt7u5szZ47bvn17l+fiNc8PP/zg6urqnHPOXb582U2aNCn6NmfOnHGpqak9vv+eznT48GFXWFjY\n",
              "6dv39jXyOtO/FRQUuD179jjn4nOdvv76a3f27FmXmZnpfvzxx07X+LmXvMzj917yMpPfe8nLTP8W\n",
              "7710+fJld+DAAdfe3u6cc27btm1uypQpHda1tLS4tLQ09/PPPzvnnFu2bJlbvXp1l+e6q9/H/vz5\n",
              "8+7ee+91V69edc45197e7oYNG+ZOnToVs+61115zS5cujd4+cOCAmzRpUpfn4jXPvy1btsytW7fO\n",
              "Odf7G8/rTLf6A9qb16g7M93oyJEjbujQoe7KlSvOufj8Ab3uVtHway95neff4rmXvM7k517yOtON\n",
              "/NxL13377bcuMzOzw/GPP/7YzZgxI3q7pqbGDR8+vMtz3dXvn8Y5e/as0tPTFQz+7wd4BgIBZWRk\n",
              "qLGxMWZdY2OjMjMzo7ezsrKia251Ll7z3Oj333/Xnj179OSTT0aPXbx4UcXFxSoqKtIrr7yiSCTS\n",
              "o3m6O1NdXZ2KiopUXFyst99+O3q8N69Rd2e6bseOHVq0aJHuvvvu6LHevE5e+bWXeiLee6k7/NpL\n",
              "PZGIvbR161bNnTu3w/HOrse5c+d07dq1W57rLjM/4rivCofDmjNnjsrLyzVu3DhJUnp6un799Vel\n",
              "paWpublZCxYs0JYtW1ReXh7XWYqKitTU1KTU1FQ1NTVp1qxZGjJkiJ566qm43q8XFy9e1EcffaQj\n",
              "R45EjyXqOvVV7CVvErGXXn31VdXW1urLL7/slffXE/3+kf2DDz4Y8zedc06NjY3KyMiIWZeRkaGG\n",
              "hobo7fr6+uiaW52L1zyS1NLSoieeeEJz587VypUro8eTk5OVlpYmSRo8eLCWLFmib775pkfzdGem\n",
              "lJQUpaamSpIeeOABLVy4MHq/vXmNujPTdbt371ZBQYHy8/Ojx3r7Onnl117qDr/2kld+7qXu8nsv\n",
              "vf766/rkk0908OBBDRw4sMP5zq7H9a96b3Wu23r05E8fM2XKlJhv9I0dO7bDmrq6ug7fFNq2bVuX\n",
              "5+I1T0tLi5s4caLbsGFDh3Pnz5+PPpfY2trqSktL3dq1a3s8j9eZfvvtNxeJRJxzzoXDYTdx4kS3\n",
              "Y8cO51zvXyOvM103efJk995778Uci8d1uu5Wz/36uZe8zOP3XvIyk997yctM1/m5l7Zs2eKKiopc\n",
              "c3PzTdeEw2E3dOjQmG/Crlq1qstz3XVHxP7kyZNuwoQJLicnx40dO9YdP37cOefcs88+6/bt2xdd\n",
              "9+6777rs7GyXnZ3tlixZEv3kdnUuHvNs3LjRBYNBV1hYGH3ZuHGjc865vXv3uoKCAjd69GiXn5/v\n",
              "XnzxRdfa2trjebzOtG3bNpefnx+933Xr1kX/JYFzvXuNvM50fd2gQYNcOByOeft4XKcXXnjBDR8+\n",
              "3CUlJbm0tDQ3YsSITmfyay95mcfvveRlJr/3ktfPm5976ezZs06Sy87Ojn5eSkpKnHPOrV271r3z\n",
              "zjvRtfv27XN5eXluxIgRbu7cue7vv//2dK47+EFoAGBAv3/OHgDQNWIPAAYQewAwgNgDgAHEHgAM\n",
              "IPYAYACxBwADiD0AGEDsAcAAYg8ABvwXw4Q2TtGpNWMAAAAASUVORK5CYII=\n",
              "\">\n",
              "        \n",
              "      </div>\n",
              "      <script></script>\n",
              "      <script type=\"text/javascript\">\n",
              "        (() => {\n",
              "          const chartElement = document.getElementById(\"chart-e4dd22cd-750e-4f23-b14f-dacd0f0c7f37\");\n",
              "          async function getCodeForChartHandler(event) {\n",
              "            const chartCodeResponse =  await google.colab.kernel.invokeFunction(\n",
              "                'getCodeForChart', [\"chart-e4dd22cd-750e-4f23-b14f-dacd0f0c7f37\"], {});\n",
              "            const responseJson = chartCodeResponse.data['application/json'];\n",
              "            await google.colab.notebook.addCell(responseJson.code, 'code');\n",
              "          }\n",
              "          chartElement.onclick = getCodeForChartHandler;\n",
              "        })();\n",
              "      </script>\n",
              "      <style>\n",
              "        .colab-quickchart-chart-with-code  {\n",
              "            display: block;\n",
              "            float: left;\n",
              "            border: 1px solid transparent;\n",
              "        }\n",
              "\n",
              "        .colab-quickchart-chart-with-code:hover {\n",
              "            cursor: pointer;\n",
              "            border: 1px solid #aaa;\n",
              "        }\n",
              "      </style>"
            ]
          },
          "metadata": {}
        },
        {
          "output_type": "display_data",
          "data": {
            "text/plain": [
              "<google.colab._quickchart_helpers.SectionTitle at 0x7a043936bd90>"
            ],
            "text/html": [
              "<h4 class=\"colab-quickchart-section-title\">2-d categorical distributions</h4>\n",
              "<style>\n",
              "  .colab-quickchart-section-title {\n",
              "      clear: both;\n",
              "  }\n",
              "</style>"
            ]
          },
          "metadata": {}
        },
        {
          "output_type": "display_data",
          "data": {
            "text/plain": [
              "import numpy as np\n",
              "from google.colab import autoviz\n",
              "\n",
              "def heatmap(df, x_colname, y_colname, figscale=1, mpl_palette_name='viridis'):\n",
              "  from matplotlib import pyplot as plt\n",
              "  import seaborn as sns\n",
              "  import pandas as pd\n",
              "  plt.subplots(figsize=(8 * figscale, 8 * figscale))\n",
              "  df_2dhist = pd.DataFrame({\n",
              "      x_label: grp[y_colname].value_counts()\n",
              "      for x_label, grp in df.groupby(x_colname)\n",
              "  })\n",
              "  sns.heatmap(df_2dhist, cmap=mpl_palette_name)\n",
              "  plt.xlabel(x_colname)\n",
              "  plt.ylabel(y_colname)\n",
              "  return autoviz.MplChart.from_current_mpl_state()\n",
              "\n",
              "chart = heatmap(df, *[0, 1], **{})\n",
              "chart"
            ],
            "text/html": [
              "      <div class=\"colab-quickchart-chart-with-code\" id=\"chart-3f46aba6-237e-4652-a23d-962bb8396f32\">\n",
              "        <img src=\"data:image/png;base64,iVBORw0KGgoAAAANSUhEUgAAAXMAAAFrCAYAAAAjP2lkAAAAOXRFWHRTb2Z0d2FyZQBNYXRwbG90\n",
              "bGliIHZlcnNpb24zLjcuMSwgaHR0cHM6Ly9tYXRwbG90bGliLm9yZy/bCgiHAAAACXBIWXMAAA9h\n",
              "AAAPYQGoP6dpAAAox0lEQVR4nO3df1BUV5738fcFY8d1adSMDhgERpAw/oiAYTejRs2OGTWl6Eaz\n",
              "moyZIYq2a2WlHtboQ4wbjRkxNUlmqNlNqU8Y88MNiaPGhzXrrmMmOw8UEydKMI5GBQVbE5XEGEhU\n",
              "WqDv80dvetODBrrhgrf5vKpOFd333D7HrvLDl3NP3zZM0zQRERFbi+juCYiISMcpzEVEwoDCXEQk\n",
              "DCjMRUTCgMJcRCQMKMxFRMKAwlxEJAwozEVEwoDCXEQkDCjMRUTaYdmyZSQmJmIYBpWVldftU1tb\n",
              "y6RJk4iOjiYtLa3V8aKiIoYNG0ZSUhKLFi2iqampXcfaQ2EuItIOc+bMoaysjISEhBv2cTqdPPPM\n",
              "M7z++uutjtXU1LB69WpKS0uprq7mwoULbN68uc1j7aUwFxFphwkTJhAXF/etfQYMGMD48ePp27dv\n",
              "q2Pbt28nKyuLmJgYDMNgyZIlFBcXt3msvXoF1VtEJIx4PB48Hk/Acw6HA4fD0eljud3ugKo+MTER\n",
              "t9vd5rH2Upj3MEMLX+juKYSFU7l53T0F+W/e8ykhn1uw8WHWrl0b8NxTTz3FmjVrOjirrqcwFxFb\n",
              "8+IN+dz8/Hzy8gJ/MVtRlQPEx8dz8uRJ/+Pa2lri4+PbPNZeWjMXEVtrMb0hN4fDgdPpDGhWhfns\n",
              "2bMpKSnh/PnzmKbJxo0bmTdvXpvH2kthLiK25sUMuQXD5XIRFxfH2bNnmTJlCsnJyQDk5ORQUlIC\n",
              "wJUrV4iLi+PBBx/k6NGjxMXFkZ+fD8DQoUNZu3Yt48aNIzk5mYEDB+Jyudo81l6GvmmoZ9GaeefQ\n",
              "mvnN4+q574V8bp/Ymk6cSffSmrmI2FpH1szDicJcRGytRYsLgMJcRGwu2LXvcKUwFxFba1GYA9rN\n",
              "IiISFlSZi4itaZnFR2EuIramC6A+CnMRsTVtTPRRmIuIrekCqI/CXERsrUVZDmg3i4hIWFBlLiK2\n",
              "pjVzH4W5iNhaC0Z3T+GmoDAXEVvzas0cUJiLiM2pMvdRmIuIrSnMfbSbRUQkDKgyFxFb85qqzEFh\n",
              "LiI2p2UWH4W5iNhai1aLAYW5iNiclll8FOYiYmtaZvHR3yciImFAlbmI2FqLqZoUFOYiYnNeLTAA\n",
              "CnMRsTmtmfsozEXE1rTM4qMwFxFb86oyB7SbRUQkLKgyFxFb0ydAffQuiIittZgRIbdgLFu2jMTE\n",
              "RAzDoLKy8ob9ioqKGDZsGElJSSxatIimpiYAtmzZQlpamr995zvf4YEHHgCgtraWyMjIgOMnT54M\n",
              "an4KcxGxNS8RIbdgzJkzh7KyMhISEm7Yp6amhtWrV1NaWkp1dTUXLlxg8+bNADz66KNUVlb6W0xM\n",
              "DD/+8Y/950ZFRQUcT0pKCmp+CnMRsbUW0wi5eTweGhoaAprH47nuOBMmTCAuLu5b57J9+3aysrKI\n",
              "iYnBMAyWLFlCcXFxq3779++nrq6OrKysTnkPQGEuIjbXQkTIraCggOjo6IBWUFAQ8lzcbndA5Z6Y\n",
              "mIjb7W7Vr6ioiEceeYRbbrnF/9zly5fJzMwkIyODp59+mpaWlqDG1gVQEemx8vPzycvLC3jO4XBY\n",
              "Oubly5d54403eO+99/zPxcbG8vHHHzNo0CA+//xz5s6dy/PPP8+KFSva/bqWV+ZVVVVMmzaNwYMH\n",
              "M2DAAH8TEekMXjMi5OZwOHA6nQGtI2EeHx/P6dOn/Y9ra2uJj48P6POb3/yGESNGMHz4cP9zDoeD\n",
              "QYMGATBgwAAWLFhAaWlpUGNbHuaLFi0iOzub/v378/vf/545c+awfPlyq4cVkR6iI8ssnW327NmU\n",
              "lJRw/vx5TNNk48aNzJs3L6BPUVERCxcuDHiurq7Ov+vF4/Gwc+dO0tPTgxrb8jBvaGhg7ty5RERE\n",
              "MGrUKDZt2sSuXbusHlZEeoiOXAANhsvlIi4ujrNnzzJlyhSSk5MByMnJoaSkBIChQ4eydu1axo0b\n",
              "R3JyMgMHDsTlcvlf4/jx41RWVjJ37tyA1y4rKyM9PZ3Ro0eTkZFBTEwMq1atCmp+hmmaZlBnBOmv\n",
              "//qv2b9/P2PHjuX1118nJiaG4cOHc+rUKSuHlRsYWvhCd08hLJzKzWu7k3SJV6rGhnzuT4eVd+JM\n",
              "upflF0AnTJjAxYsXeeyxxxgzZgy9e/du9WeHiEiodKMtH8vD/Oc//zkADz/8MPfccw/19fWMHDnS\n",
              "6mFFRHqULvmV5vV6+eSTTzBNE6fTed19lyIiofBihNzCieWV+csvv8yyZcu45ZZbiIjw/e4wDIO6\n",
              "ujqrhxaRHkDLLD6Wh/m6det4//33ueOOO6weSkR6IN010cfyMP/Od76jIBcRy3iD3GIYriwP81mz\n",
              "ZvHLX/6Shx9+mFtvvdX/vNPpvG5/j8fT6kY3DofD8o/Yiog9qTL3sfxdWLVqFXl5ecTExNC/f3/6\n",
              "9etH//79b9i/s298IyLSE1hemXu93qD6d8eNb0TEvry6AAp00V0TDx48yNGjR3nkkUf44osvuHr1\n",
              "KrGxsdftqyUVEQlGS5htMQyV5b/SXnzxRRYsWMCaNWsAuHjxIg8//LDVw4pID9GRuyaGE8v/NZs3\n",
              "b+a9997zX/BMSkri008/tXpYEekhWjBCbuHE8mUWh8NBnz59Agftpe/EEJHOEW4VdqgsfxcGDhzI\n",
              "iRMnMAzfb8GXX3651c3aRUSkYywvkX/5y1/y0EMPcezYMYYMGYLT6WT37t1WDysiPYQ+zu9jeZgn\n",
              "Jyezf/9+jh8/jmma3HHHHURGRlo9rIj0EOF2w6xQWRbmDQ0NAY9vv/12wPdlpnDjT4CKiARDlbmP\n",
              "ZWHer18/DMPgm19k9PVjwzBoaWmxamgR6UF0bxYfy36lffjhh7S0tOD1erly5Qper9f/+J133rFq\n",
              "WBHpYW6mL3TuTpb9a37yk5/4fx47NvA7+v784/oiItIxli2zfHN55c+/M9ri75AWkR5Eyyw+loX5\n",
              "1/vK//zn6z0WEQmVN8yWS0JlWZhfvXqVw4cPY5pmwM9fHxMR6QwtqswBi8M8KyvL//ibP6syF5HO\n",
              "omUWH8vCvLa21qqXFhHx071ZfPQuiIiEAd2+UERsLdxuZRsqhbmI2JrWzH0U5iJia1oz99G7ICK2\n",
              "5sUIuQVj2bJlJCYmYhgGlZWVN+xXVFTEsGHDSEpKYtGiRTQ1NQHwX//1X/Tp04e0tDR/++Y27Rud\n",
              "114KcxGxtRbTCLkFY86cOZSVlZGQkHDDPjU1NaxevZrS0lKqq6u5cOECmzdv9h+/4447qKys9Lev\n",
              "v4WtrfPaQ2EuItIOEyZMIC4u7lv7bN++naysLGJiYjAMgyVLllBcXNzma4d63jdpzVxEbK0ja+Ye\n",
              "jwePxxPwnMPhwOFwhPR6brc7oHJPTEzE7Xb7H588eZKMjAwiIyN59NFHWbp0abvOaw9V5iJia17T\n",
              "CLkVFBQQHR0d0AoKCiyZZ0ZGBmfPnqWiooK33nqLjRs3sm3btk57fYW5iNhaRy6A5ufnU19fH9Dy\n",
              "8/NDnkt8fDynT5/2P66trfV/gb3T6SQ6OhqAuLg4HnroIUpLS9s8r70U5iJiax2pzB0OB06nM6CF\n",
              "usQCMHv2bEpKSjh//jymabJx40bmzZsHwLlz5/B6vQB8+eWX7N69m/T09DbPay+FuYjYmteMCLkF\n",
              "w+VyERcXx9mzZ5kyZQrJyckA5OTkUFJSAsDQoUNZu3Yt48aNIzk5mYEDB+JyuQDYsWMHo0aNYvTo\n",
              "0dx9993cd999PProo22e116GqW+K6FGGFr7Q3VMIC6dy9W1ZN4u5f1gS8rlv/mBjJ86ke2k3i4jY\n",
              "mj7O76MwFxFbC/aTnOFKYS4itqbK3EdhLiK2pjD30W4WEZEwoMpcRGxNlbmPwlxEbE1h7qMwFxFb\n",
              "024WH4W5iNiaKnMfhbmI2JrC3Ee7WUREwoAqcxGxNVXmPgpzEbE1hbmPwlxEbM1UmAMKcxGxOW1N\n",
              "9FGYi4itaZnFR7tZRETCgCpzEbE1rZn7KMxFxNa0zOKjMBcRW1Nl7qMwFxFbU2XuY4sw1zfKdx59\n",
              "q7yEG9Ps7hncHLSbRUQkDNiiMhcRuRF9aMhHYS4itqYLoD4KcxGxNV0A9VGYi4it6QKoj8JcRGxN\n",
              "yyw+2s0iIhIGVJmLiK2pMvdRZS4ituY1jZBbMJYtW0ZiYiKGYVBZWXnDfkVFRQwbNoykpCQWLVpE\n",
              "U1MTAL/73e/4q7/6K4YPH86IESNYsWIFXq8XgNraWiIjI0lLS/O3kydPBjU/hbmI2Jppht6CMWfO\n",
              "HMrKykhISLhhn5qaGlavXk1paSnV1dVcuHCBzZs3A9C/f3/eeOMNjh49ysGDBykvL+fVV1/1nxsV\n",
              "FUVlZaW/JSUlBTU/hbmI2JppGiE3j8dDQ0NDQPN4PNcdZ8KECcTFxX3rXLZv305WVhYxMTEYhsGS\n",
              "JUsoLi4GID09naFDhwJw6623kpaWRm1tbae9DwpzEbG1joR5QUEB0dHRAa2goCDkubjd7oDKPTEx\n",
              "Ebfb3arf+fPn2b59O9OnT/c/d/nyZTIzM8nIyODpp5+mpaUlqLEV5iLSY+Xn51NfXx/Q8vPzLR2z\n",
              "oaGBGTNmsGLFCu666y4AYmNj+fjjj3n//ffZt28fpaWlPP/880G9rsJcRGzN7EBzOBw4nc6A5nA4\n",
              "Qp5LfHw8p0+f9j+ura0lPj7e//jLL79k6tSpzJw5k7y8/7mDqcPhYNCgQQAMGDCABQsWUFpaGtTY\n",
              "CnMRsbWOLLN0ttmzZ1NSUsL58+cxTZONGzcyb948AL766iumTp3K1KlTefLJJwPOq6ur8+968Xg8\n",
              "7Ny5k/T09KDGVpiLiL11pDQPgsvlIi4ujrNnzzJlyhSSk5MByMnJoaSkBIChQ4eydu1axo0bR3Jy\n",
              "MgMHDsTlcgFQWFjIH//4R3bu3Onffvizn/0MgLKyMtLT0xk9ejQZGRnExMSwatWqoOZnmObNf2cD\n",
              "fTlF59GXU0i4GfabZ0I+t+rBJ9vuZBP6BKiI2NrNX452DS2ziIiEAVXmImJrujeLj8JcROxNYQ4o\n",
              "zEXE5rRm7qMwFxF7U5gDCnMRsTmtmftoN4uISBhQZS4i9qZlFkBhLiI2p2UWH4W5iNibKnNAYS4i\n",
              "tqfKHBTmImJ3qswB7WYREQkLqsxFxN5UmQMKcxGxO+1mARTmImJzujeLj8JcROxNYQ4ozEXE7rTM\n",
              "Amg3i4hIWFBlLiK2ZmiZBVCYi4jdKcyBLlhm+bd/+zcaGhoAeO6555gzZw5/+tOfrB5WRHoK0wi9\n",
              "hRHLw3zVqlU4nU4OHTrE1q1bue+++/j7v/97q4cVkZ7C7EALI5aHea9evpWcvXv3snjxYlwuF5cv\n",
              "X7Z6WBHpKRTmQBeEeUtLC/v372fHjh3ce++9ADQ1NVk9rIhIj2J5mD/zzDO4XC7GjRvH97//fY4f\n",
              "P05KSorVw4pIT6HKHOiC3SwzZsxgxowZ/sd33HEHO3bssHpYEekpwuxCZqgsr8zPnDnD9OnTSUtL\n",
              "A6CyspJf/OIXVg8rIj2EYYbewonlYe5yuZg3bx7mf98NZ+TIkfz617+2elgR6Sm6aJll2bJlJCYm\n",
              "YhgGlZWVN+xXVFTEsGHDSEpKYtGiRQHXCEM91h6Wh3ldXR3z588nIsI3VK9evfw7XERE7GLOnDmU\n",
              "lZWRkJBwwz41NTWsXr2a0tJSqquruXDhAps3b+7Qsfbqkq2J5jfuUXnp0qWAxyIidjBhwgTi4uK+\n",
              "tc/27dvJysoiJiYGwzBYsmQJxcXFHTrWXpaXyA8++CAul4uGhgZeeuklNm7cSE5Ozg37ezwePB5P\n",
              "wHNmczOGqnkRuY6OrH1fL28cDgcOhyOk13O73QGVe2JiIm63u0PH2qtTKvNv22r4j//4j9x7773c\n",
              "dddd7N27l7y8PB577LEb9i8oKCA6OjqgffHbdzpjmiISjjrwcf7r5U1BQUF3/4tC0u5y98MPP7zh\n",
              "sS+//PK6z7e0tDBlyhT27dvHQw891K5x8vPzycvLC3hu9P/Z2N5pikhP04HK/Hp5E2pVDhAfH8/J\n",
              "kyf9j2tra4mPj+/QsfZqd5inpaWRmJh43fXuixcvXvecyMhIrly5gtfr9V8Abcv1/sTREouI3FAH\n",
              "wrwjSyrXM3v2bMaPH8+aNWv47ne/y8aNG5k3b16HjrVXu1MyISGBsrIyBg8e3OrYkCFDbnheZmYm\n",
              "06dPZ/78+fzlX/6l//msrKygJioicj1dtV/c5XLx9ttvc/78eaZMmUJUVBTV1dXk5OSQlZVFVlYW\n",
              "Q4cOZe3atYwbNw6ASZMm4XK5AEI+1l6G2c6tJbm5uTz44IOMHz++1bElS5awceP1l0K+vh9LwKCG\n",
              "we9+97t2T3Jo4Qvt7ivf7lRuXtudRGwk6YXQ8+FkXvj8f2h3ZV5YWHjDYzcKcoB33303uBmJiARD\n",
              "O52BLvqmoaamJmpqamhsbPQ/d+edd3bF0CIS7hTmQBeE+e7du1m0aBGXLl2ib9++XLp0iYSEBGpq\n",
              "aqweWkR6gHC7x0qoLP8E6OrVq3nvvff4/ve/z8WLF3n11VeZM2eO1cOKSE+hr40DuiDMIyIiSEhI\n",
              "oLm5GYD58+cHdfFTRETaZvkyyy233AJAXFwcb731FomJiVy6dMnqYUWkp9AyC2BhmC9evJjNmzeT\n",
              "m5vLW2+9xTPPPMO8efP44osvvnVnjIhIMLRm7mNZmB84cACAhx56iIyMDCoqKqiqqrJqOBHpqRTm\n",
              "QBdtTdQtb0XEKqrMfSwL86tXr3L48GFM06SxsdH/89e0z1xEOoXCHLA4zL95/5Vv/mwYBqdOnbJq\n",
              "aBGRHseyMK+trbXqpUVE/ocqc6CL1sxFRKyiNXMfyz80JCIi1lNlLiL2psocUJiLiM1pmcVHyywi\n",
              "ImFAlbmI2Jsqc0BhLiJ2pzAHFOYiYnNaM/dRmIuIvSnMAYW5iNicKnMf7WYREQkDqsxFxN5UmQMK\n",
              "cxGxO4U5oDAXEZvTmrmPwlxE7E1hDijMRcTuFOaAdrOIiIQFVeYiYmtaM/dRZS4i9mZ2oAWhqqqK\n",
              "sWPHkpKSQmZmJkeOHGnVx+v1snz5ckaOHElqaioLFy7k2rVrAPznf/4naWlp/jZ48GAyMjL85xqG\n",
              "wahRo/zHS0tLg5qfwlxEbM0wQ2/BcLlcLF68mBMnTrBy5Uqys7Nb9SkqKqKiooKKigo++ugjIiIi\n",
              "KCwsBGDKlClUVlb6W0ZGBj/+8Y8Dzi8tLfUfv+eee4Kan8JcROytA5W5x+OhoaEhoHk8nlZD1NXV\n",
              "ceDAAebPnw/A7NmzOXPmDNXV1QH9Dh06xOTJk+nduzeGYTBt2jRee+21Vq/3ySef8M477/DII490\n",
              "1rugMBcRm+tAmBcUFBAdHR3QCgoKWg1x5swZYmNj6dXLd5nRMAzi4+Nxu90B/caMGUNJSQkNDQ00\n",
              "NTWxbds2amtrW73eyy+/zP3338+gQYMCnv/hD3/I6NGjycvL4/Lly0G9DQpzEemx8vPzqa+vD2j5\n",
              "+fkhv152djZTp05l4sSJTJw4kZSUFP8vgK+Zpsmvf/1rFi5cGPD86dOnOXjwIOXl5Xz66ac8/vjj\n",
              "QY2tMBcRWzM60BwOB06nM6A5HI5WYwwZMoRz587R3NwM+ALZ7XYTHx8fOBfDYM2aNXzwwQeUl5cz\n",
              "fPhwRowYEdDn97//PY2NjUyZMiXg+a9fq2/fvixdulQXQEWkh+mC3SyDBg0iIyODrVu3ArBjxw7i\n",
              "4uJITk4O6NfY2MilS5cA+Oyzz9iwYQMrVqwI6FNUVER2djaRkZH+5y5dusSVK1cA346YN998k/T0\n",
              "9PZPEO0zFxGb66p95ps2bSI7O5v169fjdDrZsmULADk5OWRlZZGVlUV9fT2TJk0iIiICr9dLbm4u\n",
              "M2bM8L9GfX09O3fu5PDhwwGvfezYMVwuF4Zh0NzcTEZGhn8XTHsZpmne9Fvuhxa+0N1TCBuncvO6\n",
              "ewoinWp07i9CPvdQ4f/qxJl0L1XmImJvN3052jW0Zi4iEgZUmYuIreneLD4KcxGxN4U5oDAXEZtT\n",
              "Ze6jMBcRe1OYAwpzEbE5VeY+tghz7Y2Wm40++9B59P+7c9gizEVEbkiVOaAwFxG7U5gDCnMRsTmt\n",
              "mfsozEXE3hTmgMJcRGzOuPnvFdgldG8WEZEwoMpcROxNhTmgMBcRm9MFUB+FuYjYm8IcUJiLiM2p\n",
              "MvdRmIuIvSnMAe1mEREJC6rMRcTWtMziozAXEXtTmAMKcxGxOVXmPgpzEbE3fZwfUJiLiM2pMvfR\n",
              "bhYRkTCgylxE7E2VOaAwFxGbM7zdPYObg8JcROxNlTmgNXMRsTnDDL0Fo6qqirFjx5KSkkJmZiZH\n",
              "jhxp1cfr9bJ8+XJGjhxJamoqCxcu5Nq1awDU1tYSGRlJWlqav508edJ/7u7du0lNTWXYsGE88MAD\n",
              "NDQ0BDU/hbmI2Jtpht6C4HK5WLx4MSdOnGDlypVkZ2e36lNUVERFRQUVFRV89NFHREREUFhY6D8e\n",
              "FRVFZWWlvyUlJQHw1VdfsXDhQnbt2kVVVRWDBw9m3bp1Qc1PYS4i0oa6ujoOHDjA/PnzAZg9ezZn\n",
              "zpyhuro6oN+hQ4eYPHkyvXv3xjAMpk2bxmuvvdbm6+/Zs4f09HRSU1MBWLp0KcXFxUHNUWEuIrbW\n",
              "kWUWj8dDQ0NDQPN4PK3GOHPmDLGxsfTq5bvMaBgG8fHxuN3ugH5jxoyhpKSEhoYGmpqa2LZtG7W1\n",
              "tf7jly9fJjMzk4yMDJ5++mlaWloAcLvdJCQk+PslJiZy7tw5mpub2/0+KMxFxN7M0FtBQQHR0dEB\n",
              "raCgIOSpZGdnM3XqVCZOnMjEiRNJSUnx/wKIjY3l448/5v3332ffvn2Ulpby/PPPh/7v/jMKcxGx\n",
              "tY5U5vn5+dTX1we0/Pz8VmMMGTIkoFI2TRO32018fHzgXAyDNWvW8MEHH1BeXs7w4cMZMWIEAA6H\n",
              "g0GDBgEwYMAAFixYQGlpKQDx8fGcPn3a/zq1tbUBfwm0h8JcROytAxdAHQ4HTqczoDkcjlZDDBo0\n",
              "iIyMDLZu3QrAjh07iIuLIzk5OaBfY2Mjly5dAuCzzz5jw4YNrFixAvCtuzc1NQG+5Z2dO3eSnp4O\n",
              "wNSpU6moqODYsWMAvPjii8ybNy+ot0H7zEXE1rrq3iybNm0iOzub9evX43Q62bJlCwA5OTlkZWWR\n",
              "lZVFfX09kyZNIiIiAq/XS25uLjNmzACgrKyMf/qnfyIyMpLm5mb+5m/+hlWrVgG+XS4vvfQSs2bN\n",
              "orm5mZEjR/LKK68ENT/DNHXLMZFgDS18obunEDZO5eZ16PwJM38e8rn/7/8+3qGxbyaqzEXE3lSO\n",
              "AgpzEbE53QLXR2EuIvbmVZqDwlxE7E5ZDli8NfE//uM/SE1NpXfv3kRGRhIREUFkZKSVQ4qI9EiW\n",
              "VubLli3jV7/6FT/4wQ8U4iJiCa2Z+1ga5k6nkylTplg5hIj0dNpdDVi8zDJ9+nR27dpl5RAi0sN1\n",
              "1f3Mb3aWVuaFhYXU19fTp08fHA4HpmliGAaff/65lcOKSE8SZqEcKkvDvLKy0sqXFxHB0DILYPEy\n",
              "S0JCAr1796ampoaEhARuv/12YmNjrRxSRKRHsjTMt2/fzt133+3/eqUjR44wa9YsK4cUkZ7G24EW\n",
              "RiwN84KCAioqKujfvz8Ao0ePDrhnr4hIRxmmGXILJ5aumUdGRnLbbbcFPNe7d28rhxSRnia8Mjlk\n",
              "loZ5VFQUFy5cwDAMAN555x0GDBhg5ZAi0tOEWYUdKkvD/Nlnn2XatGmcOnWK8ePHU1NTw9tvv23l\n",
              "kCLSw4TbfvFQWRrmd911F++++y7l5eWYpsnYsWPp16+flUOKiPRIlob5r371Kx555BGmTZtm5TAi\n",
              "0pNpmQWweDdLRUUFSUlJ/N3f/R179uxB31AnIp3N8IbewomlYb5lyxbcbjfTpk3j2WefJSEhwf8F\n",
              "piIincI0Q29hxNIwB+jbty+PPvoob7zxBvfffz8bNmz41v4ej4eGhoaA5vF4rJ6miNiV2YEWRiwN\n",
              "8+bmZnbu3Mn06dMZPXo0vXr1Yv/+/d96TkFBAdHR0QGtoKDAymmKiI3pQ0M+ll4Avf3220lPTyc7\n",
              "O5sdO3bgcDjaPCc/P5+8vLyA59pznohIT2ZpmB88eJC4uLigznE4HApvEWm/MKuwQ2XpMktUVBSP\n",
              "PfYYM2bMAODo0aMUFxdbOaSI9DS60RZgcZi7XC5iYmKoqakB4Hvf+x7PPvuslUOKSA+jNXMfS8P8\n",
              "xIkTPPnkk9xyyy0A9OnTR3vNRaRzaWsiYPGa+Z/fIfHq1asKcxHpXMoUwOLK/N577+VnP/sZjY2N\n",
              "7Nu3jzlz5vC3f/u3Vg4pItIjWRrm69atIyIiAqfTyRNPPMG4ceN46qmnrBxSRHoaXQAFLA7zo0eP\n",
              "kp+fz/79+/njH//IE088wZ/+9CcrhxSRHqarLoBWVVUxduxYUlJSyMzM5MiRI636eL1eli9fzsiR\n",
              "I0lNTWXhwoVcu3YNgMOHDzNhwgRSU1MZOXIkCxYs4OrVq//z7zAMRo0aRVpaGmlpaZSWlgY1P0vD\n",
              "/Ovv/mzrORGRkHXRBVCXy8XixYs5ceIEK1euvG6WFRUVUVFRQUVFBR999BEREREUFhYCcOutt/LP\n",
              "//zPHDt2jEOHDnH58uVWu/tKS0uprKyksrKSe+65J6j5WXIBtK6ujvPnz3P16lUOHz7sv+j5xRdf\n",
              "cPnyZSuGFJGeqgMXQD0eT6t7P13vg4t1dXUcOHCAvXv3AjB79mwee+wxqqurSU5O9vc7dOgQkydP\n",
              "9m/+mDZtGmvWrOHxxx9n2LBh/n6RkZFkZmZ26kqFJZV5cXExM2fO5NSpU2RlZTFz5kxmzZrFsmXL\n",
              "WLFihRVDikhP1YHKvL33gjpz5gyxsbH06uWrfw3DID4+HrfbHdBvzJgxlJSU0NDQQFNTE9u2baO2\n",
              "trbV612+fJmXXnqJmTNnBjz/wx/+kNGjR5OXlxd04WtJmOfm5lJTU8OTTz5JTU0N+/bt4x/+4R9Y\n",
              "t24dCxcutGJIEZGg5efnU19fH9Dy8/NDfr3s7GymTp3KxIkTmThxIikpKf5fAF+7du0ac+fO5Uc/\n",
              "+lHA7r7Tp09z8OBBysvL+fTTT3n88ceDGtuSMJ88eTKVlZWsXr2aTz75hMzMTPbu3cuKFSv0CVAR\n",
              "6Vwd2M3icDhwOp0B7Xr3hhoyZAjnzp2jubkZANM0cbvdxMfHB/QzDIM1a9bwwQcfUF5ezvDhwxkx\n",
              "YoT/eFNTE3PnziU2Nta/lv61r1+rb9++LF269Oa4APrxxx+TlpYGwOuvv87EiRPZs2cP5eXl/Ou/\n",
              "/qsVQ4pID9UVu1kGDRpERkYGW7duBWDHjh3ExcUFrJcDNDY2cunSJQA+++wzNmzY4F9abm5uZt68\n",
              "eQwYMIDNmzdjGIb/vEuXLnHlyhXAtyPmzTffJD09Paj3wZILoH369PH/XF5ezv333w9A//79W/3J\n",
              "ISLSIV30CdBNmzaRnZ3N+vXrcTqdbNmyBYCcnByysrLIysqivr6eSZMmERERgdfrJTc313+jwTff\n",
              "fJOdO3dy5513+oN63Lhx/Mu//AvHjh3D5XJhGAbNzc1kZGS0qtzbYpgWfL7+rrvuYteuXfTr14+E\n",
              "hAT+8Ic/kJKSAkBqairHjh3r7CFFutTQwhe6ewph41RuXtudvsW0O/53yOfuOf7t33xmJ5aUyU88\n",
              "8QTp6en06tWLe++91x/k5eXlJCYmWjGkiPRUujcLYFGYP/DAA4wdO5YLFy5w5513+p9PTExk8+bN\n",
              "VgwpItKjWbaAHRMTQ0xMTMBzgwcPtmo4EempVJkDFt8CV0TEcgpzQGEuInbnVZiDwlxE7M4Ms3vZ\n",
              "hkhhLiL2pmUWwOJb4IqISNdQZS4i9qY1c0BhLiJ2p2UWQGEuInanMAcU5iJidwpzQGEuInbn1dZE\n",
              "0G4WEZGwoMpcROxNyyyAwlxE7E5hDijMRcTutM8cUJiLiM2ZujcLoDAXEbtTZQ5oN4uISFhQZS4i\n",
              "9qYLoIDCXETsTh8aAhTmImJ3qswBhbmI2JypyhxQmIuI3akyB7SbRUQkLKgyFxF70z5zQGEuInan\n",
              "T4ACCnMRsTlTlTmgNXMRsTvTG3oLQlVVFWPHjiUlJYXMzEyOHDnSqo/X62X58uWMHDmS1NRUFi5c\n",
              "yLVr1/zHd+/eTWpqKsOGDeOBBx6goaGhXcfaQ2EuIrZmes2QWzBcLheLFy/mxIkTrFy5kuzs7FZ9\n",
              "ioqKqKiooKKigo8++oiIiAgKCwsB+Oqrr1i4cCG7du2iqqqKwYMHs27dujaPtZfCXESkDXV1dRw4\n",
              "cID58+cDMHv2bM6cOUN1dXVAv0OHDjF58mR69+6NYRhMmzaN1157DYA9e/aQnp5OamoqAEuXLqW4\n",
              "uLjNY+2lMBcRe+vAMovH46GhoSGgeTyeVkOcOXOG2NhYevXyXWY0DIP4+HjcbndAvzFjxlBSUkJD\n",
              "QwNNTU1s27aN2tpaANxuNwkJCf6+iYmJnDt3jubm5m891l66ANoJPB4PBQUF5Ofn43A4uns6tmaX\n",
              "9/JUbl53T6FNdnkvO+q33t+EfO6aNWtYu3ZtwHNPPfUUa9asCen1srOzOX36NBMnTqRPnz5MnjyZ\n",
              "vXv3hjy/oJjSYfX19SZg1tfXd/dUbE/vZefRe9m2xsZGs76+PqA1Nja26nfhwgUzKirKbGpqMk3T\n",
              "NL1er/nd737XrKqq+tbXLy4uNsePH2+apmlu27bNnDJliv/YkSNHzNtvv73NY+2lZRYR6bEcDgdO\n",
              "pzOgXe+vmEGDBpGRkcHWrVsB2LFjB3FxcSQnJwf0a2xs5NKlSwB89tlnbNiwgRUrVgAwdepUKioq\n",
              "OHbsGAAvvvgi8+bNa/NYe2mZRUSkHTZt2kR2djbr16/H6XSyZcsWAHJycsjKyiIrK4v6+nomTZpE\n",
              "REQEXq+X3NxcZsyYAUBUVBQvvfQSs2bNorm5mZEjR/LKK6+0eay9DNPUXWo6qqGhgejoaOrr63E6\n",
              "nd09HVvTe9l59F72LFpm6QQOh4OnnnoqrC8ydRW9l51H72XPospcRCQMqDIXEQkDCnMRkTCgMBcR\n",
              "CQMK8w5atmwZiYmJGIZBZWVld0/HthobG5k1axYpKSmMHj2a++67r9V9L6T9fvSjH3HnnXeSlpbG\n",
              "PffcwwcffNDdUxKLKcw7aM6cOZSVlQXcV0FCs3jxYo4fP86hQ4eYOXMmOTk53T0l29q2bRsffvgh\n",
              "lZWV5OXlXfcOfxJeFOYdNGHCBOLi4rp7GrZ36623cv/992MYBgB33323/wZFErx+/fr5f66vr/e/\n",
              "rxK+9AlQuSkVFhYyc+bM7p6Grf3kJz/h3XffBeDf//3fu3k2YjWFudx01q9fT3V1Ne+88053T8XW\n",
              "Xn31VQBeeeUVVq5cqUAPc1pmkZvKc889x86dO9mzZw9/8Rd/0d3TCQs//elPeffdd7l48WJ3T0Us\n",
              "pDCXm8YLL7xAcXExv/3tbwPWfCU4X3zxBZ988on/8a5du7jtttsYMGBAN85KrKaP83eQy+Xi7bff\n",
              "5vz589x2221ERUVpS10Izp49y5AhQxg6dChRUVGA794i+/fv7+aZ2c/p06d58MEHuXr1KhEREQwc\n",
              "OJDnnnuOtLS07p6aWEhhLiISBrTMIiISBhTmIiJhQGEuN42qqirGjh1LSkoKmZmZHDlypLunJGIb\n",
              "CnO5abhcLhYvXsyJEydYuXKlPoIuEgRdAJWbQl1dHcnJyXz++ef06tUL0zSJjY2lrKys1Zfmikhr\n",
              "qszlpnDmzBliY2Pp1cv3oWTDMIiPj8ftdnfzzETsQWEuIhIGFOZyUxgyZAjnzp2jubkZANM0cbvd\n",
              "xMfHd/PMROxBYS43hUGDBpGRkcHWrVsB2LFjB3FxcVovF2knXQCVm8bx48fJzs7m4sWLOJ1OtmzZ\n",
              "wqhRo7p7WiK2oDAXEQkDWmYREQkDCnMRkTCgMBcRCQMKcxGRMKAwFxEJAwpzEZEwoDAXEQkDCnMR\n",
              "kTCgMBcRCQMKcxGRMKAwFxEJA/8f82yD1qDOiD8AAAAASUVORK5CYII=\n",
              "\">\n",
              "        \n",
              "      </div>\n",
              "      <script></script>\n",
              "      <script type=\"text/javascript\">\n",
              "        (() => {\n",
              "          const chartElement = document.getElementById(\"chart-3f46aba6-237e-4652-a23d-962bb8396f32\");\n",
              "          async function getCodeForChartHandler(event) {\n",
              "            const chartCodeResponse =  await google.colab.kernel.invokeFunction(\n",
              "                'getCodeForChart', [\"chart-3f46aba6-237e-4652-a23d-962bb8396f32\"], {});\n",
              "            const responseJson = chartCodeResponse.data['application/json'];\n",
              "            await google.colab.notebook.addCell(responseJson.code, 'code');\n",
              "          }\n",
              "          chartElement.onclick = getCodeForChartHandler;\n",
              "        })();\n",
              "      </script>\n",
              "      <style>\n",
              "        .colab-quickchart-chart-with-code  {\n",
              "            display: block;\n",
              "            float: left;\n",
              "            border: 1px solid transparent;\n",
              "        }\n",
              "\n",
              "        .colab-quickchart-chart-with-code:hover {\n",
              "            cursor: pointer;\n",
              "            border: 1px solid #aaa;\n",
              "        }\n",
              "      </style>"
            ]
          },
          "metadata": {}
        },
        {
          "output_type": "display_data",
          "data": {
            "text/plain": [
              "import numpy as np\n",
              "from google.colab import autoviz\n",
              "\n",
              "def heatmap(df, x_colname, y_colname, figscale=1, mpl_palette_name='viridis'):\n",
              "  from matplotlib import pyplot as plt\n",
              "  import seaborn as sns\n",
              "  import pandas as pd\n",
              "  plt.subplots(figsize=(8 * figscale, 8 * figscale))\n",
              "  df_2dhist = pd.DataFrame({\n",
              "      x_label: grp[y_colname].value_counts()\n",
              "      for x_label, grp in df.groupby(x_colname)\n",
              "  })\n",
              "  sns.heatmap(df_2dhist, cmap=mpl_palette_name)\n",
              "  plt.xlabel(x_colname)\n",
              "  plt.ylabel(y_colname)\n",
              "  return autoviz.MplChart.from_current_mpl_state()\n",
              "\n",
              "chart = heatmap(df, *[1, 3], **{})\n",
              "chart"
            ],
            "text/html": [
              "      <div class=\"colab-quickchart-chart-with-code\" id=\"chart-ed011958-c3ea-44e0-9810-6557eb708b74\">\n",
              "        <img src=\"data:image/png;base64,iVBORw0KGgoAAAANSUhEUgAAAXMAAAFrCAYAAAAjP2lkAAAAOXRFWHRTb2Z0d2FyZQBNYXRwbG90\n",
              "bGliIHZlcnNpb24zLjcuMSwgaHR0cHM6Ly9tYXRwbG90bGliLm9yZy/bCgiHAAAACXBIWXMAAA9h\n",
              "AAAPYQGoP6dpAAApOElEQVR4nO3de1RV553/8fcG9WhSIZqIYvGAgEqjUcBgVjRVc6loOhJHyUga\n",
              "s4qKYpxZMnWslsk4QXMhmV9zcdpJ1SVjEh2N11g0cdrYrvaH4y+pitjEeAEF8U4SCRiVI3Ce3x/n\n",
              "l/PrKV64HXAfPq+1nrXC3s/e+zl7tR+/PPs5G8sYYxAREVsLau8BiIhIyynMRUQCgMJcRCQAKMxF\n",
              "RAKAwlxEJAAozEVEAoDCXEQkACjMRUQCgMJcRCQAKMxFRBph3rx5REVFYVkWRUVF1+1TVlbG2LFj\n",
              "CQ0NJT4+vsH+vLw8BgwYQExMDLNmzaK2trZR+xpDYS4i0gipqans3r2byMjIG/YJCQnhxRdfZN26\n",
              "dQ32lZaWsnjxYgoKCigpKeHChQusXLnylvsaS2EuItIIo0ePJiIi4qZ9evbsyUMPPcSdd97ZYN/m\n",
              "zZtJSUmhT58+WJbFnDlzWL9+/S33NVanJvUWEQkgLpcLl8vls83hcOBwOFr9WuXl5T5VfVRUFOXl\n",
              "5bfc11i2CPPoZa+39xACxoms+e09BJFW5T4/sNnH5i7/EUuWLPHZ9vzzz5OTk9PCUbU9W4S5iMiN\n",
              "uHE3+9js7Gzmz/ctcPxRlQM4nU6OHz/u/bmsrAyn03nLfY2lOXMRsbV64252czgchISE+DR/hfmU\n",
              "KVPIz8/n/PnzGGNYvnw5aWlpt9zXWApzEbE1N6bZrSkyMzOJiIjg9OnTJCcnExsbC0BGRgb5+fkA\n",
              "XLlyhYiICJ588kk+//xzIiIiyM7OBiA6OpolS5YwatQoYmNj6dWrF5mZmbfc11iWHf7SkObMW4/m\n",
              "zCXQXD3Xv9nHdgsvbcWRtC/NmYuIrbVkzjyQKMxFxNbqb//JhTahMBcRW2vq3HegUpiLiK3VK8wB\n",
              "rWYREQkIqsxFxNY0zeKhMBcRW9MDUA+FuYjYmhYmeijMRcTW9ADUQ2EuIrZWrywHtJpFRCQgqDIX\n",
              "EVvTnLmHwlxEbK0eq72HcFtQmIuIrbk1Zw4ozEXE5lSZeyjMRcTWFOYeWs0iIhIAVJmLiK25jSpz\n",
              "UJiLiM1pmsVDYS4itlav2WJAYS4iNqdpFg+FuYjYmqZZPPT7iYhIAFBlLiK2Vm9Uk4LCXERszq0J\n",
              "BkBhLiI2pzlzD4W5iNiaplk8FOYiYmtuVeaAVrOIiAQEVeYiYmv6BqiH7oKI2Fq9CWp2a4p58+YR\n",
              "FRWFZVkUFRXdsF9eXh4DBgwgJiaGWbNmUVtbC8Dq1auJj4/3tnvuuYfJkycDUFZWRnBwsM/+48eP\n",
              "N2l8CnMRsTU3Qc1uTZGamsru3buJjIy8YZ/S0lIWL15MQUEBJSUlXLhwgZUrVwIwffp0ioqKvK1P\n",
              "nz48/fTT3mO7d+/usz8mJqZJ41OYi4it1Rur2c3lclFdXe3TXC7Xda8zevRoIiIibjqWzZs3k5KS\n",
              "Qp8+fbAsizlz5rB+/foG/T755BMqKipISUlplXsACnMRsbl6gprdcnNzCQ0N9Wm5ubnNHkt5eblP\n",
              "5R4VFUV5eXmDfnl5eTzzzDN07tzZu+3y5cskJSWRmJjI0qVLqa+vb9K19QBURDqs7Oxs5s+f77PN\n",
              "4XD49ZqXL1/mvffe4+OPP/ZuCw8P58yZM4SFhXHx4kWmTp3Ka6+9xsKFCxt9XlXmImJrbhPU7OZw\n",
              "OAgJCfFpLQlzp9PJyZMnvT+XlZXhdDp9+mzatInBgwdz7733erc5HA7CwsIA6NmzJzNmzKCgoKBJ\n",
              "11aYi4ittWSapbVNmTKF/Px8zp8/jzGG5cuXk5aW5tMnLy+PmTNn+myrqKjwrnpxuVxs3bqVhISE\n",
              "Jl1bYS4ittaSB6BNkZmZSUREBKdPnyY5OZnY2FgAMjIyyM/PByA6OpolS5YwatQoYmNj6dWrF5mZ\n",
              "md5zHD16lKKiIqZOnepz7t27d5OQkMCwYcNITEykT58+PPfcc00an2WMMU06oh1EL3u9vYcQME5k\n",
              "zb91JxEbead4ZLOP/fGAPa04kvalB6AiYmt60ZaH7oKISABQZS4itqa3JnoozEXE1jTN4qEwFxFb\n",
              "01sTPRTmImJr7iYuMQxUCnMRsTVV5h66CyIiAUCVuYjYmlsPQAGFuYjYXL2WJgIKcxGxOVXmHgpz\n",
              "EbE1VeYeCnMRsTVV5h66CyIiAUCVuYjYmr7O76EwFxFb04u2PBTmImJrqsw9FOYiYmt6N4uHwlxE\n",
              "bE3vZvHQXRARCQCqzEXE1jTN4qEwFxFbc2uCAWijaZb9+/ezZs0aACorKzl37lxbXFZEOoB6YzW7\n",
              "BRK/h/lbb73FjBkzyMnJAeDixYv86Ec/8vdlRaSDcBur2S2Q+D3MV65cyccff0xISAgAMTExfPHF\n",
              "F/6+rIh0EG4T1OwWSPz+aRwOB926dfPZ1qmTpupFRFqT31O1V69eHDt2DMvy/Erz9ttv43Q6/X1Z\n",
              "Eekg9ApcD7+H+ZtvvslTTz3FkSNH6NevHyEhIezYscPflxWRDiLQ5r6by+9hHhsbyyeffMLRo0cx\n",
              "xjBo0CCCg4P9fVkR6SACbe67ufx+F/bu3UtNTQ3f+973+Oyzz1i0aBFnz57192VFpINwYzW7NcW8\n",
              "efOIiorCsiyKiopu2C8vL48BAwYQExPDrFmzqK2tBeAPf/gD3bp1Iz4+3tuuXr16y+May+9hnpGR\n",
              "gcPhoLi4mOeee47OnTszffp0f19WRDqItlpnnpqayu7du4mMjLxhn9LSUhYvXkxBQQElJSVcuHCB\n",
              "lStXevcPGjSIoqIib/t2ccitjmsMv4d5cHAwwcHB7Ny5k2effZbc3FwqKir8fVkRkVY1evRoIiIi\n",
              "btpn8+bNpKSk0KdPHyzLYs6cOaxfv/6W527ucX/J73PmLpeLCxcusH37dl599VUA6uvrb9rf5XL5\n",
              "bDN1dVhazigi19GSOfPr5Y3D4cDhcDTrfOXl5T6Ve1RUFOXl5d6fjx8/TmJiIsHBwUyfPp25c+c2\n",
              "6rjG8Htl/pOf/IRBgwYRGhpKYmIix48fp0ePHjfsn5ubS2hoqE/7+qPf+XuYImJTLfkG6PXyJjc3\n",
              "1y/jTExM5PTp0xQWFvL++++zfPlyNm7c2Grnb5M586+//prNmzcD0L9/fz766KMb9s/Ozqaqqsqn\n",
              "3fWDR/09TBGxqZY8AL1e3mRnZzd7LE6nk5MnT3p/Lisr836vJiQkhNDQUAAiIiJ46qmnKCgouOVx\n",
              "jeW3uYv8/Pyb7k9JSbnu9uv9iqMpFhG5kZasM2/JlMr1TJkyhYceeoicnBx69+7N8uXLSUtLA+Dc\n",
              "uXP07t2boKAgLl26xI4dO5g5c+Ytj2ssv6XkG2+8ccN9lmXdMMxFRJqirdaZZ2Zm8sEHH3D+/HmS\n",
              "k5Pp3r07JSUlZGRkkJKSQkpKCtHR0SxZsoRRo0YBMHbsWDIzMwHYsmULv/rVr+jUqRN1dXU8+eST\n",
              "3pV9NzuusSxjjGnFz+sX0cteb+8hBIwTWfPbewgirWrq/5nT7GM3PLi8FUfSvtpk/qK2tpbS0lJq\n",
              "amq824YOHdoWlxaRAKev83v4Pcx37NjBrFmzqKys5M4776SyspLIyEhKS0v9fWkR6QCa+k3OQOX3\n",
              "yabFixfz8ccf873vfY+vvvqKd999l9TUVH9fVkQ6CP1xCg+/h3lQUBCRkZHU1dUBMG3aNH7/+9/7\n",
              "+7Ii0kEozD38Ps3SuXNnwLOu8v333ycqKorKykp/X1ZEpEPxW5jPnj2blStXkpWVxfvvv8+LL75I\n",
              "WloaX3/9NcuWLfPXZUWkgwm0Cru5/Bbm+/btA+Cpp54iMTGRwsJCiouL/XU5EemgFOYebbI00QZL\n",
              "2UXEprSaxcNvYX716lU+/fRTjDHU1NR4//tbWmcuIq1BlbmHX8P8L7+y/5f/bVkWJ06c8NelRaQD\n",
              "UZh7+C3My8rK/HVqERH5K3odoYjYmipzD4W5iNiawtxDYS4itmYU5oDCXERsTksTPRTmImJrmmbx\n",
              "aJs/0SEiIn6lylxEbE1z5h4KcxGxNU2zeCjMRcTWVJl7KMxFxNZUmXsozEXE1vRSVg+tZhERCQCq\n",
              "zEXE1vSlIQ+FuYjYmh6AeijMRcTW9ADUQ2EuIramB6AeCnMRsTVNs3hoNYuISABQZS4itqbK3EOV\n",
              "uYjYmttYzW5NMW/ePKKiorAsi6Kiohv2y8vLY8CAAcTExDBr1ixqa2sB+P3vf8+IESO49957GTx4\n",
              "MAsXLsTtdgOev5kcHBxMfHy8tx0/frxJ41OYi4itGdP81hSpqans3r2byMjIG/YpLS1l8eLFFBQU\n",
              "UFJSwoULF1i5ciUAPXr04L333uPzzz9n//797Nmzh3fffdd7bPfu3SkqKvK2mJiYJo1PYS4itmaM\n",
              "1ezmcrmorq72aS6X67rXGT16NBERETcdy+bNm0lJSaFPnz5YlsWcOXNYv349AAkJCURHRwPQtWtX\n",
              "4uPjKSsra7X7oDAXEVtrSZjn5uYSGhrq03Jzc5s9lvLycp/KPSoqivLy8gb9zp8/z+bNm/mbv/kb\n",
              "77bLly+TlJREYmIiS5cupb6+vknXVpiLSIeVnZ1NVVWVT8vOzvbrNaurq5k4cSILFy7k/vvvByA8\n",
              "PJwzZ86wd+9edu3aRUFBAa+99lqTzqswFxFbMy1oDoeDkJAQn+ZwOJo9FqfTycmTJ70/l5WV4XQ6\n",
              "vT9funSJ8ePH88QTTzB//nzvdofDQVhYGAA9e/ZkxowZFBQUNOnaCnMRsbWWTLO0tilTppCfn8/5\n",
              "8+cxxrB8+XLS0tIA+Oabbxg/fjzjx4/nX/7lX3yOq6io8K56cblcbN26lYSEhCZdW2EuIvbWktK8\n",
              "CTIzM4mIiOD06dMkJycTGxsLQEZGBvn5+QBER0ezZMkSRo0aRWxsLL169SIzMxOAZcuW8ac//Ymt\n",
              "W7d6lx++9NJLAOzevZuEhASGDRtGYmIiffr04bnnnmvS+Cxjbv83G0Qve729hxAwTmTNv3UnERsZ\n",
              "sOnFZh9b/OS/3LqTTegboCJia7d/Odo2NM0iIhIAVJmLiK3p3SweCnMRsTeFOaAwFxGb05y5h8Jc\n",
              "ROxNYQ4ozEXE5jRn7qHVLCIiAUCVuYjYm6ZZAIW5iNicplk8FOYiYm+qzAGFuYjYnipzUJiLiN2p\n",
              "Mge0mkVEJCCoMhcRe1NlDijMRcTutJoFUJiLiM3p3SweCnMRsTeFOaAwFxG70zQLoNUsIiIBQZW5\n",
              "iNiapWkWQGEuInanMAcU5iJid5ozBxTmImJ3qswBhbmI2J3CHNBqFhGRgKDKXETsTZU5oDAXEbvT\n",
              "A1BAYS4iNqd15h6aMxcRezMtaE0wb948oqKisCyLoqKiG/bLy8tjwIABxMTEMGvWLGpra1u8rzEU\n",
              "5iIijZCamsru3buJjIy8YZ/S0lIWL15MQUEBJSUlXLhwgZUrV7ZoX2O1KMwrKytbcriIiG2MHj2a\n",
              "iIiIm/bZvHkzKSkp9OnTB8uymDNnDuvXr2/RvsZqdJgXFRURHx9PYmIihw4d4oc//CHf/e53cTqd\n",
              "/PnPf27SRUVEWotlmt9cLhfV1dU+zeVyNXss5eXlPpV7VFQU5eXlLdrXWI1+AJqVlUVOTg5ff/01\n",
              "jz/+OC+++CIffPAB27ZtY8GCBfz2t79t0oWb4kTWfL+du6OJXvZ6ew9BxEeL///dgtUsubm5LFmy\n",
              "xGfb888/T05OTsvG1A4aXZlXV1czadIk0tPTMcbwzDPPADBp0iQqKir8NkARkZtqwQPQ7Oxsqqqq\n",
              "fFp2dnazh+J0Ojl58qT357KyMpxOZ4v2NVajw9z8xd9mevjhh2+4T0SkTbUgzB0OByEhIT7N4XA0\n",
              "eyhTpkwhPz+f8+fPY4xh+fLlpKWltWhfYzU6zHv37k11dTUA77zzjnf7uXPn6Nq1a5MuKiLSWloy\n",
              "Z94UmZmZREREcPr0aZKTk4mNjQUgIyOD/Px8AKKjo1myZAmjRo0iNjaWXr16kZmZ2aJ9jb8PLSyr\n",
              "v/3VpKm/Ekj70Jy53G5aOmce83rz/zd9fH7gPI9r8TdAQ0NDCQ0NbY2xiIg0nWZ5AX2dX0TsTmEO\n",
              "KMxFxOb0bhYPhbmI2Jvemgjo3SwiIgFBlbmI2JumWQCFuYjYnObMPRTmImJvCnNAYS4iNqfK3ENh\n",
              "LiL2pjAHtJpFRCQgqDIXEXtTZQ4ozEXE5jRn7qFpFhGRAKDKXETsTZU5oDAXEZvTNIuHpllERAKA\n",
              "KnMRsTdV5oDCXETsTmEOKMxFxOY0Z+6hMBcRe1OYAwpzEbE5VeYeWs0iIhIAVJmLiL2pMgcU5iJi\n",
              "dwpzQGEuIjanOXMPhbmI2JvCHFCYi4jdKcwBrWYREQkIqsxFxNY0Z+6hylxE7M20oDVBcXExI0eO\n",
              "ZODAgSQlJXHo0KEGfdxuNwsWLGDIkCHExcUxc+ZMrl27BsBvfvMb4uPjva1v374kJiZ6j7Usi/vu\n",
              "u8+7v6CgoEnjU5iLiK1ZpvmtKTIzM5k9ezbHjh1j0aJFpKenN+iTl5dHYWEhhYWFHD58mKCgIJYt\n",
              "WwZAcnIyRUVF3paYmMjTTz/tc3xBQYF3//e///0mjU9hLiL21oLK3OVyUV1d7dNcLleDS1RUVLBv\n",
              "3z6mTZsGwJQpUzh16hQlJSU+/Q4ePMhjjz1Gly5dsCyLCRMmsGbNmgbnO3v2LL/73e945plnWusu\n",
              "KMxFxOZaEOa5ubmEhob6tNzc3AaXOHXqFOHh4XTq5HnMaFkWTqeT8vJyn37Dhw8nPz+f6upqamtr\n",
              "2bhxI2VlZQ3O9/bbb/P4448TFhbms/3RRx9l2LBhzJ8/n8uXLzfpNijMRaTDys7OpqqqyqdlZ2c3\n",
              "+3zp6emMHz+eMWPGMGbMGAYOHOj9B+Bbxhj+8z//k5kzZ/psP3nyJPv372fPnj188cUX/PSnP23S\n",
              "tRXmImJrVguaw+EgJCTEpzkcjgbX6NevH+fOnaOurg7wBHJ5eTlOp9N3LJZFTk4OBw4cYM+ePdx7\n",
              "770MHjzYp88f//hHampqSE5O9tn+7bnuvPNO5s6dqwegItLBtMFqlrCwMBITE1m7di0AW7ZsISIi\n",
              "gtjYWJ9+NTU1VFZWAvDll1/yyiuvsHDhQp8+eXl5pKenExwc7N1WWVnJlStXAM+KmA0bNpCQkND4\n",
              "AaJ15iJic221znzFihWkp6fz8ssvExISwurVqwHIyMggJSWFlJQUqqqqGDt2LEFBQbjdbrKyspg4\n",
              "caL3HFVVVWzdupVPP/3U59xHjhwhMzMTy7Koq6sjMTHRuwqmsSxjjJbcdyDRy15v7yGI+DiRNb9F\n",
              "xw/LeqPZxx5c9pMWXft2ospcROxN5SigOXMRkYCgylxEbE3vZvFQmIuIvSnMAYW5iNicKnMPhbmI\n",
              "2JvCHFCYi4jNqTL30GoWEZEAoMpcROxNlTmgMBcRu1OYAwpzEbE5zZl7KMxFxN4U5oDCXERsztK7\n",
              "AgGtZhERCQiqzEXE3lSYAwpzEbE5PQD1UJiLiL0pzAGFuYjYnCpzD4W5iNibwhzQahYRkYCgylxE\n",
              "bE3TLB4KcxGxN4U54OdpltraWo4fP+7PS4hIB2eZ5rdA4rcw/8Mf/kBkZCQPP/wwAHv37mXatGn+\n",
              "upyIdFTGNL8FEL+F+c9+9jMKCgq4++67AUhKSuLAgQP+upyIdFCqzD38Fub19fXExMT4bOvSpYu/\n",
              "Lici0qH57QFo165d+eabb7AsC4BPP/2Ubt26+etyItJRBViF3Vx+C/PFixczbtw4zpw5w7Rp09i1\n",
              "axfr1q3z1+VEpIOy3O09gtuD38J83LhxDBgwgP/+7//GGMOSJUsaTLuIiLSYKnPAz0sT+/fvz7PP\n",
              "PsvcuXMV5CLiF231ALS4uJiRI0cycOBAkpKSOHToUIM+brebBQsWMGTIEOLi4pg5cybXrl0DoKys\n",
              "jODgYOLj473tL5du79ixg7i4OAYMGMDkyZOprq5u0vj8Fub9+/cnOjq6QRMRaVVttDQxMzOT2bNn\n",
              "c+zYMRYtWkR6enqDPnl5eRQWFlJYWMjhw4cJCgpi2bJl3v3du3enqKjI274tcr/55htmzpzJtm3b\n",
              "KC4upm/fvrzwwgtNGp/fwnzHjh1s376d7du3s2nTJlJSUpg+fbq/Lici4jcVFRXs27fP+12ZKVOm\n",
              "cOrUKUpKSnz6HTx4kMcee4wuXbpgWRYTJkxgzZo1tzz/zp07SUhIIC4uDoC5c+eyfv36Jo3Rb2E+\n",
              "ePBgbxs+fDhvvvkmO3fuvOVxLpeL6upqn+Zyufw1TBGxuZZMszQ2b06dOkV4eDidOnkeM1qWhdPp\n",
              "pLy83Kff8OHDyc/Pp7q6mtraWjZu3EhZWZl3/+XLl0lKSiIxMZGlS5dSX18PQHl5OZGRkd5+UVFR\n",
              "nDt3jrq6ukbfhzZ7a+JXX33F+fPnb9kvNzeX0NBQn5abm9sGIxQRWzLNb62dN+np6YwfP54xY8Yw\n",
              "ZswYBg4c6P0HIDw8nDNnzrB371527dpFQUEBr732WvM/91/x22qWhIQE7xrz+vp6Tp48ycKFC295\n",
              "XHZ2NvPnz/fZ5nA4/DJGEbG/lnyTs7F5069fP2+l3KlTJ4wxlJeX43Q6fcdiWeTk5JCTkwPAe++9\n",
              "x+DBg73nDQsLA6Bnz57MmDGDdevWsXDhQpxOJx999JH3PGVlZT6/CTSG38L8zTff/P8X6dSJ6Oho\n",
              "wsPDb3mcw+FQeItI47XgHSuNzZuwsDASExNZu3Yt6enpbNmyhYiICGJjY3361dTUcPXqVXr06MGX\n",
              "X37JK6+84n2QWVFRQY8ePejcuTMul4utW7eSkJAAwPjx4/n7v/97jhw5QlxcHG+99RZpaWlN+ix+\n",
              "CfP6+npWrVrVqIl/EZGWaKt3rKxYsYL09HRefvllQkJCWL16NQAZGRmkpKSQkpJCVVUVY8eOJSgo\n",
              "CLfbTVZWFhMnTgRg9+7d/Ou//ivBwcHU1dXxyCOP8NxzzwGeVS6rVq1i0qRJ1NXVMWTIEN55550m\n",
              "jc8yxj+vDnvggQf45JNP/HFqaYHoZa+39xBEfJzImn/rTjcx+on/1exj//evf9qia99O/DbN8vDD\n",
              "DzN79mzS09P5zne+490+dOhQf11SRDoifQMU8EOYP/XUU6xfv54NGzYA+EzqW5bFiRMnWvuSItKB\n",
              "BdqrbJur1cP8yJEjAJSWlrb2qUVEGnIrzcEPYf7tckQRkTahLAf8EOZ//vOf6dmzZ4Ptxhgsy+Li\n",
              "xYutfUkRkQ6v1cN80KBBfPjhh619WhGR69KcuUerh7nD4fB5x4CIiF8F2B9mbq5WD3M/LVsXEbku\n",
              "VeYerR7mBw4caO1TiojcmMIc8OOXhkRE2oKl2QCgDV+BKyIi/qPKXETszd3eA7g9KMxFxNY0zeKh\n",
              "MBcRe1OWAwpzEbE7VeaAwlxEbE7rzD20mkVEJACoMhcRe9M0C6AwFxGbs7Q0EVCYi4jdqTIHFOYi\n",
              "YnfKckBhLiI2py8NeWg1i4hIAFBlLiL2psocUJiLiN1pNQugMBcRm9OcuYfCXETsTWEOKMxFxO4U\n",
              "5oBWs4iIBARV5iJib3oACqgyFxGbs4xpdmuK4uJiRo4cycCBA0lKSuLQoUMN+rjdbhYsWMCQIUOI\n",
              "i4tj5syZXLt2DYBPP/2U0aNHExcXx5AhQ5gxYwZXr179/5/DsrjvvvuIj48nPj6egoKCJo1PYS4i\n",
              "9mZM81sTZGZmMnv2bI4dO8aiRYtIT09v0CcvL4/CwkIKCws5fPgwQUFBLFu2DICuXbvyy1/+kiNH\n",
              "jnDw4EEuX77Mq6++6nN8QUEBRUVFFBUV8f3vf79J41OYi4i9tSDMXS4X1dXVPs3lcjW4REVFBfv2\n",
              "7WPatGkATJkyhVOnTlFSUuLT7+DBgzz22GN06dIFy7KYMGECa9asAWDAgAEMHToUgODgYJKSkigr\n",
              "K2u126AwFxF7a0GY5+bmEhoa6tNyc3MbXOLUqVOEh4fTqZPnMaNlWTidTsrLy336DR8+nPz8fKqr\n",
              "q6mtrWXjxo3XDezLly+zatUqnnjiCZ/tjz76KMOGDWP+/Plcvny5SbdBYS4iHVZ2djZVVVU+LTs7\n",
              "u9nnS09PZ/z48YwZM4YxY8YwcOBA7z8A37p27RpTp05l3Lhx/O3f/q13+8mTJ9m/fz979uzhiy++\n",
              "4Kc//WmTrq0wFxF7cze/ORwOQkJCfJrD4WhwiX79+nHu3Dnq6uoAMMZQXl6O0+n06WdZFjk5ORw4\n",
              "cIA9e/Zw7733MnjwYO/+2tpapk6dSnh4uHcu/VvfnuvOO+9k7ty5egAqIh1LW6xmCQsLIzExkbVr\n",
              "1wKwZcsWIiIiiI2N9elXU1NDZWUlAF9++SWvvPIKCxcuBKCuro60tDR69uzJypUrsSzLe1xlZSVX\n",
              "rlwBPCtiNmzYQEJCQpPug9aZi4i9tdE3QFesWEF6ejovv/wyISEhrF69GoCMjAxSUlJISUmhqqqK\n",
              "sWPHEhQUhNvtJisri4kTJwKwYcMGtm7dytChQ71BPWrUKP7jP/6DI0eOkJmZiWVZ1NXVkZiY2KBy\n",
              "vxXLGH0XtiOJXvZ6ew9BxMeJrPktOn7CoJ81+9idR19p0bVvJ6rMRcTeVI8CmjMXEQkIqsxFxN5U\n",
              "mQMKcxGxO4U5oDAXEbtzK8xBYS4idmf0DlxQmIuI3WmaBdBqFhGRgKDKXETsTXPmgMJcROxO0yyA\n",
              "wlxE7E5hDijMRcTuFOaAwlxE7M6tpYmg1SwiIgFBlbmI2JumWQCFuYjYncIcUJiLiN1pnTmgMBcR\n",
              "mzN6NwugMBcRu1NlDmg1i4hIQFBlLiL2pgeggMJcROxOXxoCFOYiYneqzAGFuYjYnFFlDijMRcTu\n",
              "VJkDWs0iIhIQVJmLiL1pnTmgMBcRu9M3QAGFuYjYnFFlDmjOXETszrib35qguLiYkSNHMnDgQJKS\n",
              "kjh06FCDPm63mwULFjBkyBDi4uKYOXMm165d8+7fsWMHcXFxDBgwgMmTJ1NdXd2ofY2hMBcRWzNu\n",
              "0+zWFJmZmcyePZtjx46xaNEi0tPTG/TJy8ujsLCQwsJCDh8+TFBQEMuWLQPgm2++YebMmWzbto3i\n",
              "4mL69u3LCy+8cMt9jaUwFxG5hYqKCvbt28e0adMAmDJlCqdOnaKkpMSn38GDB3nsscfo0qULlmUx\n",
              "YcIE1qxZA8DOnTtJSEggLi4OgLlz57J+/fpb7msshbmI2FsLpllcLhfV1dU+zeVyNbjEqVOnCA8P\n",
              "p1Mnz2NGy7JwOp2Ul5f79Bs+fDj5+flUV1dTW1vLxo0bKSsrA6C8vJzIyEhv36ioKM6dO0ddXd1N\n",
              "9zWWHoC2ApfLRW5uLtnZ2TgcjvYezk2dyJrf3kO4KTvdy9tdR7mXH7k3NfvYnJwclixZ4rPt+eef\n",
              "Jycnp1nnS09P5+TJk4wZM4Zu3brx2GOP8dvf/rbZ42sSIy1WVVVlAFNVVdXeQ7E93cvWo3t5azU1\n",
              "Naaqqsqn1dTUNOh34cIF0717d1NbW2uMMcbtdpvevXub4uLim55//fr15qGHHjLGGLNx40aTnJzs\n",
              "3Xfo0CHz3e9+95b7GkvTLCLSYTkcDkJCQnza9X6LCQsLIzExkbVr1wKwZcsWIiIiiI2N9elXU1ND\n",
              "ZWUlAF9++SWvvPIKCxcuBGD8+PEUFhZy5MgRAN566y3S0tJuua+xNM0iItIIK1asID09nZdffpmQ\n",
              "kBBWr14NQEZGBikpKaSkpFBVVcXYsWMJCgrC7XaTlZXFxIkTAejevTurVq1i0qRJ1NXVMWTIEN55\n",
              "551b7mssyxi9paalqqurCQ0NpaqqipCQkPYejq3pXrYe3cuORdMsrcDhcPD8888H9EOmtqJ72Xp0\n",
              "LzsWVeYiIgFAlbmISABQmIuIBACFuYhIANDSxL8SFRWFw+GgW7du3m1r1qxh6NChVFZWctddd7Xf\n",
              "4Gzor+/n/fffz6pVq9p5VLe/rVu38tJLL1FfX09NTQ19+/Zl165d/Pu//ztpaWn06dOnvYcotxmF\n",
              "+XVs2LCB+Pj49h5GwGjO/ayrq/O+B6OjOXfuHLNnz2b//v3e93UUFhZiWRZvvvkmY8eOVZhLA5pm\n",
              "aYbi4mJ++MMfkpSUxNChQ/nlL3/p3WdZFi+//DIjRoygf//+3i8WACxYsICkpCTi4+MZPXo0R48e\n",
              "bY/ht6t169bxwAMPkJCQwLBhw9i+fbt339ixY5k3bx4PPvgg48aNA+DnP/85I0aMIDExkfHjx3Py\n",
              "5EkAtm/fztChQ4mPj2fIkCH8+te/bpfP4w8XLlwgODiYnj17erclJibywgsvcPbsWaZOnUp8fDxF\n",
              "RUXU1tbys5/9jBEjRhAfH8/f/d3fUVlZyalTpwgLC/N5l3Z6err3dax79+7lkUce4f777ychIYFN\n",
              "mzzvNykrK+Ouu+7i+eefZ/jw4cTGxvLhhx+27Q2Q5mnSl/87gMjISDNw4EAzbNgwb7ty5YoBTGVl\n",
              "pamrqzPDhw83hw8fNsYYc/nyZXPfffeZP/3pT8YYYwDz85//3BhjzOHDh813vvMd7/scKioqvNdZ\n",
              "v369z7sYAtVf38/Nmzcbt9ttjDGmtLTU9O7d2/sujDFjxpjk5GRz7do1Y4wx//Vf/2UyMjJMXV2d\n",
              "McaYd9991zz++OPGGGOGDh1q9uzZY4wxpr6+3lRWVrbxJ/Of+vp6M3nyZNOjRw8zadIk82//9m/m\n",
              "9OnTxhjP/Txw4IC370svvWSWLl3q/Xnp0qVm7ty5xhhjfvCDH5hNmzYZY4y5dOmS6dGjh/nyyy9N\n",
              "ZWWliY+PN2fPnjXGGPPFF1+Yfv36mdOnT5vS0lIDmM2bNxtjjNm5c6cZOHBgW3xsaaGO+XvsLdxs\n",
              "WuDo0aMcOnTI570Jly5d4vPPPycpKQmAp59+GoC4uDg6derE+fPniYiI4KOPPuIXv/gFly5dwu12\n",
              "c/HiRb9/ltvBX97Pffv2MWHCBE6fPk2nTp24ePEipaWl3vc4T5s2jc6dOwOwbds29u7dy/DhwwGo\n",
              "r6/3nvPRRx8lKyuL1NRUxo0bF1DTYkFBQWzZsoUjR47wxz/+kZ07d/LSSy+xb9++Bn23bdtGVVUV\n",
              "W7ZsAeDatWtERUUBMH36dFavXk1qaiqbNm3ikUce4e677+bDDz/kxIkTTJgwwedcR48eJTo6mq5d\n",
              "uzJ58mQAHnzwQY4fP+7fDyyto73/Nbnd/HXl8y3+X2X+2Wefmb59+97w+G/7fevuu+82paWl5uTJ\n",
              "k6ZHjx6mpKTEGGPMwYMHTWhoaCuP/vbz1/czJibGWy0aY0yPHj28+8eMGWPef/99777U1FSzYsWK\n",
              "G577s88+M7/4xS/M0KFDzauvvtraQ7+tJCcnm9dee63B/bz//vvNb37zm+sec/XqVXPPPfeYs2fP\n",
              "mtGjR5sdO3YYY4zZsWOHefDBB697TGlpqc//Li9dumQUE/agOfMmGjRokM9LdgBKSkpuWWVXVVXR\n",
              "uXNnwsPDMcb4zLN3JJWVlfTv3x+AtWvXet8wdz2TJk1i+fLl3ntbW1vLgQMHADhy5AiDBw/mH/7h\n",
              "H3j22Wf5+OOP/T/4NnLmzBn+53/+x/tzZWUlpaWlxMTEEBISQlVVlXffpEmTeOONN7hy5QoAV65c\n",
              "8f5tyq5du/Lkk0+Sk5PD8ePHGT9+PAAjR46ktLSUXbt2ec9TVFTkM78u9qNpluuYOnWqz9LEN954\n",
              "w/vfnTp1YseOHfzjP/4jb7zxBvX19dxzzz2sW7fupue87777SEtLY/Dgwdx9991MmjTJX8O/rS1b\n",
              "tozU1FTuuusuHnnkEZxO5w37Pv3003z11Vc8/PDDgGeFy4wZM0hISOCf//mfOXr0KF26dOGOO+7g\n",
              "V7/6VVt9BL+rq6tj6dKllJaWcscdd1BXV8ePf/xjnnjiCb744gtmzZrFHXfcwdtvv82iRYtwuVw8\n",
              "8MADWJYFwKJFixg8eDDgmWoZMWIEixYtIjg4GIAePXrwwQcfsGDBAv7pn/6J2tpanE4n27Zta6+P\n",
              "LK1A72YREQkAmmYREQkACnMRkQCgMJfbxrx584iKisKyLIqKitp7OCK2ojCX20Zqaiq7d+/2foVd\n",
              "RBpPq1nktjF69Oj2HoKIbakyFxEJAApzEZEAoDAXEQkACnMRkQCgMJfbRmZmJhEREZw+fZrk5GRi\n",
              "Y2Pbe0gitqGv84uIBABV5iIiAUBhLiISABTmIiIBQGEuIhIAFOYiIgFAYS4iEgAU5iIiAUBhLiIS\n",
              "ABTmIiIBQGEuIhIAFOYiIgHg/wLWs0pIwj8HawAAAABJRU5ErkJggg==\n",
              "\">\n",
              "        \n",
              "      </div>\n",
              "      <script></script>\n",
              "      <script type=\"text/javascript\">\n",
              "        (() => {\n",
              "          const chartElement = document.getElementById(\"chart-ed011958-c3ea-44e0-9810-6557eb708b74\");\n",
              "          async function getCodeForChartHandler(event) {\n",
              "            const chartCodeResponse =  await google.colab.kernel.invokeFunction(\n",
              "                'getCodeForChart', [\"chart-ed011958-c3ea-44e0-9810-6557eb708b74\"], {});\n",
              "            const responseJson = chartCodeResponse.data['application/json'];\n",
              "            await google.colab.notebook.addCell(responseJson.code, 'code');\n",
              "          }\n",
              "          chartElement.onclick = getCodeForChartHandler;\n",
              "        })();\n",
              "      </script>\n",
              "      <style>\n",
              "        .colab-quickchart-chart-with-code  {\n",
              "            display: block;\n",
              "            float: left;\n",
              "            border: 1px solid transparent;\n",
              "        }\n",
              "\n",
              "        .colab-quickchart-chart-with-code:hover {\n",
              "            cursor: pointer;\n",
              "            border: 1px solid #aaa;\n",
              "        }\n",
              "      </style>"
            ]
          },
          "metadata": {}
        },
        {
          "output_type": "display_data",
          "data": {
            "text/plain": [
              "<google.colab._quickchart_helpers.SectionTitle at 0x7a042ea768f0>"
            ],
            "text/html": [
              "<h4 class=\"colab-quickchart-section-title\">Faceted distributions</h4>\n",
              "<style>\n",
              "  .colab-quickchart-section-title {\n",
              "      clear: both;\n",
              "  }\n",
              "</style>"
            ]
          },
          "metadata": {}
        },
        {
          "output_type": "display_data",
          "data": {
            "text/plain": [
              "import numpy as np\n",
              "from google.colab import autoviz\n",
              "\n",
              "def violin_plot(df, value_colname, facet_colname, figscale=1, mpl_palette_name='Dark2', **kwargs):\n",
              "  from matplotlib import pyplot as plt\n",
              "  import seaborn as sns\n",
              "  figsize = (12 * figscale, 1.2 * figscale * len(df[facet_colname].unique()))\n",
              "  plt.figure(figsize=figsize)\n",
              "  sns.violinplot(df, x=value_colname, y=facet_colname, palette=mpl_palette_name, **kwargs)\n",
              "  sns.despine(top=True, right=True, bottom=True, left=True)\n",
              "  return autoviz.MplChart.from_current_mpl_state()\n",
              "\n",
              "chart = violin_plot(df, *[2, 0], **{'inner': 'stick'})\n",
              "chart"
            ],
            "text/html": [
              "      <div class=\"colab-quickchart-chart-with-code\" id=\"chart-b9563f22-b003-4d72-b679-78448190c6d0\">\n",
              "        <img src=\"data:image/png;base64,iVBORw0KGgoAAAANSUhEUgAAAgEAAAC9CAYAAAAqca5GAAAAOXRFWHRTb2Z0d2FyZQBNYXRwbG90\n",
              "bGliIHZlcnNpb24zLjcuMSwgaHR0cHM6Ly9tYXRwbG90bGliLm9yZy/bCgiHAAAACXBIWXMAAA9h\n",
              "AAAPYQGoP6dpAAAQoElEQVR4nO3deWwU9RvH8c9Cky0IlAhVCpRiKYVAoZVaBAni/ghgCFKi+IcJ\n",
              "cgiCUaOJFxpFTDTUyGEU40FExBoRPIAIaEKRyzThkiMSJBYoLVAEuSFsLfT5/WHYULpbttDd7fJ9\n",
              "v5Im7nS+M8/jdzr9MDPd9ZiZCQAAOKdJrAsAAACxQQgAAMBRhAAAABxFCAAAwFGEAAAAHEUIAADA\n",
              "UYQAAAAcRQgAAMBRhAAAABxFCAAAwFGEAAAAHJUQ6wIA3NrMTH6/X5KUmJgoj8cT44oAXMGVAAAR\n",
              "5ff75fP55PP5AmEAQONACAAAwFGEAAAAHEUIAADAUYQAAAAcRQgAAMBRhAAAABxFCAAAwFGEAAAA\n",
              "HEUIAADAUYQAAAAcRQgAAMBRhAAAABxFCAAAwFGEAAAAHEUIAADAURENAc8995w6d+4sj8ejHTt2\n",
              "RHJXAACgniIaAkaPHq3ffvtNaWlpkdwNAAC4AQmR3Pj9998f1nqVlZWqrKyssczr9crr9UaiLAAA\n",
              "oEbyTEBBQYGSkpJqfBUUFMS6LAAAbmkRvRIQrtdee00vvPBCjWVcBQAAILIaRQjg0j8AANHXKG4H\n",
              "AACA6ItoCJgyZYo6duyoQ4cOadiwYcrIyIjk7gAAQD1E9HbAZ599FsnNAwCAm8DtAAAAHEUIAADA\n",
              "UYQAAAAcRQgAAMBRhAAAABxFCAAAwFGEAAAAHEUIAADAUYQAAAAcRQgAAMBRhAAAABxFCAAAwFGE\n",
              "AAAAHEUIAADAUR4zs1gXAeDWZWby+/2SpMTERHk8nhhXBOAKQgAAAI7idgAAAI4iBAAA4ChCAAAA\n",
              "jiIEAADgqIRYFxANPJ0MAEBtTlwJ8Pv98vl88vl8gTAAAIDrnAgBAACgNkIAAACOIgQAAOAoQgAA\n",
              "AI4iBAAA4ChCAAAAjiIEAADgKEIAAACOIgQAAOAoQgAAAI4iBAAA4ChCAAAAjiIEAADgKEIAAACO\n",
              "IgQAAOCoiIUAv9+vUaNGKTMzU9nZ2RoyZIhKSkoitTsAAFBPEb0SMHnyZO3du1c7d+5Ufn6+Jk2a\n",
              "FMndAQCAeqh3CNi/f7/WrVundevWaf/+/SHXS0xM1PDhw+XxeCRJ/fr1U2lp6Q0XCgAAGlZCuCvu\n",
              "2bNH48aNU3l5uTp16iRJKisrU2pqqhYsWKCePXvWOf6DDz5Qfn5+0O9VVlaqsrKyxjKv1yuv1xtu\n",
              "eQAAoJ7CvhIwfvx4TZ06VRUVFdq0aZM2bdqkiooKvfLKK5owYUKdY2fMmKGSkhIVFBQE/X5BQYGS\n",
              "kpJqfIVaFwAANAyPmVk4K3br1k179+6t9/dmzZqlb7/9VkVFRWrdunXQdSJ9JeDixYvy+XySpLVr\n",
              "16pZs2YNsl0AAOJZ2FcC2rZtq8LCQlVXVweWVVdXa+HChWrTpk3QMXPmzNGiRYu0evXqkAFA+u8X\n",
              "fqtWrWp8cSsAAIDICvtKQElJiaZMmaJt27YpJSVFklRRUaE+ffro008/VWZmZo31Dx06pNTUVKWn\n",
              "p6tly5aS/vtlv2nTpgZu4fq4EgAAQG1hPxiYkZGhNWvW6Pjx4yovL5ckpaamKjk5Oej6HTt2VJj5\n",
              "AgAAxEDYIeCK5OTkkL/4AQBA/OBtgwEAcBQhAAAARxECAABwFCEAAABHEQIAAHAUIQAAAEcRAgAA\n",
              "cBQhAAAARxECAABwFCEAAABHEQIAAHAUIQAAAEcRAgAAcJTHHPi8XzOT3++XJCUmJsrj8cS4IgAA\n",
              "Ys+JEAAAAGrjdgAAAI4iBAAA4ChCAAAAjiIEAADgqIRYFwAAgIsaw1+ucSUAAIAY8Pv98vl88vl8\n",
              "gTAQbYQAAAAcRQgAAMBRhAAAABxFCAAAwFGEAAAAHEUIAADAUYQAAAAcRQgAAMBRhAAAABxFCAAA\n",
              "wFGEAAAAHEUIAADAUYQAAAAcRQgAAMBRhAAAABxFCAAAwFEJkdz40KFDdfToUTVp0kQtW7bUhx9+\n",
              "qLvvvjuSuwQAAGGKaAhYsmSJWrduLUlaunSpxo8fr507d0ZylwAAIEwRDQFXAoAknTlzRh6PJ+h6\n",
              "lZWVqqysrLHM6/XK6/VGsjwAAJwW8WcCxo4dq9TUVE2bNk2FhYVB1ykoKFBSUlKNr4KCgkiXBgCA\n",
              "0zxmZtHY0cKFC7V48WKtWrWq1ve4EgAAcM3Fixfl8/kkSWvXrlWzZs2iXkPUQoAkNWvWTIcOHVKb\n",
              "Nm2itUsAABqlxhACInY74PTp0zpy5Ejg9bJly9SmTRvdfvvtkdolAACoh4g9GHjmzBk9+uijunjx\n",
              "opo0aaLk5GStWLEi5MOBAAAguiIWAtLS0rR58+ZIbR4AANwk3jEQAABHEQIAAHAUIQAAAEcRAgAA\n",
              "cBQhAAAARxECAABwFCEAAABHEQIAAHAUIQAAAEcRAgAAcBQhAAAARxECAABwFCEAAABHeczMYl0E\n",
              "AACuMTP5/X5JUmJiojweT9RrIAQAAOAobgcAAOAoQgAAAI6K2xBQWVmpt956S5WVlbEuJarom75d\n",
              "4Wrv9E3f0RS3zwScPXtWSUlJOnPmjFq1ahXrcqKGvunbFa72Tt/0HU1xeyUAAADcHEIAAACOIgQA\n",
              "AOCouA0BXq9X06dPl9frjXUpUUXf9O0KV3unb/qOprh9MBAAANycuL0SAAAAbg4hAAAARxECAABw\n",
              "VKMKAX6/X6NGjVJmZqays7M1ZMgQlZSUSJImTJgQWD5gwABt2bIl5HY8Ho969eqlnJwc5eTkaOPG\n",
              "jdFq4YbV1fsDDzygu+66K9DP+++/H3I7K1asUPfu3dW1a1c9/PDDOnv2bLRauCF19X3vvfcGes7K\n",
              "ypLH49GuXbuCbice53zo0KHq3bu3cnJyNHDgQG3fvl2S9Ndff+m+++5TZmam8vLytHv37pDbmD9/\n",
              "vrp27aouXbroySefVFVVVbTKv2HB+q7rOLhWaWmpmjZtGpjrnJwc7du3L8pd1F+o+e7cubO6desW\n",
              "6GXx4sUht3GrzPeJEydqzF9mZqYSEhJ08uTJWuPjdb6vWLBggTwej5YtWyZJOnbsmB588EF17dpV\n",
              "WVlZ2rBhQ8ixUTmfWyNy8eJFW7lypVVXV5uZ2dy5c23QoEFmZrZ8+XKrqqoyM7OffvrJ0tLSQm5H\n",
              "kp06dSrC1TasunofNGiQLV269LrbOHfunN1xxx22Z88eMzN75pln7KWXXopUyQ2irr6v9t1331lW\n",
              "VlbI7cTjnF9d748//mi9e/c2MzOfz2cLFiwws//6vueee4KO379/v6WkpFhFRYVVV1fbQw89ZB99\n",
              "9FGky75pwfoO9zgwMztw4IAlJSVFvtAGFmq+09LSbPv27dcdfyvN97VmzpxpI0aMCDo+Xufb7L/a\n",
              "+/fvb/369QucwydMmGDTp083M7PNmzdbhw4d7N9//601Nlrn80Z1JSAxMVHDhw8PfKZyv379VFpa\n",
              "KkkaOXKkEhISAssPHz6sS5cuxarUBldX7+H6+eefdffdd6t79+6SpKefflqLFi1q6FIbVLh9z58/\n",
              "XxMnToxydZHVunXrwH+fOXNGHo9Hx44d09atWzVmzBhJ0iOPPKLy8vKg/yr+/vvvNXLkSLVr104e\n",
              "j0dPPfVUo59vKXjfDXH8N3bB+q6PW2m+r3Ur/nxXV1dr0qRJmjt3bo0//1uyZImeeuopSVJeXp7a\n",
              "t2+v9evX1xofrfN5QoNvsQF98MEHys/PD7p8+PDhgVAQzODBg3Xp0iUNHjxYb7/9tm677bZIltrg\n",
              "ru391Vdf1bRp09SjRw8VFBQoPT291piysjKlpaUFXnfu3FkVFRW6dOlSnf+vGpNgc15eXq7169er\n",
              "sLCwzrHxOOdjx47V2rVrJUmrVq1SeXm5UlJSAvPl8XjUqVMnlZWVKSMjo8bYYPNdVlYWveJvwrV9\n",
              "XyvUz/4VFy5cUF5eni5fvqxRo0bp9ddfV9OmTSNWb0MJ1ffYsWNlZurbt6/effddJScn1xp7q853\n",
              "cXGxTp06pREjRoQcH4/zPWfOHA0YMEC5ubmBZSdOnFBVVZXatWsXWBZqHqN1Pm9UVwKuNmPGDJWU\n",
              "lKigoKDG8q+//lpLlizRvHnzQo49ePCgtm3bpuLiYh0/flwvv/xypMttUNf2XlhYqD///FO7du3S\n",
              "wIED6/xhiWeh5vzLL7/UiBEj1LZt25Bj43XOv/rqK5WXl+udd97R1KlTY11O1NTVd6jj4IqUlBQd\n",
              "PnxYW7ZsUVFRkTZu3KjZs2dHo+ybFqzvDRs2aNeuXfr999/Vtm1bjRs3LsZVNry65nv+/PkaO3Zs\n",
              "yF9s8Tjff/zxh3744Qe98cYbsS7l+hr8BkMDmDlzpuXm5ta6x/vtt99aRkaGHTx4MOxtFRcX13kv\n",
              "ubEJ1fvVvF6v/fPPP7WWL1myxIYNGxZ4vXv3buvQoUMkymxwofqurq62u+66y3755ZewtxVvc35F\n",
              "YmKiHT161Fq2bBl4/qW6utruvPNO++uvv2qt/95779mUKVMCr1euXGkDBgyIWr0NJTExMXA8h3P8\n",
              "X+ubb74JeT+5Mbu67yuOHDliLVq0CLr+rTjf586dsxYtWgTue4cjHub7448/tnbt2llaWpqlpaWZ\n",
              "1+u15ORk+/jjj6158+ZWUVERWDcvL89Wr15daxvROp83uhAwe/Zs69Onj508ebLG8sWLF1tGRoaV\n",
              "lpbWOf7kyZN24cIFMzO7fPmyPf/88/b4449HrN6GFKz3qqoqO3r0aOD1999/b506dQo6/uzZs5ac\n",
              "nFzjQZIXX3wxskU3gFBzbmZWVFRkqampdvny5ZDj43HOT506ZYcPHw68Xrp0qXXo0MGqq6tt0KBB\n",
              "NR4MzM3NDbqNffv21XpQbO7cudEo/4bV1Xddx8HV/v7778CDVH6/30aPHm3Tpk2LaN03K1Tf58+f\n",
              "rxF4Zs+ebQMHDgy6jVttvs3MPv/88+sGmXic72td/XD3uHHjajwY2L59+6APBkbrfN6oQkB5eblJ\n",
              "svT0dMvOzrbs7Gzr27evmZklJCRYx44dA8uzs7MDafKTTz4JHBTFxcXWq1cv6927t/Xo0cPGjBlj\n",
              "J06ciFlP4QrV+/nz5y03N9eysrKsd+/e9r///c927NgRGDdt2jT75JNPAq+XL19u3bp1sy5dulh+\n",
              "fr6dPn06Fu2Era45NzN77LHH7M0336w1Lt7nvLS01PLy8gLzOnjw4MAT4n/++af169fPunbtarm5\n",
              "ubZr167AuIkTJ9ry5csDr+fNm2fp6emWnp5uTzzxRNCTSWMSqu/rHQdXH+c//PCD9ezZMzDfzz77\n",
              "rPn9/li1FJZQfe/bt89ycnKsV69elpWVZSNHjrQDBw4Ext2q831F//797Ysvvqg1Lt7n+1pXh4Cj\n",
              "R4/akCFDLCMjw3r06GG//vprYL1YnM/57AAAABzVaB8MBAAAkUUIAADAUYQAAAAcRQgAELb6vMc/\n",
              "gMaPEACgXiZPnqy9e/dq586dys/P16RJk2JdEoAbxF8HALhhW7du1ejRo2+59/kHXMGVAAA37Hrv\n",
              "8Q+gcYuPT5UB0OhceY//NWvWxLoUADeIEACg3mbNmqUff/xRRUVFat68eazLAXCDCAEA6mXOnDla\n",
              "tGiRioqKanxWPID4w4OBAMJ26NAhpaamKj09XS1btpQkeb1ebdq0KcaVAbgRhAAAABzFXwcAAOAo\n",
              "QgAAAI4iBAAA4ChCAAAAjiIEAADgKEIAAACOIgQAAOAoQgAAAI4iBAAA4ChCAAAAjvo/ALXX7Zmp\n",
              "LPYAAAAASUVORK5CYII=\n",
              "\">\n",
              "        \n",
              "      </div>\n",
              "      <script></script>\n",
              "      <script type=\"text/javascript\">\n",
              "        (() => {\n",
              "          const chartElement = document.getElementById(\"chart-b9563f22-b003-4d72-b679-78448190c6d0\");\n",
              "          async function getCodeForChartHandler(event) {\n",
              "            const chartCodeResponse =  await google.colab.kernel.invokeFunction(\n",
              "                'getCodeForChart', [\"chart-b9563f22-b003-4d72-b679-78448190c6d0\"], {});\n",
              "            const responseJson = chartCodeResponse.data['application/json'];\n",
              "            await google.colab.notebook.addCell(responseJson.code, 'code');\n",
              "          }\n",
              "          chartElement.onclick = getCodeForChartHandler;\n",
              "        })();\n",
              "      </script>\n",
              "      <style>\n",
              "        .colab-quickchart-chart-with-code  {\n",
              "            display: block;\n",
              "            float: left;\n",
              "            border: 1px solid transparent;\n",
              "        }\n",
              "\n",
              "        .colab-quickchart-chart-with-code:hover {\n",
              "            cursor: pointer;\n",
              "            border: 1px solid #aaa;\n",
              "        }\n",
              "      </style>"
            ]
          },
          "metadata": {}
        },
        {
          "output_type": "display_data",
          "data": {
            "text/plain": [
              "import numpy as np\n",
              "from google.colab import autoviz\n",
              "\n",
              "def violin_plot(df, value_colname, facet_colname, figscale=1, mpl_palette_name='Dark2', **kwargs):\n",
              "  from matplotlib import pyplot as plt\n",
              "  import seaborn as sns\n",
              "  figsize = (12 * figscale, 1.2 * figscale * len(df[facet_colname].unique()))\n",
              "  plt.figure(figsize=figsize)\n",
              "  sns.violinplot(df, x=value_colname, y=facet_colname, palette=mpl_palette_name, **kwargs)\n",
              "  sns.despine(top=True, right=True, bottom=True, left=True)\n",
              "  return autoviz.MplChart.from_current_mpl_state()\n",
              "\n",
              "chart = violin_plot(df, *[2, 1], **{'inner': 'stick'})\n",
              "chart"
            ],
            "text/html": [
              "      <div class=\"colab-quickchart-chart-with-code\" id=\"chart-1a5d906d-0f82-4fc4-9a94-a1001865747b\">\n",
              "        <img src=\"data:image/png;base64,iVBORw0KGgoAAAANSUhEUgAAAiEAAAC9CAYAAABlLK2WAAAAOXRFWHRTb2Z0d2FyZQBNYXRwbG90\n",
              "bGliIHZlcnNpb24zLjcuMSwgaHR0cHM6Ly9tYXRwbG90bGliLm9yZy/bCgiHAAAACXBIWXMAAA9h\n",
              "AAAPYQGoP6dpAAAVZ0lEQVR4nO3df3BU1f3/8deatRsiAo1g+SEkhF8Z8mshJICIkDBStBSijQUH\n",
              "hKKCjHWkBSrSgtDaGqf8koGR1pHCFIoCgkQEnZKaAVtsIUCaMW0iYAIxBrVJDCBsyI/z+cMv+01I\n",
              "NmLM7knI8zGTmey9e86+3zmb5cW9d7MOY4wRAABAgN1kuwAAANA+EUIAAIAVhBAAAGAFIQQAAFhB\n",
              "CAEAAFYQQgAAgBWEEAAAYAUhBAAAWEEIAQAAVhBCAACAFYQQAABghdN2AQDgT8YYeTweSVJwcLAc\n",
              "DofligBcxZEQADc0j8ejpKQkJSUlecMIgNaBEAIAAKwghAAAACsIIQAAwApCCAAAsIIQAgAArCCE\n",
              "AAAAKwghAADACkIIAACwghACAACsIIQAAAArCCEAAMAKQggAALCCEAIAAKwghAAAACsIIQAAwAqn\n",
              "7QLCw8PlcrnUoUMHSdKwYcP0yiuvWK4KAAD4m/UQIknbt2+X2+3+RmOqq6vldLaK8gEAQDO0utMx\n",
              "27Zt0/DhwzVkyBDFxcVp79693n1jx47VU089pZEjR2r8+PGSpJUrVyoxMVFDhw7VhAkTdObMGUnS\n",
              "3r17FRsbK7fbrejoaKWnp/t8zMrKSp0/f77eV2VlpX8bBQCgnWsVIWTKlClyu91yu91yuVz65z//\n",
              "qRMnTig9PV2zZ8+uFwg+/PBDHTp0SO+++662bdum/Px8vf/++zp+/LimTZumJ554QpK0ZMkS/fGP\n",
              "f1R2drZycnI0ZswYn4+flpamzp071/tKS0vze98AALRnreJ8Rt3TMVlZWbr33nv18ccfy+l0qqys\n",
              "TAUFBYqMjJQkTZ8+XTfffLMkac+ePTp69Kji4+MlSTU1Nd45x40bp3nz5ik1NVXjx49v8nTP4sWL\n",
              "NX/+/HrbXC5XC3YIAACu1SpCSF1Tp07VCy+8oNTUVElSaGioPB6Pd3/Hjh293xtjtHjxYs2ZM6fB\n",
              "PKtXr1Zubq4yMzM1c+ZMTZs2TU8//XSjj+lyuQgdAAAEWKsLIeXl5erbt68kaevWrSovL/d535SU\n",
              "FK1atUqpqakKDQ1VVVWVPvjgAw0ZMkR5eXmKiopSVFSUnE6n/vrXvwaqBQAAcB1aXQhZu3atUlNT\n",
              "1aVLFyUnJ6tPnz4+7ztt2jSVlpYqKSlJ0lfvmHnkkUc0ZMgQ/fKXv1R+fr6+853vKCQkRBs2bAhU\n",
              "CwAA4Do4jDHGdhEA4C+XL1/2/kclMzPT+zeJANjXKt4dAwAA2h9CCAAAsIIQAgAArCCEAAAAKwgh\n",
              "AADACkIIAACwghACAACsIIQAAAArCCEAAMAKQggAALCCEAIAAKwghAAAACsIIQAAwApCCAAAsMJh\n",
              "jDG2iwAAfzHGyOPxSJKCg4PlcDgsVwTgKkIIAACwgtMxAADACkIIAACwghACAACsIIQAAAArnLYL\n",
              "aA+4Oh8AgIY4EhIAHo9HSUlJSkpK8oYRAADaO0IIAACwghACAACsIIQAAAArCCEAAMAKQggAALCC\n",
              "EAIAAKwghAAAACsIIQAAwApCCAAAsIIQAgAArCCEAAAAKwghAADACkIIAACwghACAACsIIQAAAAr\n",
              "nDYfPDw8XC6XSx06dPBu27Jli2JjY1VeXq4uXbrYKw4AAPiV1RAiSdu3b5fb7bZdBgAACLBWfzrm\n",
              "5MmT+sEPfqCEhATFxsZq/fr13n0Oh0PPP/+8EhMT1bdvX23atMm7b+HChUpISJDb7dbdd9+t/Px8\n",
              "G+UDAAAfrB8JmTJlSr3TMe+//773+5qaGj300EPaunWrIiMjdenSJY0YMULDhw9XQkKCJMnlcunI\n",
              "kSPKy8tTQkKCHn74YTmdTi1atEgrV66UJL322muaN2+e3nnnnUZrqKysVGVlZb1tLpdLLperpdsF\n",
              "AAD/T4uEkIEDB+rDDz9s1timTsfk5+crNzdXU6dO9W67cOGC/vOf/3hDyLRp0yRJkZGRcjqdOnfu\n",
              "nO644w4dOHBA69at04ULF1RbW6uysjKfNaSlpenXv/51vW3Lli3T8uXLm9UTAAD4etcdQnJycnzu\n",
              "u3DhQosUcy1jjEJDQ5Wdne3zPsHBwd7vg4KCVF1drbNnz+rJJ5/U0aNH1a9fP+Xk5Ojuu+/2Ocfi\n",
              "xYs1f/78ets4CgIAgH9ddwhxu90KDw+XMabBvtLS0hYt6qpBgwapU6dO2rRpk2bNmiVJOnXqlEJD\n",
              "QxUaGupzXEVFhW6++Wb16NFDxph615E0hlMvAAAE3nWHkLCwMP39739Xz549G+zr3bt3swu49pqQ\n",
              "NWvW/P/inE699dZb+tnPfqY1a9aopqZGXbt21bZt25qcMyYmRlOnTlVUVJRuu+02paSkNLs+AADg\n",
              "Hw7T2KGNRsybN08PPvig7rrrrgb75s6dqz/84Q8tXtyN4vLly0pKSpIkZWZm1gtdAAC0V9cdQtB8\n",
              "hBAAABpq9X8nBAAA3JgIIQAAwApCCAAAsIIQAgAArCCEAAAAKwghAADACkIIAACwghACAACsIIQA\n",
              "AAArCCEAAMAKQggAALCCEAIAAKwghAAAACv4FN0AMMbI4/FIkoKDg+VwOCxXBACAfYQQAABgBadj\n",
              "AACAFYQQAABgBSEEAABYQQgBAABWOG0XAAAAAq81vHOTIyEAALRDHo9HSUlJSkpK8oaRQCOEAAAA\n",
              "KwghAADACkIIAACwghACAACsIIQAAAArCCEAAMAKQggAALCCEAIAAKwghAAAACsIIQAAwApCCAAA\n",
              "sIIQAgAArCCEAAAAKwghAADACkIIAACwghACAACs8GsI2b17t+Lj4+V2uxUZGank5GTV1tbqxRdf\n",
              "1Llz5/z50AAAoJVz+mvikpISzZkzR8eOHVNYWJgk6fjx43I4HHrxxRc1duxYde/e3V8PDwAAWjm/\n",
              "HQn59NNPFRQUpNDQUO+2oUOH6rnnntMnn3yiKVOmyO12Kzs7W1VVVXrmmWeUmJgot9utH//4xyov\n",
              "L1dRUZFuv/12XblyxTvHT37yE61du1aSdPToUSUnJ2vYsGEaMmSIdu7cKUkqLCxUly5dtGzZMsXH\n",
              "x6t///7av3+/z1orKyt1/vz5el+VlZV++skAAADJjyEkNjZWd911l8LCwnT//fdrxYoVKi4u1rPP\n",
              "PquePXtq+/btys7Oltvt1ooVK3TLLbfoyJEjys7OVkxMjJYsWaLevXvL7XbrzTfflCRdvHhRb775\n",
              "pqZPn64vvvhCc+bM0V/+8hdlZWXpwIEDWrBggYqLiyVJFRUVio2N1bFjx7R+/Xr9/Oc/91lrWlqa\n",
              "OnfuXO8rLS3NXz8aAAAgP56Ouemmm7Rr1y7l5eXp4MGDevvtt/W73/1OWVlZDe67Z88eVVRUaNeu\n",
              "XZKkK1euKDw8XJI0a9Ysbdq0Sampqdq5c6eSk5N12223af/+/froo49077331psrPz9fERERCg4O\n",
              "1gMPPCBJGjlypE6fPu2z1sWLF2v+/Pn1trlcrm/TPgAA+Bp+CyFXRUZGKjIyUo8//rgmTJjgPapR\n",
              "lzFG69at0/jx4xvsu//++/XUU0+ppKREmzdv1tNPP+0dExUVpcOHDzcYU1hYKJfLJYfDIUkKCgpS\n",
              "TU2NzxpdLhehAwCAAPPb6Zji4mL94x//8N4uLy9XQUGB+vXrp06dOqmiosK7LyUlRWvWrNGlS5ck\n",
              "SZcuXVJubq4kKTg4WA8++KCWL1+u06dPa8KECZKkO++8UwUFBcrIyPDOk52dXe/6EQAA0Hr57UhI\n",
              "dXW1fvOb36igoEAhISGqrq7WzJkzNXnyZH3++eeaPXu2QkJCtHnzZi1atEiVlZUaPny49+jFokWL\n",
              "FBUVJemrUzKJiYlatGiRgoKCJEnf/e53tW/fPi1cuFALFixQVVWV+vTpoz179virJQAA0IIcxhhj\n",
              "uwgAABBYly9fVlJSkiQpMzNTHTp0CHgN/MVUAABgBSEEAABYQQgBAABWEEIAAIAVhBAAAGAFIQQA\n",
              "AFhBCAEAAFYQQgAAgBWEEAAAYAUhBAAAWEEIAQAAVhBCAACAFYQQAABgBZ+iCwBAO2SMkcfjkSQF\n",
              "BwfL4XAEvAZCCAAAsILTMQAAwApCCAAAsIIQ0kyVlZVavny5KisrbZcSUPRN3+1Be+1bar+907ed\n",
              "vrkmpJnOnz+vzp07q6KiQp06dbJdTsDQN323B+21b6n99k7fdvrmSAgAALCCEAIAAKwghAAAACsI\n",
              "Ic3kcrm0bNkyuVwu26UEFH3Td3vQXvuW2m/v9G2nby5MBQAAVnAkBAAAWEEIAQAAVhBCAACAFYSQ\n",
              "Ojwej1JSUjRw4EDFxcXpnnvu0alTpyRJs2bN8m4fNWqUjh496nMeh8OhmJgYud1uud1uvffee4Fq\n",
              "oVma6nvs2LHq27evt5c1a9b4nOett95SZGSkBgwYoAceeEDnz58PVAvN1lTvw4cP9/YdHR0th8Oh\n",
              "nJycRudpa2suSePHj1dsbKzcbrdGjx6tEydOSJJOnjypO++8UwMHDlRCQoJyc3N9zrFx40YNGDBA\n",
              "/fr10+zZs1VVVRWo8putsb6beh5cq7CwUEFBQd61drvdOn36dIC7+OZ8rXd4eLgGDRrk7WX79u0+\n",
              "57hR1ru0tLTe+g0cOFBOp1NlZWUNxrfV9b5q06ZNcjgc2rNnjyTps88+04QJEzRgwABFR0fr0KFD\n",
              "PscG5DXdwOvy5ctm3759pra21hhjzLp168yYMWOMMcakp6ebqqoqY4wxe/fuNWFhYT7nkWTKy8v9\n",
              "XG3LaarvMWPGmDfeeONr57hw4YK5/fbbzX//+19jjDE//elPzcKFC/1Vcotpqve6du7caaKjo33O\n",
              "09bW3BhTr97du3eb2NhYY4wxSUlJZtOmTcaYr/oeNmxYo+M/+ugj06NHD1NSUmJqa2vND3/4Q7N+\n",
              "/Xp/l/2tNdb39T4PjDGmoKDAdO7c2f+FtjBf6x0WFmZOnDjxteNvpPW+1ooVK8zEiRMbHd9W19uY\n",
              "r2ofOXKkGTFihPd1fNasWWbZsmXGGGOOHDlievXqZa5cudJgbKBe0zkSUkdwcLDuu+8+ORwOSdKI\n",
              "ESNUWFgoSZo0aZKcTqd3e3Fxsaqrq22V2qKa6vt6vf322xoyZIgiIyMlSU888YReffXVli61xV1v\n",
              "7xs3btSjjz4a4Or8q0uXLt7vKyoq5HA49NlnnykrK0vTp0+XJP3oRz9SUVFRo0cFXn/9dU2aNEnd\n",
              "u3eXw+HQ3Llz28SaN9Z3S/wOtHaN9f1N3Ejrfa0b8fe7trZWjz32mNatW1fv7bc7duzQ3LlzJUkJ\n",
              "CQnq2bOnDh482GB8oF7TnS0+4w1k7dq1mjx5cqPb77vvPm8oacy4ceNUXV2tcePG6bnnntMtt9zi\n",
              "z1Jb1LV9P/PMM1q6dKkGDx6stLQ0RURENBhz9uxZhYWFeW+Hh4erpKRE1dXVTf6cWpvG1ryoqEgH\n",
              "Dx7Uli1bmhzbFtd8xowZyszMlCTt379fRUVF6tGjh3fNHA6H+vTpo7Nnz6p///71xja25mfPng1c\n",
              "8d/CtX1fy9fv/lVffvmlEhISVFNTo5SUFP3qV79SUFCQ3+ptKb76njFjhowxSkxM1AsvvKBu3bo1\n",
              "GHujrvfhw4dVXl6uiRMn+hzfFtd79erVGjVqlOLj473bSktLVVVVpe7du3u3+VrHQL2mcyTEh+ef\n",
              "f16nTp1SWlpave1bt27Vjh079PLLL/sce+bMGR07dkyHDx/W559/rl/84hf+LrfFXNv3li1blJeX\n",
              "p5ycHI0ePbrJX9S2zteab968WRMnTlTXrl19jm2ra/7nP/9ZRUVF+u1vf6tFixbZLidgmurb1/Pg\n",
              "qh49eqi4uFhHjx5VRkaG3nvvPa1atSoQZX9rjfV96NAh5eTk6Pjx4+ratatmzpxpucqW19R6b9y4\n",
              "UTNmzPD5D2tbXO8PPvhAu3bt0pIlS2yX8vVa/ATPDWDFihUmPj6+wTn+1157zfTv39+cOXPmuuc6\n",
              "fPhwk9cStCa++q7L5XKZ//3vfw2279ixw3z/+9/33s7NzTW9evXyR5l+4av32tpa07dvX/POO+9c\n",
              "91xtac3rCg4ONufOnTO33nqr9/qn2tpa873vfc+cPHmywf1///vfm8cff9x7e9++fWbUqFEBq7el\n",
              "BAcHe5/T1/M7cK1t27b5vJ6gNavb91WffPKJ6dixY6P3vxHX+8KFC6Zjx47e6x6uR1tY75deesl0\n",
              "797dhIWFmbCwMONyuUy3bt3MSy+9ZEJCQkxJSYn3vgkJCebAgQMN5gjUazoh5BqrVq0yQ4cONWVl\n",
              "ZfW2b9++3fTv398UFhY2Ob6srMx8+eWXxhhjampqzLx588zDDz/st3pbSmN9V1VVmXPnznlvv/76\n",
              "66ZPnz6Njj9//rzp1q1bvYuYFixY4N+iW4ivNTfGmIyMDNO7d29TU1Pjc3xbXPPy8nJTXFzsvf3G\n",
              "G2+YXr16mdraWjNmzJh6F6bGx8c3Osfp06cbXKi4bt26QJTfbE313dTzoK5PP/3UeyGfx+Mxqamp\n",
              "ZunSpX6t+9vy1ffFixfrBa5Vq1aZ0aNHNzrHjbbexhjzyiuvfG2Qaovrfa26bzCYOXNmvQtTe/bs\n",
              "2eiFqYF6TSeE1FFUVGQkmYiICBMXF2fi4uJMYmKiMcYYp9Np7rjjDu/2uLg4b5resGGD90l5+PBh\n",
              "ExMTY2JjY83gwYPN9OnTTWlpqbWeroevvi9evGji4+NNdHS0iY2NNcnJySY7O9s7bunSpWbDhg3e\n",
              "2+np6WbQoEGmX79+ZvLkyeaLL76w0c430tSaG2PMQw89ZJ599tkG49r6mhcWFpqEhATv2o4bN877\n",
              "Dom8vDwzYsQIM2DAABMfH29ycnK84x599FGTnp7uvf3yyy+biIgIExERYR555JFGX8xaE199f93z\n",
              "oO5zfdeuXSYqKsq73k8++aTxeDy2Wrouvvo+ffq0cbvdJiYmxkRHR5tJkyaZgoIC77gbdb2vGjly\n",
              "pPnTn/7UYFxbX+9r1Q0h586dM/fcc4/p37+/GTx4sHn33Xe997Pxms5nxwAAACu4MBUAAFhBCAEA\n",
              "AFYQQgAAgBWEEABtxjf5jBcArR8hBECbMmfOHOXn5+vf//63Jk+erMcee8x2SQCaiXfHAGizsrKy\n",
              "lJqaesN9zgvQXnAkBECb9XWf8QKgdWs7nywGAHVc/YyXv/3tb7ZLAdBMhBAAbc7KlSu1e/duZWRk\n",
              "KCQkxHY5AJqJEAKgTVm9erVeffVVZWRkqEuXLrbLAfAtcGEqgDbj448/Vu/evRUREaFbb71VkuRy\n",
              "ufSvf/3LcmUAmoMQAgAArODdMQAAwApCCAAAsIIQAgAArCCEAAAAKwghAADACkIIAACwghACAACs\n",
              "IIQAAAArCCEAAMAKQggAALDi/wC9wIClC1nvhQAAAABJRU5ErkJggg==\n",
              "\">\n",
              "        \n",
              "      </div>\n",
              "      <script></script>\n",
              "      <script type=\"text/javascript\">\n",
              "        (() => {\n",
              "          const chartElement = document.getElementById(\"chart-1a5d906d-0f82-4fc4-9a94-a1001865747b\");\n",
              "          async function getCodeForChartHandler(event) {\n",
              "            const chartCodeResponse =  await google.colab.kernel.invokeFunction(\n",
              "                'getCodeForChart', [\"chart-1a5d906d-0f82-4fc4-9a94-a1001865747b\"], {});\n",
              "            const responseJson = chartCodeResponse.data['application/json'];\n",
              "            await google.colab.notebook.addCell(responseJson.code, 'code');\n",
              "          }\n",
              "          chartElement.onclick = getCodeForChartHandler;\n",
              "        })();\n",
              "      </script>\n",
              "      <style>\n",
              "        .colab-quickchart-chart-with-code  {\n",
              "            display: block;\n",
              "            float: left;\n",
              "            border: 1px solid transparent;\n",
              "        }\n",
              "\n",
              "        .colab-quickchart-chart-with-code:hover {\n",
              "            cursor: pointer;\n",
              "            border: 1px solid #aaa;\n",
              "        }\n",
              "      </style>"
            ]
          },
          "metadata": {}
        },
        {
          "output_type": "display_data",
          "data": {
            "text/plain": [
              "import numpy as np\n",
              "from google.colab import autoviz\n",
              "\n",
              "def violin_plot(df, value_colname, facet_colname, figscale=1, mpl_palette_name='Dark2', **kwargs):\n",
              "  from matplotlib import pyplot as plt\n",
              "  import seaborn as sns\n",
              "  figsize = (12 * figscale, 1.2 * figscale * len(df[facet_colname].unique()))\n",
              "  plt.figure(figsize=figsize)\n",
              "  sns.violinplot(df, x=value_colname, y=facet_colname, palette=mpl_palette_name, **kwargs)\n",
              "  sns.despine(top=True, right=True, bottom=True, left=True)\n",
              "  return autoviz.MplChart.from_current_mpl_state()\n",
              "\n",
              "chart = violin_plot(df, *[2, 3], **{'inner': 'stick'})\n",
              "chart"
            ],
            "text/html": [
              "      <div class=\"colab-quickchart-chart-with-code\" id=\"chart-725255e7-7cec-4cef-8ecb-570096bc09db\">\n",
              "        <img src=\"data:image/png;base64,iVBORw0KGgoAAAANSUhEUgAAAgsAAACPCAYAAAB04ZgpAAAAOXRFWHRTb2Z0d2FyZQBNYXRwbG90\n",
              "bGliIHZlcnNpb24zLjcuMSwgaHR0cHM6Ly9tYXRwbG90bGliLm9yZy/bCgiHAAAACXBIWXMAAA9h\n",
              "AAAPYQGoP6dpAAAMCElEQVR4nO3dX0zV9R/H8dfXHT2HWpA1RRKPDA90k4o0NlLL2LKabdiGblxU\n",
              "woaga7PNWsaFk244tJpbsbUjzTEbWxuBOmd2Ee1U0FbqlP5wYcI4O6AkG9LBLThRfH8XrrNOyOcH\n",
              "2JfjOTwf27k453w85832uXj6/X7ha9m2bQsAAGAGSxI9AAAAuLcRCwAAwIhYAAAARsQCAAAwIhYA\n",
              "AIARsQAAAIyIBQAAYEQsAAAAI2IBAAAYORoLBw4cUE5OjizLUnd394zrjh8/rry8PK1bt0579+7V\n",
              "5OSkk2MBAIA5cDQWdu3apa6uLq1du3bGNf39/Tp8+LA6OzvV29urGzduqKmpycmxAADAHLic/PCn\n",
              "nnrq/65pa2tTaWmpVq1aJUnat2+f6uvr9eqrrzo5GrBgbNvWxMREosdAAng8HlmWtWDfx15bvJze\n",
              "a47GwmyEw+G4Iw85OTkKh8Mzro9Go4pGo3Gvud1uud1ux2YE7sbExIRKSkoSPQYSIBgMKi0tbcG+\n",
              "j722eDm915LuAke/36+MjIy4h9/vT/RYAACkrIQfWfB6verr64s9D4VC8nq9M66vra3VwYMH417j\n",
              "qALuZR6PR8FgMNFjIAE8Hs+Cfx97bXFyeq8lPBbKysq0detW1dXVKTMzU4FAQOXl5TOu55QDko1l\n",
              "WQt6KBqLF3sNTnH0NERNTY2ys7M1ODio5557Tj6fT5JUVVWlM2fOSJJyc3P19ttva8uWLfL5fFqx\n",
              "YoVqamqcHAsAAMyBZdu2neghAADAvSvpLnAEAAALi1gAAABGxAIAADAiFgAAgBGxAAAAjIgFAABg\n",
              "RCwAAAAjYgEAABgRCwAAwIhYAAAARsQCAAAwIhYAAIARsQAAAIyIBQAAYEQsAAAAI2IBAAAYEQsA\n",
              "AMCIWAAAAEbEAgAAMCIWAACAEbEAAACMiAUAAGBELAAAACNiAQAAGBELAADAiFgAAABGxAIAADAi\n",
              "FgAAgBGxAAAAjIgFAABgRCwAAAAjYgEAABgRCwAAwMjRWLh69ao2b96s/Px8FRUVqaenZ9qar776\n",
              "SmlpaSooKIg9xsfHnRwLAADMgcvJD6+pqVF1dbUqKirU1tamiooKXbhwYdq6Rx99VN3d3U6OAgAA\n",
              "5umujiyMjo7O+N7w8LAuXryol156SZJUVlamgYEB9fb23s1XAgCABTbrWOju7lZBQYEKCwvV09Oj\n",
              "F154QatXr5bX69WPP/44bf3AwICysrLkct0+eGFZlrxer8Lh8LS1fX19KiwsVFFRkT788EPjHNFo\n",
              "VGNjY3GPaDQ62x8DAADM0axj4bXXXlNdXZ0OHDigHTt2qLy8XL///rs++OADvfHGG/MeoLCwUIOD\n",
              "g7p06ZJOnTqlQCCg1tbWGdf7/X5lZGTEPfx+/7y/HwAAmFm2bduzWbhp0yZdvnxZkqYdISgoKJh2\n",
              "zcHw8LB8Pp9u3rwpl8sl27aVlZWlrq4u+Xy+Gb/H7/fr+vXramxsvOP70Wh02pEEt9stt9s9mx8D\n",
              "AADM0ayPLPyzKUpKSmZ8728rV65UYWGhWlpaJEnt7e3Kzs6eFgpDQ0OampqSJN26dUtnz57Vpk2b\n",
              "ZpzD7XYrPT097kEoAADgnFnHQmZmpsbGxiRJJ06ciL0+NDQkj8dzx39z7NgxHTt2TPn5+WpoaFBz\n",
              "c7MkqaqqSmfOnJF0OyLWr1+vjRs3qri4WNu3b1dlZeW8fyAAAPDfmvVpiJlEIhFFIhF5vd7/aiYA\n",
              "AHAPuetYAAAAqY0/9wwAAIyIBQAAYEQsAAAAI2IBAAAYEQsAAMCIWAAAAEbEAgAAMCIWAACAEbEA\n",
              "AACMiAUAAGBELAAAACNiAQAAGBELAADAiFgAAABGxAIAADAiFgAAgBGxAAAAjIgFAABgRCwAAAAj\n",
              "YgEAABgRCwAAwIhYAAAARsQCAAAwIhYAAIARsQAAAIyIBQAAYEQsAAAAI2IBAAAYEQsAAMCIWAAA\n",
              "AEbEAgAAMCIWAACAkaOxcPXqVW3evFn5+fkqKipST0/PHdcdP35ceXl5Wrdunfbu3avJyUknxwIA\n",
              "AHPgaCzU1NSourpav/zyiw4dOqSKioppa/r7+3X48GF1dnaqt7dXN27cUFNTk5NjAQCAObBs27ad\n",
              "+ODh4WH5fD7dvHlTLpdLtm0rKytLXV1d8vl8sXXvvvuu+vr6FAgEJEnnzp1TfX29urq6nBgrxrZt\n",
              "TUxMOPoduDd5PB5ZlpXoMQAgabic+uCBgQFlZWXJ5br9FZZlyev1KhwOx8VCOBzW2rVrY89zcnIU\n",
              "Dodn/NxoNKpoNBr3mtvtltvtntN8ExMTKikpmdO/QWoIBoNKS0tL9BgAkDSS7gJHv9+vjIyMuIff\n",
              "70/0WAAApCzHjiysWbNGQ0ND+vPPP2OnIcLhsLxeb9w6r9ervr6+2PNQKDRtzT/V1tbq4MGDca/N\n",
              "9aiCdPtQdDAYnPO/Q/LzeDyJHgEAkopjsbBy5UoVFhaqpaVFFRUVam9vV3Z2dtwpCEkqKyvT1q1b\n",
              "VVdXp8zMTAUCAZWXl8/4ufM55XAnlmVxKBoAgFlw7AJHSbpy5YoqKio0MjKi9PR0NTc3a/369aqq\n",
              "qlJpaalKS0slSR999JEaGhokSU8//bQCgYCWLl3q1FgAAGAOHI0F3Jui0aj8fr9qa2v/k6M0wEzY\n",
              "a1go7DVnEQuL0NjYmDIyMhSJRJSenp7ocZDC2GtYKOw1ZyXdb0MAAICFRSwAAAAjYgEAABgRC4uQ\n",
              "2+3WkSNHuAgIjmOvYaGw15zFBY4AAMCIIwsAAMCIWAAAAEbEAgAAMCIWUtzExIRefPFF5efna+PG\n",
              "jdq+fbt6e3slSZWVldqwYYMKCgpUVFSkL7/8MsHTItk9++yzsT315JNP6vLly8Y9CNyt5uZmWZal\n",
              "06dPS5KGh4f1/PPPKy8vT4899pi++eabxA6YKmyktPHxcfuzzz6zp6ambNu27cbGRnvbtm22bdv2\n",
              "6OhobN2lS5fs5cuX23/99VcCpkSq+OeeOnnypL1hwwbjHgTuRn9/v/3EE0/YxcXF9qlTp2zbtu3K\n",
              "ykr7yJEjtm3b9vnz5+3Vq1fbf/zxR+KGTBEcWUhxHo9HO3bskGVZkqTi4mKFQiFJ0oMPPhhbF4lE\n",
              "EjAdUs2/95RlWcY9CMzX1NSUqqqq1NjYGPfrkq2trdq3b58kqaioSI888oi+/vrrRI2ZMhy7RTXu\n",
              "Te+//7527twZe/7WW2/p008/1ejoqNrb27VkCf2Iu/PKK68oGAxKks6dOzft/X/vQWA+jh49qi1b\n",
              "tujxxx+PvTYyMqLJyUmtWrUq9lpOTo7C4XAiRkwpxMIiUl9fr97e3rhrExoaGtTQ0KCOjg69+eab\n",
              "+vbbb7Vs2bIETolk9/HHH0uSTpw4oUOHDsUFw532IDBXP//8s9rb27keYQHx38hF4r333tPJkyf1\n",
              "+eef67777pv2/jPPPKNbt27pp59+SsB0SEV79uxRMBjUyMiIpP+/B4HZ6uzsVCgUUl5ennJycvTd\n",
              "d9+purpara2tcrlc+vXXX2NrQ6GQvF5vAqdNDcTCInD06FF98skn+uKLL2LnlCcnJ+OuSD9//ryG\n",
              "h4eVm5uboCmR7H777Tddv3499vz06dN6+OGH9dBDD91xDwLztX//fg0NDSkUCikUCqm4uFhNTU3a\n",
              "v3+/du/erUAgIEm6cOGCrl27pm3btiV44uTHaYgUNzg4qNdff125ubkqKSmRdPtvqAeDQe3Zs0eR\n",
              "SEQul0v333+/2tratHz58gRPjGQViUS0e/dujY+Pa8mSJVqxYoXOnj2ra9eu3XEPfv/99wmeGKno\n",
              "nXfe0csvv6y8vDwtW7ZMLS0tWrp0aaLHSnrcGwIAABhxGgIAABgRCwAAwIhYAAAARsQCAEdwTwgg\n",
              "dRALABxTXV2tK1eu6IcfftDOnTtVVVWV6JEAzAO/DQFgQVy8eFG7du3ivhBAEuLIAoAFwT0hgOTF\n",
              "H2UC4DjuCQEkN2IBgKP+vidER0cH94QAkhSxAMAxf98ToqOjg3tCAEmMCxwBOGJwcFBr1qxRbm6u\n",
              "HnjgAUncEwJIVsQCAAAw4rchAACAEbEAAACMiAUAAGBELAAAACNiAQAAGBELAADAiFgAAABGxAIA\n",
              "ADAiFgAAgBGxAAAAjP4H2KRi9DzMCJ0AAAAASUVORK5CYII=\n",
              "\">\n",
              "        \n",
              "      </div>\n",
              "      <script></script>\n",
              "      <script type=\"text/javascript\">\n",
              "        (() => {\n",
              "          const chartElement = document.getElementById(\"chart-725255e7-7cec-4cef-8ecb-570096bc09db\");\n",
              "          async function getCodeForChartHandler(event) {\n",
              "            const chartCodeResponse =  await google.colab.kernel.invokeFunction(\n",
              "                'getCodeForChart', [\"chart-725255e7-7cec-4cef-8ecb-570096bc09db\"], {});\n",
              "            const responseJson = chartCodeResponse.data['application/json'];\n",
              "            await google.colab.notebook.addCell(responseJson.code, 'code');\n",
              "          }\n",
              "          chartElement.onclick = getCodeForChartHandler;\n",
              "        })();\n",
              "      </script>\n",
              "      <style>\n",
              "        .colab-quickchart-chart-with-code  {\n",
              "            display: block;\n",
              "            float: left;\n",
              "            border: 1px solid transparent;\n",
              "        }\n",
              "\n",
              "        .colab-quickchart-chart-with-code:hover {\n",
              "            cursor: pointer;\n",
              "            border: 1px solid #aaa;\n",
              "        }\n",
              "      </style>"
            ]
          },
          "metadata": {}
        },
        {
          "output_type": "execute_result",
          "data": {
            "text/plain": [
              "   0       1   2      3\n",
              "0  1   Fares  32   True\n",
              "1  2   Elena  23  False\n",
              "2  3  Steven  40   True"
            ],
            "text/html": [
              "\n",
              "  <div id=\"df-35a73d03-9e37-4dbd-87d9-d4b6debf7cd4\" class=\"colab-df-container\">\n",
              "    <div>\n",
              "<style scoped>\n",
              "    .dataframe tbody tr th:only-of-type {\n",
              "        vertical-align: middle;\n",
              "    }\n",
              "\n",
              "    .dataframe tbody tr th {\n",
              "        vertical-align: top;\n",
              "    }\n",
              "\n",
              "    .dataframe thead th {\n",
              "        text-align: right;\n",
              "    }\n",
              "</style>\n",
              "<table border=\"1\" class=\"dataframe\">\n",
              "  <thead>\n",
              "    <tr style=\"text-align: right;\">\n",
              "      <th></th>\n",
              "      <th>0</th>\n",
              "      <th>1</th>\n",
              "      <th>2</th>\n",
              "      <th>3</th>\n",
              "    </tr>\n",
              "  </thead>\n",
              "  <tbody>\n",
              "    <tr>\n",
              "      <th>0</th>\n",
              "      <td>1</td>\n",
              "      <td>Fares</td>\n",
              "      <td>32</td>\n",
              "      <td>True</td>\n",
              "    </tr>\n",
              "    <tr>\n",
              "      <th>1</th>\n",
              "      <td>2</td>\n",
              "      <td>Elena</td>\n",
              "      <td>23</td>\n",
              "      <td>False</td>\n",
              "    </tr>\n",
              "    <tr>\n",
              "      <th>2</th>\n",
              "      <td>3</td>\n",
              "      <td>Steven</td>\n",
              "      <td>40</td>\n",
              "      <td>True</td>\n",
              "    </tr>\n",
              "  </tbody>\n",
              "</table>\n",
              "</div>\n",
              "    <div class=\"colab-df-buttons\">\n",
              "\n",
              "  <div class=\"colab-df-container\">\n",
              "    <button class=\"colab-df-convert\" onclick=\"convertToInteractive('df-35a73d03-9e37-4dbd-87d9-d4b6debf7cd4')\"\n",
              "            title=\"Convert this dataframe to an interactive table.\"\n",
              "            style=\"display:none;\">\n",
              "\n",
              "  <svg xmlns=\"http://www.w3.org/2000/svg\" height=\"24px\" viewBox=\"0 -960 960 960\">\n",
              "    <path d=\"M120-120v-720h720v720H120Zm60-500h600v-160H180v160Zm220 220h160v-160H400v160Zm0 220h160v-160H400v160ZM180-400h160v-160H180v160Zm440 0h160v-160H620v160ZM180-180h160v-160H180v160Zm440 0h160v-160H620v160Z\"/>\n",
              "  </svg>\n",
              "    </button>\n",
              "\n",
              "  <style>\n",
              "    .colab-df-container {\n",
              "      display:flex;\n",
              "      gap: 12px;\n",
              "    }\n",
              "\n",
              "    .colab-df-convert {\n",
              "      background-color: #E8F0FE;\n",
              "      border: none;\n",
              "      border-radius: 50%;\n",
              "      cursor: pointer;\n",
              "      display: none;\n",
              "      fill: #1967D2;\n",
              "      height: 32px;\n",
              "      padding: 0 0 0 0;\n",
              "      width: 32px;\n",
              "    }\n",
              "\n",
              "    .colab-df-convert:hover {\n",
              "      background-color: #E2EBFA;\n",
              "      box-shadow: 0px 1px 2px rgba(60, 64, 67, 0.3), 0px 1px 3px 1px rgba(60, 64, 67, 0.15);\n",
              "      fill: #174EA6;\n",
              "    }\n",
              "\n",
              "    .colab-df-buttons div {\n",
              "      margin-bottom: 4px;\n",
              "    }\n",
              "\n",
              "    [theme=dark] .colab-df-convert {\n",
              "      background-color: #3B4455;\n",
              "      fill: #D2E3FC;\n",
              "    }\n",
              "\n",
              "    [theme=dark] .colab-df-convert:hover {\n",
              "      background-color: #434B5C;\n",
              "      box-shadow: 0px 1px 3px 1px rgba(0, 0, 0, 0.15);\n",
              "      filter: drop-shadow(0px 1px 2px rgba(0, 0, 0, 0.3));\n",
              "      fill: #FFFFFF;\n",
              "    }\n",
              "  </style>\n",
              "\n",
              "    <script>\n",
              "      const buttonEl =\n",
              "        document.querySelector('#df-35a73d03-9e37-4dbd-87d9-d4b6debf7cd4 button.colab-df-convert');\n",
              "      buttonEl.style.display =\n",
              "        google.colab.kernel.accessAllowed ? 'block' : 'none';\n",
              "\n",
              "      async function convertToInteractive(key) {\n",
              "        const element = document.querySelector('#df-35a73d03-9e37-4dbd-87d9-d4b6debf7cd4');\n",
              "        const dataTable =\n",
              "          await google.colab.kernel.invokeFunction('convertToInteractive',\n",
              "                                                    [key], {});\n",
              "        if (!dataTable) return;\n",
              "\n",
              "        const docLinkHtml = 'Like what you see? Visit the ' +\n",
              "          '<a target=\"_blank\" href=https://colab.research.google.com/notebooks/data_table.ipynb>data table notebook</a>'\n",
              "          + ' to learn more about interactive tables.';\n",
              "        element.innerHTML = '';\n",
              "        dataTable['output_type'] = 'display_data';\n",
              "        await google.colab.output.renderOutput(dataTable, element);\n",
              "        const docLink = document.createElement('div');\n",
              "        docLink.innerHTML = docLinkHtml;\n",
              "        element.appendChild(docLink);\n",
              "      }\n",
              "    </script>\n",
              "  </div>\n",
              "\n",
              "\n",
              "<div id=\"df-058a38c5-0bf4-47aa-ab9f-77125538d677\">\n",
              "  <button class=\"colab-df-quickchart\" onclick=\"quickchart('df-058a38c5-0bf4-47aa-ab9f-77125538d677')\"\n",
              "            title=\"Suggest charts.\"\n",
              "            style=\"display:none;\">\n",
              "\n",
              "<svg xmlns=\"http://www.w3.org/2000/svg\" height=\"24px\"viewBox=\"0 0 24 24\"\n",
              "     width=\"24px\">\n",
              "    <g>\n",
              "        <path d=\"M19 3H5c-1.1 0-2 .9-2 2v14c0 1.1.9 2 2 2h14c1.1 0 2-.9 2-2V5c0-1.1-.9-2-2-2zM9 17H7v-7h2v7zm4 0h-2V7h2v10zm4 0h-2v-4h2v4z\"/>\n",
              "    </g>\n",
              "</svg>\n",
              "  </button>\n",
              "\n",
              "<style>\n",
              "  .colab-df-quickchart {\n",
              "      --bg-color: #E8F0FE;\n",
              "      --fill-color: #1967D2;\n",
              "      --hover-bg-color: #E2EBFA;\n",
              "      --hover-fill-color: #174EA6;\n",
              "      --disabled-fill-color: #AAA;\n",
              "      --disabled-bg-color: #DDD;\n",
              "  }\n",
              "\n",
              "  [theme=dark] .colab-df-quickchart {\n",
              "      --bg-color: #3B4455;\n",
              "      --fill-color: #D2E3FC;\n",
              "      --hover-bg-color: #434B5C;\n",
              "      --hover-fill-color: #FFFFFF;\n",
              "      --disabled-bg-color: #3B4455;\n",
              "      --disabled-fill-color: #666;\n",
              "  }\n",
              "\n",
              "  .colab-df-quickchart {\n",
              "    background-color: var(--bg-color);\n",
              "    border: none;\n",
              "    border-radius: 50%;\n",
              "    cursor: pointer;\n",
              "    display: none;\n",
              "    fill: var(--fill-color);\n",
              "    height: 32px;\n",
              "    padding: 0;\n",
              "    width: 32px;\n",
              "  }\n",
              "\n",
              "  .colab-df-quickchart:hover {\n",
              "    background-color: var(--hover-bg-color);\n",
              "    box-shadow: 0 1px 2px rgba(60, 64, 67, 0.3), 0 1px 3px 1px rgba(60, 64, 67, 0.15);\n",
              "    fill: var(--button-hover-fill-color);\n",
              "  }\n",
              "\n",
              "  .colab-df-quickchart-complete:disabled,\n",
              "  .colab-df-quickchart-complete:disabled:hover {\n",
              "    background-color: var(--disabled-bg-color);\n",
              "    fill: var(--disabled-fill-color);\n",
              "    box-shadow: none;\n",
              "  }\n",
              "\n",
              "  .colab-df-spinner {\n",
              "    border: 2px solid var(--fill-color);\n",
              "    border-color: transparent;\n",
              "    border-bottom-color: var(--fill-color);\n",
              "    animation:\n",
              "      spin 1s steps(1) infinite;\n",
              "  }\n",
              "\n",
              "  @keyframes spin {\n",
              "    0% {\n",
              "      border-color: transparent;\n",
              "      border-bottom-color: var(--fill-color);\n",
              "      border-left-color: var(--fill-color);\n",
              "    }\n",
              "    20% {\n",
              "      border-color: transparent;\n",
              "      border-left-color: var(--fill-color);\n",
              "      border-top-color: var(--fill-color);\n",
              "    }\n",
              "    30% {\n",
              "      border-color: transparent;\n",
              "      border-left-color: var(--fill-color);\n",
              "      border-top-color: var(--fill-color);\n",
              "      border-right-color: var(--fill-color);\n",
              "    }\n",
              "    40% {\n",
              "      border-color: transparent;\n",
              "      border-right-color: var(--fill-color);\n",
              "      border-top-color: var(--fill-color);\n",
              "    }\n",
              "    60% {\n",
              "      border-color: transparent;\n",
              "      border-right-color: var(--fill-color);\n",
              "    }\n",
              "    80% {\n",
              "      border-color: transparent;\n",
              "      border-right-color: var(--fill-color);\n",
              "      border-bottom-color: var(--fill-color);\n",
              "    }\n",
              "    90% {\n",
              "      border-color: transparent;\n",
              "      border-bottom-color: var(--fill-color);\n",
              "    }\n",
              "  }\n",
              "</style>\n",
              "\n",
              "  <script>\n",
              "    async function quickchart(key) {\n",
              "      const quickchartButtonEl =\n",
              "        document.querySelector('#' + key + ' button');\n",
              "      quickchartButtonEl.disabled = true;  // To prevent multiple clicks.\n",
              "      quickchartButtonEl.classList.add('colab-df-spinner');\n",
              "      try {\n",
              "        const charts = await google.colab.kernel.invokeFunction(\n",
              "            'suggestCharts', [key], {});\n",
              "      } catch (error) {\n",
              "        console.error('Error during call to suggestCharts:', error);\n",
              "      }\n",
              "      quickchartButtonEl.classList.remove('colab-df-spinner');\n",
              "      quickchartButtonEl.classList.add('colab-df-quickchart-complete');\n",
              "    }\n",
              "    (() => {\n",
              "      let quickchartButtonEl =\n",
              "        document.querySelector('#df-058a38c5-0bf4-47aa-ab9f-77125538d677 button');\n",
              "      quickchartButtonEl.style.display =\n",
              "        google.colab.kernel.accessAllowed ? 'block' : 'none';\n",
              "    })();\n",
              "  </script>\n",
              "</div>\n",
              "    </div>\n",
              "  </div>\n"
            ]
          },
          "metadata": {},
          "execution_count": 3
        }
      ]
    },
    {
      "cell_type": "code",
      "source": [
        "import numpy as np\n",
        "myMatrix = np.array([[11, 12, 13], [21, 22, 23], [31, 32, 33]])\n",
        "print(myMatrix)"
      ],
      "metadata": {
        "colab": {
          "base_uri": "https://localhost:8080/"
        },
        "id": "DVRDEDbUBarA",
        "outputId": "37b27570-46a7-4099-feb2-65b93337416e"
      },
      "execution_count": 9,
      "outputs": [
        {
          "output_type": "stream",
          "name": "stdout",
          "text": [
            "[[11 12 13]\n",
            " [21 22 23]\n",
            " [31 32 33]]\n"
          ]
        }
      ]
    }
  ]
}