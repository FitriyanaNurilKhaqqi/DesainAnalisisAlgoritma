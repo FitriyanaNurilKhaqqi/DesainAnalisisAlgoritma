{
  "nbformat": 4,
  "nbformat_minor": 0,
  "metadata": {
    "colab": {
      "provenance": []
    },
    "kernelspec": {
      "name": "python3",
      "display_name": "Python 3"
    },
    "language_info": {
      "name": "python"
    }
  },
  "cells": [
    {
      "cell_type": "code",
      "execution_count": null,
      "metadata": {
        "id": "ksqYDlVEbcKf"
      },
      "outputs": [],
      "source": [
        "def bfs(graph,start):\n",
        "  visited=[]\n",
        "  queue = []\n",
        "  queue =[start]\n",
        "  while queue:\n",
        "    node = queue.pop(0)\n",
        "    if node not in visited:\n",
        "      visited.append(node)\n",
        "      neighbours = graph[node]\n",
        "      for neighbour in neighbours:\n",
        "        queue.append(neighbour)\n",
        "  return visited"
      ]
    },
    {
      "cell_type": "code",
      "source": [
        "graph = {'amin' : ['wasim','nick','mike'],\n",
        "         'wasim' : ['imran','amin'],\n",
        "         'imran' : ['wasim','faras'],\n",
        "         'faras' : ['imran'],\n",
        "         'mike' : ['amin'],\n",
        "         'nick' : ['amin']\n",
        "}"
      ],
      "metadata": {
        "id": "FVR_6fOgc739"
      },
      "execution_count": null,
      "outputs": []
    },
    {
      "cell_type": "code",
      "source": [
        "bfs(graph,'amin')"
      ],
      "metadata": {
        "colab": {
          "base_uri": "https://localhost:8080/"
        },
        "id": "Dmjh2n43duHt",
        "outputId": "de74743b-b4c0-403b-f30c-d8c56d785540"
      },
      "execution_count": null,
      "outputs": [
        {
          "output_type": "execute_result",
          "data": {
            "text/plain": [
              "['amin', 'wasim', 'nick', 'mike', 'imran', 'faras']"
            ]
          },
          "metadata": {},
          "execution_count": 51
        }
      ]
    },
    {
      "cell_type": "code",
      "source": [
        "# o amin ---------------------\n",
        "# |             |           |\n",
        "# o wasim    o nick     o mike\n",
        "# |\n",
        "# o imran\n",
        "# |\n",
        "# o faras\n",
        "\n",
        "bfs(graph, 'amin')"
      ],
      "metadata": {
        "colab": {
          "base_uri": "https://localhost:8080/"
        },
        "id": "YN7-kLeGd9yk",
        "outputId": "2aaebeb5-7d59-479f-859b-cb70be0f794d"
      },
      "execution_count": null,
      "outputs": [
        {
          "output_type": "execute_result",
          "data": {
            "text/plain": [
              "['amin', 'wasim', 'nick', 'mike', 'imran', 'faras']"
            ]
          },
          "metadata": {},
          "execution_count": 52
        }
      ]
    },
    {
      "cell_type": "code",
      "source": [
        "# o amin ---------------------\n",
        "# |             |           |\n",
        "# o wasim    o nick     o mike\n",
        "# |\n",
        "# o imran\n",
        "# |\n",
        "# o faras\n",
        "\n",
        "bfs(graph, 'wasim')"
      ],
      "metadata": {
        "colab": {
          "base_uri": "https://localhost:8080/"
        },
        "id": "tpHDJKlLevxM",
        "outputId": "412e5ac9-7ff4-43b9-88d2-91afba6c52ad"
      },
      "execution_count": null,
      "outputs": [
        {
          "output_type": "execute_result",
          "data": {
            "text/plain": [
              "['wasim', 'imran', 'amin', 'faras', 'nick', 'mike']"
            ]
          },
          "metadata": {},
          "execution_count": 53
        }
      ]
    },
    {
      "cell_type": "code",
      "source": [
        "# o amin ---------------------\n",
        "# |             |           |\n",
        "# o wasim    o nick     o mike\n",
        "# |\n",
        "# o imran\n",
        "# |\n",
        "# o faras\n",
        "\n",
        "bfs(graph, 'faras')"
      ],
      "metadata": {
        "colab": {
          "base_uri": "https://localhost:8080/"
        },
        "id": "jnE_6Y70e8f9",
        "outputId": "b75ce94f-e417-4184-eb2b-354eefb59800"
      },
      "execution_count": null,
      "outputs": [
        {
          "output_type": "execute_result",
          "data": {
            "text/plain": [
              "['faras', 'imran', 'wasim', 'amin', 'nick', 'mike']"
            ]
          },
          "metadata": {},
          "execution_count": 54
        }
      ]
    },
    {
      "cell_type": "code",
      "source": [
        "graph = {'0' : ['9','7','11'],\n",
        "         '9' : ['8','10','0'],\n",
        "         '7' : ['6','3','0','11'],\n",
        "         '8' : ['1','12','9'],\n",
        "         '6' : ['5'],\n",
        "         '12' : ['2'],\n",
        "         '3' : ['2','4'],\n",
        "         '5' : ['6'],\n",
        "         '4' : ['3'],\n",
        "         '10' : ['9','1'],\n",
        "         '11' : ['0','7'],\n",
        "         '1' : ['10','8'],\n",
        "         '2' : ['12','3']\n",
        "        }"
      ],
      "metadata": {
        "id": "xufk05Ypf93t"
      },
      "execution_count": null,
      "outputs": []
    },
    {
      "cell_type": "code",
      "source": [
        "bfs(graph,'0')"
      ],
      "metadata": {
        "colab": {
          "base_uri": "https://localhost:8080/"
        },
        "id": "0uFSlm_mjZl8",
        "outputId": "0eb0ccc4-6d5a-44d8-b6d4-e58cad2dad51"
      },
      "execution_count": null,
      "outputs": [
        {
          "output_type": "execute_result",
          "data": {
            "text/plain": [
              "['0', '9', '7', '11', '8', '10', '6', '3', '1', '12', '5', '2', '4']"
            ]
          },
          "metadata": {},
          "execution_count": 61
        }
      ]
    },
    {
      "cell_type": "code",
      "source": [
        "graph = {'rektor' : ['warek1','warek2'],\n",
        "         'warek1' : ['warek2','rektor'],\n",
        "         'warek2' : ['kaprodi1','kaprodi2','kaprodi3','rektor'],\n",
        "         'kaprodi1' : ['dosenA','dosenB','dosenC','warek2'],\n",
        "         'kaprodi2' : ['dosenD','dosenE','warek2'],\n",
        "         'kaprodi3' : ['dosenF','dosenG','warek2'],\n",
        "         'dosenG' : ['kaprodi3'],\n",
        "         'dosenF' : ['kaprodi3'],\n",
        "         'dosenD' : ['kaprodi2'],\n",
        "         'dosenE' : ['kaprodi2'],\n",
        "         'dosenA' : ['kaprodi1'],\n",
        "         'dosenB' : ['kaprodi1'],\n",
        "         'dosenC' : ['kaprodi1']\n",
        "        }"
      ],
      "metadata": {
        "id": "x85EIdN3r5Ix"
      },
      "execution_count": null,
      "outputs": []
    },
    {
      "cell_type": "code",
      "source": [
        "bfs(graph,'rektor')"
      ],
      "metadata": {
        "colab": {
          "base_uri": "https://localhost:8080/"
        },
        "id": "kGoVSBAkzUPS",
        "outputId": "1386df4d-2f0b-4012-e525-e6bae5a91d1e"
      },
      "execution_count": null,
      "outputs": [
        {
          "output_type": "execute_result",
          "data": {
            "text/plain": [
              "['rektor',\n",
              " 'warek1',\n",
              " 'warek2',\n",
              " 'kaprodi1',\n",
              " 'kaprodi2',\n",
              " 'kaprodi3',\n",
              " 'dosenA',\n",
              " 'dosenB',\n",
              " 'dosenC',\n",
              " 'dosenD',\n",
              " 'dosenE',\n",
              " 'dosenF',\n",
              " 'dosenG']"
            ]
          },
          "metadata": {},
          "execution_count": 76
        }
      ]
    },
    {
      "cell_type": "code",
      "source": [
        "def dfs(visited, graph, node):\n",
        "  if node not in visited:\n",
        "    print(node)\n",
        "    visited.add(node)\n",
        "    for neighbour in graph[node]:\n",
        "      dfs(visited, graph, neighbour)"
      ],
      "metadata": {
        "id": "mj0QedZx1X3R"
      },
      "execution_count": null,
      "outputs": []
    },
    {
      "cell_type": "code",
      "source": [
        "graph = {'amin' : ['wasim','nick','mike'],\n",
        "         'wasim' : ['imran','amin'],\n",
        "         'imran' : ['wasim','faras'],\n",
        "         'faras' : ['imran'],\n",
        "         'mike' : ['amin'],\n",
        "         'nick' : ['amin']\n",
        "}"
      ],
      "metadata": {
        "id": "km4SPf932M2A"
      },
      "execution_count": null,
      "outputs": []
    },
    {
      "cell_type": "code",
      "source": [
        "# o amin ---------------------\n",
        "# |             |           |\n",
        "# o wasim    o nick     o mike\n",
        "# |\n",
        "# o imran\n",
        "# |\n",
        "# o faras\n",
        "visited = set()\n",
        "dfs(visited, graph, 'amin')"
      ],
      "metadata": {
        "colab": {
          "base_uri": "https://localhost:8080/"
        },
        "id": "wV-DPixv2S0w",
        "outputId": "27631267-2d39-457f-8d08-450d2eaf1401"
      },
      "execution_count": null,
      "outputs": [
        {
          "output_type": "stream",
          "name": "stdout",
          "text": [
            "amin\n",
            "wasim\n",
            "imran\n",
            "faras\n",
            "nick\n",
            "mike\n"
          ]
        }
      ]
    },
    {
      "cell_type": "code",
      "source": [
        "# o amin ---------------------\n",
        "# |             |           |\n",
        "# o wasim    o nick     o mike\n",
        "# |\n",
        "# o imran\n",
        "# |\n",
        "# o faras\n",
        "visited = set()\n",
        "dfs(visited, graph, 'wasim')"
      ],
      "metadata": {
        "colab": {
          "base_uri": "https://localhost:8080/"
        },
        "id": "ZTi_RrwP2jfw",
        "outputId": "80319cd0-1492-428f-ebfe-0e402261fe72"
      },
      "execution_count": null,
      "outputs": [
        {
          "output_type": "stream",
          "name": "stdout",
          "text": [
            "wasim\n",
            "imran\n",
            "faras\n",
            "amin\n",
            "nick\n",
            "mike\n"
          ]
        }
      ]
    },
    {
      "cell_type": "code",
      "source": [
        "# o amin ---------------------\n",
        "# |             |           |\n",
        "# o wasim    o nick     o mike\n",
        "# |\n",
        "# o imran\n",
        "# |\n",
        "# o faras\n",
        "visited = set()\n",
        "dfs(visited, graph, 'faras')"
      ],
      "metadata": {
        "colab": {
          "base_uri": "https://localhost:8080/"
        },
        "id": "NFwZoSnK2opQ",
        "outputId": "abc4ea48-f471-48e6-f1ef-a985f7d6fb71"
      },
      "execution_count": null,
      "outputs": [
        {
          "output_type": "stream",
          "name": "stdout",
          "text": [
            "faras\n",
            "imran\n",
            "wasim\n",
            "amin\n",
            "nick\n",
            "mike\n"
          ]
        }
      ]
    },
    {
      "cell_type": "code",
      "source": [
        "# o amin ---------------------\n",
        "# |             |           |\n",
        "# o wasim    o nick     o mike\n",
        "# |\n",
        "# o imran\n",
        "# |\n",
        "# o faras\n",
        "visited = set()\n",
        "dfs(visited, graph, 'nick')"
      ],
      "metadata": {
        "colab": {
          "base_uri": "https://localhost:8080/"
        },
        "id": "vno4JdSX2wmQ",
        "outputId": "b8672c77-4fd3-4137-c88b-520ef9b650c7"
      },
      "execution_count": null,
      "outputs": [
        {
          "output_type": "stream",
          "name": "stdout",
          "text": [
            "nick\n",
            "amin\n",
            "wasim\n",
            "imran\n",
            "faras\n",
            "mike\n"
          ]
        }
      ]
    },
    {
      "cell_type": "code",
      "source": [
        "graph = {'rektor' : ['warek1','warek2'],\n",
        "         'warek1' : ['warek2','rektor'],\n",
        "         'warek2' : ['kaprodi1','kaprodi2','kaprodi3','rektor'],\n",
        "         'kaprodi1' : ['dosenA','dosenB','dosenC','warek2'],\n",
        "         'kaprodi2' : ['dosenD','dosenE','warek2'],\n",
        "         'kaprodi3' : ['dosenF','dosenG','warek2'],\n",
        "         'dosenG' : ['kaprodi3'],\n",
        "         'dosenF' : ['kaprodi3'],\n",
        "         'dosenD' : ['kaprodi2'],\n",
        "         'dosenE' : ['kaprodi2'],\n",
        "         'dosenA' : ['kaprodi1'],\n",
        "         'dosenB' : ['kaprodi1'],\n",
        "         'dosenC' : ['kaprodi1']\n",
        "        }"
      ],
      "metadata": {
        "id": "ocwCKDp722mQ"
      },
      "execution_count": null,
      "outputs": []
    },
    {
      "cell_type": "code",
      "source": [
        "visited = set()\n",
        "dfs(visited, graph, 'rektor')"
      ],
      "metadata": {
        "colab": {
          "base_uri": "https://localhost:8080/"
        },
        "id": "HmjlOIxU26qw",
        "outputId": "7797f4df-52fd-4aa3-c332-18bcdce8519d"
      },
      "execution_count": null,
      "outputs": [
        {
          "output_type": "stream",
          "name": "stdout",
          "text": [
            "rektor\n",
            "warek1\n",
            "warek2\n",
            "kaprodi1\n",
            "dosenA\n",
            "dosenB\n",
            "dosenC\n",
            "kaprodi2\n",
            "dosenD\n",
            "dosenE\n",
            "kaprodi3\n",
            "dosenF\n",
            "dosenG\n"
          ]
        }
      ]
    },
    {
      "cell_type": "code",
      "source": [
        "kalo bfs dia barisnya mendatar, sedangkan dfs barisnya menurun\n",
        "dan bfs ketika kita menampilkan output dia tidak beerurutan\n",
        "sedangkan dfs ketika kita menampilkan ouput dia berurutan sesuai data dar"
      ],
      "metadata": {
        "id": "XAVMQ_je-XNg"
      },
      "execution_count": null,
      "outputs": []
    }
  ]
}