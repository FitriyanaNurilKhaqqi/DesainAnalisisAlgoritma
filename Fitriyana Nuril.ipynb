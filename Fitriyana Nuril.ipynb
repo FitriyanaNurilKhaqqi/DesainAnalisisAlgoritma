{
 "cells": [
  {
   "cell_type": "markdown",
   "id": "69833917",
   "metadata": {},
   "source": [
    "# TUGAS PERTEMUAN 1 [Algoritma & Pseucode]"
   ]
  },
  {
   "cell_type": "raw",
   "id": "911cc6d8",
   "metadata": {},
   "source": [
    "Nama : Fitriyana Nuril Khaqqi\n",
    "NIM : 2022071003\n",
    "Prodi: Informatika\n",
    "\n",
    "1. Cari nilai KPK dari 3 dan 4\n",
    "\n",
    "    - Algoritma:\n",
    "        1) Buat variabel a dengan nilai 3\n",
    "        2) Buat variabel b dengan nilai 4\n",
    "        3) Buat variabel A untuk nilai variabel a\n",
    "        4) Buat variabel B untuk nilai variabel b\n",
    "        5) Membuat perulangan dengan kondisi jika variabel a ketika di modulus dengan variabel B tidak sama dengan 0, maka\n",
    "        lakukan: variabel a ditambah dengan variabell A\n",
    "        6) Membuat perulangan dengan kondisi jika variabel b di modulus dengan variabel A tidak sama dengan 0, maka lakukan:\n",
    "        variabel b ditambah dengan variabel B\n",
    "        7) Membuat kondisi jika variabel a = variabel b maka lakukan: print hasil KPK dari variabel a dan b\n",
    "\n",
    "    - Pseucode:\n",
    "        a ← 3\n",
    "        b ← 4\n",
    "        A ← a\n",
    "        B ← b\n",
    "\n",
    "        While a mod B != 0:\n",
    "         a ← a + A\n",
    "        While b mod A != 0:\n",
    "         b ← b + B\n",
    "\n",
    "        If a == b then\n",
    "         print \"Hasil KPK dari A dan B adalah a\"\n",
    "         \n",
    "    - Code Program\n",
    "    "
   ]
  },
  {
   "cell_type": "code",
   "execution_count": 1,
   "id": "4900c10d",
   "metadata": {},
   "outputs": [
    {
     "name": "stdout",
     "output_type": "stream",
     "text": [
      "hasil KPK dari 3 dan 4 adalah 12\n"
     ]
    }
   ],
   "source": [
    "a = 3 \n",
    "b = 4 \n",
    "A = a \n",
    "B = b \n",
    "\n",
    "while a % B != 0:\n",
    "    a += A\n",
    "\n",
    "while b % A != 0:\n",
    "    b += B\n",
    "\n",
    "if a == b:\n",
    "    print(f\"hasil KPK dari {A} dan {B} adalah {a}\") "
   ]
  },
  {
   "cell_type": "raw",
   "id": "8fba26d9",
   "metadata": {},
   "source": [
    "2. Buatlah fungsi untuk menukar posisi dua variabel x dan y, dengan kasus:\n",
    "   Ada 2 buah manggis dan pisang, berikut kondisi:\n",
    "    - Manggis di piring 1\n",
    "    = Pisang di piring 2\n",
    "    - Piring 3 kosong"
   ]
  },
  {
   "cell_type": "raw",
   "id": "1dc5ec77",
   "metadata": {},
   "source": [
    "    - Algoritma\n",
    "        1) Buat variabel x dengan value \"manggis\n",
    "        2) Buat variabel y dengan value \"pisang\"\n",
    "        3) Buat variabel piring_3 yang akan menampung variabel x saat dipindahkan\n",
    "        4) Isi variabel piring_3 dengan nilai variabel x\n",
    "        5) Isi variabel x dengan nilai variabel y\n",
    "        6) Isi variabel y dengan nilai piring_3\n",
    "        7) Print nilai x dan y setelah penukaran posisi"
   ]
  },
  {
   "cell_type": "raw",
   "id": "573ee6bf",
   "metadata": {},
   "source": [
    "    - Pseucode\n",
    "        x ← \"manggis\"\n",
    "        y ← \"pisang\"\n",
    "        \n",
    "        print \"Kondisi awal: \\npiring 1 =\", x, \"\\npiring 2 =\", y\n",
    "        \n",
    "        piring_3 ← x\n",
    "        x ← y\n",
    "        y ← piring_3\n",
    "        \n",
    "        print \"\\nKondisi setelah menukar posisi: \\npiring 1 =\", x, \"\\npiring 2 =\", y\n",
    "\n",
    "    - Code Program"
   ]
  },
  {
   "cell_type": "code",
   "execution_count": 1,
   "id": "9f77910f",
   "metadata": {},
   "outputs": [
    {
     "name": "stdout",
     "output_type": "stream",
     "text": [
      "Kondisi awal: \n",
      "piring 1 = manggis \n",
      "piring 2 = pisang\n",
      "\n",
      "Kondisi setelah menukar posisi: \n",
      "piring 1 = pisang \n",
      "piring 2 = manggis\n"
     ]
    }
   ],
   "source": [
    "#2_Menukar posisi dua variabel x dan y, dengan kasus :\n",
    "#Ada 2 buah: manggis dan pisang. Manggis di piring 1, Pisang di piring 2. Piring 3 kosong.\n",
    "x = \"manggis\"\n",
    "y = \"pisang\"\n",
    "print(\"Kondisi awal: \\npiring 1 =\", x, \"\\npiring 2 =\", y)\n",
    "piring_3 = x\n",
    "x = y\n",
    "y = piring_3\n",
    "\n",
    "print(\"\\nKondisi setelah menukar posisi: \\npiring 1 =\", x, \"\\npiring 2 =\", y)"
   ]
  },
  {
   "cell_type": "raw",
   "id": "307af8d2",
   "metadata": {},
   "source": [
    "3. Diketahui sebuah segitiga memiliki ukuran sebagai berikut:\n",
    "    - Alas = 25\n",
    "    - Tinggi = 30\n",
    "    - Hitung luas dari segitiga tersebut.\n",
    "\n",
    "    - Algoritma\n",
    "        1) Buat variabel alas dengan nilai 25\n",
    "        2) Buat variabel tinggi dengan nilai 30\n",
    "        3) Buat variabel luas yang akan berisi nilai dari alas kali tinggi bagi 2\n",
    "        4) print nilai dari variabel luas\n",
    "\n",
    "    - Pseucode\n",
    "        alas ← 25\n",
    "        tinggi ← 30\n",
    "        luas ← alas * tinggi // 2\n",
    "        print \"luas segitiganya adalah\", luas\n",
    "\n",
    "- Code Program"
   ]
  },
  {
   "cell_type": "code",
   "execution_count": 2,
   "id": "7ad96713",
   "metadata": {},
   "outputs": [
    {
     "name": "stdout",
     "output_type": "stream",
     "text": [
      "luas segitiganya adalah 375\n"
     ]
    }
   ],
   "source": [
    "#3_Mencari luas segitiga dengan alas 25 dan tinggi 30\n",
    "alas = 25\n",
    "tinggi = 30\n",
    "luas = alas * tinggi // 2\n",
    "print(\"luas segitiganya adalah\", luas)"
   ]
  },
  {
   "cell_type": "raw",
   "id": "a527358c",
   "metadata": {},
   "source": [
    "4. Tentukan algoritma dan pseudocode luas jajar genjang (panjang = 5, tinggi = 3) \n",
    "\n",
    "    - Algoritma\n",
    "        1) Buat variabel alas dengan nilai 5\n",
    "        2) Buat variabel tinggi dengan nilai 3\n",
    "        3) Buat variabel luas dengan nilai dari hasil alas kali tinggi\n",
    "        4) Print hasil nilai luas\n",
    "\n",
    "    - Pseucode\n",
    "        alas ← 5\n",
    "        tinggi ← 3\n",
    "        luas ← alas * tinggi \n",
    "        print \"luas jajar genjangnya adalah\", luas\n",
    "\n",
    "- Code Program"
   ]
  },
  {
   "cell_type": "code",
   "execution_count": null,
   "id": "5f5f95e3",
   "metadata": {},
   "outputs": [],
   "source": [
    "#4_Mencari luas jajar genjang dengan panjang 5 dan tinggi 3\n",
    "alas = 5\n",
    "tinggi = 3\n",
    "luas = alas * tinggi\n",
    "print(\"luas jajar genjangnya adalah\", luas)"
   ]
  },
  {
   "cell_type": "raw",
   "id": "4faa8bad",
   "metadata": {},
   "source": [
    " 5. Tentukan algoritma dan pseudocode volume tabung (jari-jari = 3, tinggi = 5)\n",
    " \n",
    "    - Algoritma\n",
    "        1) Buat variabel pi dengan nilai 3.14\n",
    "        2) Buat variabel r dengan nilai 10\n",
    "        3) Buat variabel tinggi dengan nilai 15\n",
    "        4) Buat variabel luas dengan nilai dari hasil pi dikalikan r kuadrat dikalikan tinggi\n",
    "        5) Print hasil nilai luas\n",
    " \n",
    "    - Pseucode\n",
    "        pi ← 3.14\n",
    "        r ← 10\n",
    "        tinggi ← 15\n",
    "        luas ← pi * r ** 2 * tinggi\n",
    "        print \"volume tabungnya adalah\", int(luas)\n",
    " \n",
    "    - Code Program"
   ]
  },
  {
   "cell_type": "code",
   "execution_count": 1,
   "id": "3b47c84b",
   "metadata": {},
   "outputs": [
    {
     "name": "stdout",
     "output_type": "stream",
     "text": [
      "volume tabungnya adalah 4710\n"
     ]
    }
   ],
   "source": [
    "#5_Mencari volume tabung dengan jari-jari 3 dan tinggi 5\n",
    "\n",
    "pi = 3.14\n",
    "r = 10\n",
    "tinggi = 15\n",
    "luas = pi * r ** 2 * tinggi\n",
    "print(\"volume tabungnya adalah\", int(luas))"
   ]
  },
  {
   "cell_type": "raw",
   "id": "bca6b02c",
   "metadata": {},
   "source": [
    "6. Tentukan algoritma dan pseudocode volume kerucut dengan diameter 5 dan tinggi 4\n",
    "    - Algoritma\n",
    "        1) Buat variabel pi dengan nilai 3.14\n",
    "        2) Buat variabel d dengan nilai 5\n",
    "        3) Buat variabel r dengan nilai variabel d dibagi dua\n",
    "        4) Buat variabel tinggi dengan nilai 4\n",
    "        5) Buat variabel luas dengan nilai dari hasil satu per tiga dikali pi dikali r kuadrat dikali tinggi\n",
    "        6) Print hasil nilai luas\n",
    " \n",
    "    - Pseucode\n",
    "        pi ← 3.14\n",
    "        d ← 5\n",
    "        r ← d/2\n",
    "        tinggi ← 4\n",
    "        luas ← 1/3 * pi * r ** 2 * tinggi\n",
    "        print \"volume kerucutnyanya adalah\", int(luas)\n",
    " \n",
    "     - Code Program"
   ]
  },
  {
   "cell_type": "code",
   "execution_count": 3,
   "id": "3b546ddd",
   "metadata": {},
   "outputs": [
    {
     "name": "stdout",
     "output_type": "stream",
     "text": [
      "volume kerucutnyanya adalah 26\n"
     ]
    }
   ],
   "source": [
    "#6_Mencari volume kerucut dengan diameter 5 dan tinggi 4\n",
    "\n",
    "pi = 3.14\n",
    "d = 5\n",
    "r = d / 2\n",
    "tinggi = 4\n",
    "luas = 1 / 3 * pi * r ** 2 * tinggi\n",
    "print(\"volume kerucutnyanya adalah\", int(luas))"
   ]
  }
 ],
 "metadata": {
  "kernelspec": {
   "display_name": "Python 3 (ipykernel)",
   "language": "python",
   "name": "python3"
  },
  "language_info": {
   "codemirror_mode": {
    "name": "ipython",
    "version": 3
   },
   "file_extension": ".py",
   "mimetype": "text/x-python",
   "name": "python",
   "nbconvert_exporter": "python",
   "pygments_lexer": "ipython3",
   "version": "3.11.4"
  }
 },
 "nbformat": 4,
 "nbformat_minor": 5
}
